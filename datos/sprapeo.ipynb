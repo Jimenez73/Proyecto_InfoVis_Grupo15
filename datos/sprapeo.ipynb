{
 "cells": [
  {
   "cell_type": "code",
   "execution_count": 2,
   "id": "4e8626d7",
   "metadata": {},
   "outputs": [],
   "source": [
    "import numpy as np\n",
    "import pandas as pd\n",
    "from bs4 import BeautifulSoup as bs\n",
    "import requests\n",
    "import pycountry\n",
    "import plotly.express as px"
   ]
  },
  {
   "cell_type": "code",
   "execution_count": 3,
   "id": "5ca63ae4",
   "metadata": {},
   "outputs": [],
   "source": [
    "# Obtener la página\n",
    "url = \"https://data.worldobesity.org/tables/prevalence-of-adult-overweight-obesity-2/?regionid=-1&incomegroupid=-1&msr=msr&breakdown=c\"\n",
    "page = requests.get(url).text\n",
    "soup = bs(page)"
   ]
  },
  {
   "cell_type": "code",
   "execution_count": 4,
   "id": "b3aba862",
   "metadata": {},
   "outputs": [
    {
     "data": {
      "text/plain": [
       "1"
      ]
     },
     "execution_count": 4,
     "metadata": {},
     "output_type": "execute_result"
    }
   ],
   "source": [
    "# Saber cuantas tablas tiene la página\n",
    "tables = soup.find_all('table')\n",
    "len(tables)"
   ]
  },
  {
   "cell_type": "code",
   "execution_count": 5,
   "id": "9d4ca45f",
   "metadata": {},
   "outputs": [
    {
     "data": {
      "text/plain": [
       "<table class=\"results\" id=\"results\"><thead><tr><th class=\"sorttable_sorted\">Country</th><th class=\"nosort\">Income group</th><th class=\"\">Year</th><th class=\"\">Area</th><th class=\"\">Age</th><th class=\"\">Males<br/>Overweight<br/>(BMI 25-29.9kg/m²)</th><th class=\"\">Males<br/>Obesity<br/>(BMI ≥30kg/m²)</th><th class=\"\">Females<br/>Overweight<br/>(BMI 25-29.9kg/m²)</th><th class=\"\">Females<br/>Obesity<br/>(BMI ≥30kg/m²)</th><th class=\"\">All adults<br/>Overweight<br/>(BMI 25-29.9kg/m²)</th><th class=\"\">All adults<br/>Obesity<br/>(BMI ≥30kg/m²)</th></tr></thead><tbody><tr><td><span class=\"flag\" style=\"background-image:url('gfx/flags-iso/AF.svg');\"></span>Afghanistan</td><td>Low income</td><td>2018</td><td>National</td><td class=\"agebox\">18-69</td><td>25.90</td><td>11.90</td><td>25.60</td><td>23.50</td><td>25.80</td><td>17.00</td></tr><tr class=\"selfreport\"><td><span class=\"flag\" style=\"background-image:url('gfx/flags-iso/AL.svg');\"></span>Albania</td><td>Upper-middle income</td><td>2022</td><td>National</td><td class=\"agebox\">16+</td><td>51.00</td><td>11.30</td><td>37.50</td><td>13.40</td><td>44.20</td><td>12.40</td></tr><tr><td><span class=\"flag\" style=\"background-image:url('gfx/flags-iso/DZ.svg');\"></span>Algeria</td><td>Upper-middle income</td><td>2016-2017</td><td>National</td><td class=\"agebox\">18-69</td><td>34.20</td><td>14.10</td><td>33.20</td><td>30.10</td><td>33.80</td><td>21.80</td></tr><tr><td><span class=\"flag\" style=\"background-image:url('gfx/flags-iso/AS.svg');\"></span>American Samoa</td><td>High income</td><td>2017-2018</td><td>National</td><td class=\"agebox\">18+</td><td>-</td><td>77.10</td><td>-</td><td>82.70</td><td>-</td><td>80.20</td></tr><tr><td><span class=\"flag\" style=\"background-image:url('gfx/flags-iso/AD.svg');\"></span>Andorra</td><td>High income</td><td>2017-2018</td><td>National</td><td class=\"agebox\">18-75</td><td>42.50</td><td>13.00</td><td>27.00</td><td>14.40</td><td>35.20</td><td>13.60</td></tr><tr><td><span class=\"flag\" style=\"background-image:url('gfx/flags-iso/AO.svg');\"></span>Angola</td><td>Lower-middle income</td><td>2013-2014</td><td>Regional</td><td class=\"agebox\">15-64</td><td>10.70</td><td>2.80</td><td>20.50</td><td>10.60</td><td>15.80</td><td>6.80</td></tr><tr><td><span class=\"flag\" style=\"background-image:url('gfx/flags-iso/AI.svg');\"></span>Anguilla</td><td></td><td>2016</td><td>National</td><td class=\"agebox\">18-69</td><td>36.00</td><td>30.40</td><td>27.40</td><td>46.50</td><td>31.70</td><td>38.50</td></tr><tr><td><span class=\"flag\" style=\"background-image:url('gfx/flags-iso/AG.svg');\"></span>Antigua and Barbuda</td><td>High income</td><td>1993</td><td></td><td class=\"agebox\">40+</td><td>-</td><td>25.00</td><td>-</td><td>60.00</td><td>-</td><td>43.10</td></tr><tr><td><span class=\"flag\" style=\"background-image:url('gfx/flags-iso/AR.svg');\"></span>Argentina</td><td>Upper-middle income</td><td>2018</td><td>National</td><td class=\"agebox\">18+</td><td>38.70</td><td>31.40</td><td>29.10</td><td>33.40</td><td>33.70</td><td>32.40</td></tr><tr><td><span class=\"flag\" style=\"background-image:url('gfx/flags-iso/AM.svg');\"></span>Armenia</td><td>Upper-middle income</td><td>2016</td><td>National</td><td class=\"agebox\">18-69</td><td>31.40</td><td>14.00</td><td>25.10</td><td>25.00</td><td>28.20</td><td>19.50</td></tr><tr><td><span class=\"flag\" style=\"background-image:url('gfx/flags-iso/AW.svg');\"></span>Aruba</td><td>High income</td><td>2023</td><td>National</td><td class=\"agebox\">18-69</td><td>35.80</td><td>42.80</td><td>30.90</td><td>48.00</td><td>32.90</td><td>45.80</td></tr><tr><td><span class=\"flag\" style=\"background-image:url('gfx/flags-iso/AU.svg');\"></span>Australia</td><td>High income</td><td>2022-2023</td><td>National</td><td class=\"agebox\">18+</td><td>38.60</td><td>32.50</td><td>29.60</td><td>30.90</td><td>34.00</td><td>31.70</td></tr><tr class=\"selfreport\"><td><span class=\"flag\" style=\"background-image:url('gfx/flags-iso/AT.svg');\"></span>Austria</td><td>High income</td><td>2022</td><td>National</td><td class=\"agebox\">18+</td><td>42.70</td><td>18.70</td><td>27.60</td><td>16.70</td><td>35.00</td><td>17.70</td></tr><tr><td><span class=\"flag\" style=\"background-image:url('gfx/flags-iso/AZ.svg');\"></span>Azerbaijan</td><td>Upper-middle income</td><td>2017-2018</td><td>National</td><td class=\"agebox\">18-69</td><td>38.80</td><td>14.70</td><td>30.90</td><td>26.50</td><td>34.80</td><td>20.60</td></tr><tr><td><span class=\"flag\" style=\"background-image:url('gfx/flags-iso/BS.svg');\"></span>Bahamas</td><td>High income</td><td>2019</td><td>National</td><td class=\"agebox\">18-69</td><td>35.20</td><td>31.80</td><td>25.80</td><td>54.80</td><td>28.00</td><td>43.60</td></tr><tr><td><span class=\"flag\" style=\"background-image:url('gfx/flags-iso/BH.svg');\"></span>Bahrain</td><td>High income</td><td>2018</td><td>National</td><td class=\"agebox\">18+</td><td>38.70</td><td>33.00</td><td>30.90</td><td>42.50</td><td>35.50</td><td>36.90</td></tr><tr><td><span class=\"flag\" style=\"background-image:url('gfx/flags-iso/BD.svg');\"></span>Bangladesh</td><td>Lower-middle income</td><td>2022</td><td>National</td><td class=\"agebox\">M: 20+; F: 20-49</td><td>18.10</td><td>1.90</td><td>30.00</td><td>8.40</td><td>-</td><td>-</td></tr><tr><td><span class=\"flag\" style=\"background-image:url('gfx/flags-iso/BB.svg');\"></span>Barbados</td><td>High income</td><td>2011</td><td>National</td><td class=\"agebox\">25+</td><td>34.20</td><td>23.40</td><td>30.80</td><td>43.40</td><td>32.40</td><td>33.80</td></tr><tr><td><span class=\"flag\" style=\"background-image:url('gfx/flags-iso/BY.svg');\"></span>Belarus</td><td>Upper-middle income</td><td>2020</td><td>National</td><td class=\"agebox\">18-69</td><td>39.40</td><td>16.60</td><td>28.70</td><td>21.20</td><td>34.10</td><td>18.90</td></tr><tr class=\"selfreport\"><td><span class=\"flag\" style=\"background-image:url('gfx/flags-iso/BE.svg');\"></span>Belgium</td><td>High income</td><td>2022</td><td>National</td><td class=\"agebox\">18+</td><td>38.10</td><td>16.90</td><td>28.40</td><td>14.70</td><td>33.20</td><td>15.80</td></tr><tr><td><span class=\"flag\" style=\"background-image:url('gfx/flags-iso/BZ.svg');\"></span>Belize</td><td>Upper-middle income</td><td>2017</td><td>National</td><td class=\"agebox\">20-55</td><td>-</td><td>31.20</td><td>-</td><td>49.40</td><td>-</td><td>40.90</td></tr><tr><td><span class=\"flag\" style=\"background-image:url('gfx/flags-iso/BJ.svg');\"></span>Benin</td><td>Lower-middle income</td><td>2017-2018</td><td>National</td><td class=\"agebox\">15-49</td><td>-</td><td>-</td><td>16.40</td><td>9.40</td><td>-</td><td>-</td></tr><tr><td><span class=\"flag\" style=\"background-image:url('gfx/flags-iso/BJ.svg');\"></span>Benin</td><td>Lower-middle income</td><td>2015</td><td>National</td><td class=\"agebox\">18-69</td><td>14.40</td><td>4.70</td><td>17.00</td><td>10.10</td><td>15.70</td><td>7.40</td></tr><tr><td><span class=\"flag\" style=\"background-image:url('gfx/flags-iso/BM.svg');\"></span>Bermuda</td><td>High income</td><td>2013-2014</td><td>National</td><td class=\"agebox\">18+</td><td>49.60</td><td>29.40</td><td>29.60</td><td>40.00</td><td>40.20</td><td>34.40</td></tr><tr><td><span class=\"flag\" style=\"background-image:url('gfx/flags-iso/BT.svg');\"></span>Bhutan</td><td>Lower-middle income</td><td>2023</td><td>National</td><td class=\"agebox\">15-69</td><td>33.60</td><td>8.60</td><td>33.10</td><td>16.90</td><td>33.30</td><td>12.50</td></tr><tr><td><span class=\"flag\" style=\"background-image:url('gfx/flags-iso/BO.svg');\"></span>Bolivia</td><td>Lower-middle income</td><td>2019</td><td>National</td><td class=\"agebox\">18-69</td><td>39.10</td><td>20.80</td><td>35.10</td><td>31.80</td><td>37.10</td><td>26.20</td></tr><tr><td><span class=\"flag\" style=\"background-image:url('gfx/flags-iso/BA.svg');\"></span>Bosnia and Herzegovina</td><td>Upper-middle income</td><td>2012</td><td>National</td><td class=\"agebox\">25-64</td><td>49.90</td><td>20.30</td><td>31.90</td><td>24.10</td><td>40.40</td><td>22.30</td></tr><tr><td><span class=\"flag\" style=\"background-image:url('gfx/flags-iso/BW.svg');\"></span>Botswana</td><td>Upper-middle income</td><td>2014</td><td>National</td><td class=\"agebox\">15-69</td><td>14.70</td><td>5.10</td><td>23.20</td><td>19.10</td><td>18.80</td><td>11.80</td></tr><tr class=\"selfreport\"><td><span class=\"flag\" style=\"background-image:url('gfx/flags-iso/BR.svg');\"></span>Brazil</td><td>Upper-middle income</td><td>2023</td><td>National</td><td class=\"agebox\">18+</td><td>39.60</td><td>23.80</td><td>34.80</td><td>24.80</td><td>37.10</td><td>24.30</td></tr><tr><td><span class=\"flag\" style=\"background-image:url('gfx/flags-iso/VG.svg');\"></span>British Virgin Islands</td><td></td><td>2009</td><td>National</td><td class=\"agebox\">25-64</td><td>45.00</td><td>28.40</td><td>32.20</td><td>43.90</td><td>39.20</td><td>35.50</td></tr><tr><td><span class=\"flag\" style=\"background-image:url('gfx/flags-iso/BN.svg');\"></span>Brunei Darussalam</td><td>High income</td><td>2015-2016</td><td>National</td><td class=\"agebox\">18-69</td><td>36.30</td><td>26.90</td><td>33.00</td><td>29.50</td><td>34.60</td><td>28.20</td></tr><tr class=\"selfreport\"><td><span class=\"flag\" style=\"background-image:url('gfx/flags-iso/BG.svg');\"></span>Bulgaria</td><td>High income</td><td>2022</td><td>National</td><td class=\"agebox\">18+</td><td>49.70</td><td>13.70</td><td>34.90</td><td>9.90</td><td>42.00</td><td>11.70</td></tr><tr><td><span class=\"flag\" style=\"background-image:url('gfx/flags-iso/BF.svg');\"></span>Burkina Faso</td><td>Low income</td><td>2021</td><td>National</td><td class=\"agebox\">20-49</td><td>-</td><td>-</td><td>18.10</td><td>7.30</td><td>-</td><td>-</td></tr><tr><td><span class=\"flag\" style=\"background-image:url('gfx/flags-iso/BF.svg');\"></span>Burkina Faso</td><td>Low income</td><td>2013</td><td>National</td><td class=\"agebox\">25-64</td><td>10.80</td><td>2.90</td><td>7.20</td><td>6.00</td><td>8.90</td><td>4.50</td></tr><tr><td><span class=\"flag\" style=\"background-image:url('gfx/flags-iso/BI.svg');\"></span>Burundi</td><td>Low income</td><td>2016-2017</td><td>National</td><td class=\"agebox\">15-49</td><td>-</td><td>-</td><td>6.10</td><td>1.70</td><td>-</td><td>-</td></tr><tr><td><span class=\"flag\" style=\"background-image:url('gfx/flags-iso/CV.svg');\"></span>Cabo Verde</td><td>Upper-middle income</td><td>2020</td><td>National</td><td class=\"agebox\">18-69</td><td>27.50</td><td>6.70</td><td>32.40</td><td>22.50</td><td>29.90</td><td>14.30</td></tr><tr><td><span class=\"flag\" style=\"background-image:url('gfx/flags-iso/KH.svg');\"></span>Cambodia</td><td>Lower-middle income</td><td>2021-2022</td><td>National</td><td class=\"agebox\">20-49</td><td>-</td><td>-</td><td>26.30</td><td>6.30</td><td>-</td><td>-</td></tr><tr><td><span class=\"flag\" style=\"background-image:url('gfx/flags-iso/KH.svg');\"></span>Cambodia</td><td>Lower-middle income</td><td>2010</td><td>National</td><td class=\"agebox\">25-64</td><td>10.50</td><td>1.10</td><td>16.30</td><td>2.70</td><td>13.50</td><td>1.90</td></tr><tr><td><span class=\"flag\" style=\"background-image:url('gfx/flags-iso/CM.svg');\"></span>Cameroon</td><td>Lower-middle income</td><td>2018</td><td>National</td><td class=\"agebox\">15-49</td><td>-</td><td>-</td><td>23.50</td><td>13.60</td><td>-</td><td>-</td></tr><tr><td><span class=\"flag\" style=\"background-image:url('gfx/flags-iso/CM.svg');\"></span>Cameroon</td><td>Lower-middle income</td><td>2003</td><td>Regional</td><td class=\"agebox\">15+</td><td>21.60</td><td>6.50</td><td>28.60</td><td>19.50</td><td>25.10</td><td>13.00</td></tr><tr><td><span class=\"flag\" style=\"background-image:url('gfx/flags-iso/CA.svg');\"></span>Canada</td><td>High income</td><td>2019</td><td>National</td><td class=\"agebox\">18-79</td><td>39.60</td><td>26.70</td><td>31.40</td><td>22.00</td><td>35.50</td><td>24.30</td></tr><tr class=\"selfreport\"><td><span class=\"flag\" style=\"background-image:url('gfx/flags-iso/ES-CN.svg');\"></span>Canary Islands (Sp.)</td><td></td><td>2021</td><td>National</td><td class=\"agebox\">18+</td><td>37.93</td><td>18.14</td><td>33.02</td><td>18.05</td><td>35.44</td><td>18.10</td></tr><tr><td><span class=\"flag\" style=\"background-image:url('gfx/flags-iso/KY.svg');\"></span>Cayman Islands</td><td>High income</td><td>2023</td><td>National</td><td class=\"agebox\">18-69</td><td>41.00</td><td>24.60</td><td>32.70</td><td>41.10</td><td>37.00</td><td>32.70</td></tr><tr><td><span class=\"flag\" style=\"background-image:url('gfx/flags-iso/CF.svg');\"></span>Central African Republic</td><td>Low income</td><td>2017</td><td>Regional</td><td class=\"agebox\">25-64</td><td>12.80</td><td>6.90</td><td>19.30</td><td>12.70</td><td>16.00</td><td>9.70</td></tr><tr><td><span class=\"flag\" style=\"background-image:url('gfx/flags-iso/TD.svg');\"></span>Chad</td><td>Low income</td><td>2014-2015</td><td>National</td><td class=\"agebox\">15-49</td><td>-</td><td>-</td><td>9.00</td><td>2.50</td><td>-</td><td>-</td></tr><tr><td><span class=\"flag\" style=\"background-image:url('gfx/flags-iso/TD.svg');\"></span>Chad</td><td>Low income</td><td>2007</td><td>Regional</td><td class=\"agebox\">25-64</td><td>21.50</td><td>8.40</td><td>23.80</td><td>19.90</td><td>22.90</td><td>13.70</td></tr><tr><td><span class=\"flag\" style=\"background-image:url('gfx/flags-iso/CL.svg');\"></span>Chile</td><td>High income</td><td>2016-2017</td><td>National</td><td class=\"agebox\">15+</td><td>43.30</td><td>30.30</td><td>36.40</td><td>38.40</td><td>39.80</td><td>34.40</td></tr><tr><td><span class=\"flag\" style=\"background-image:url('gfx/flags-iso/CN.svg');\"></span>China</td><td>Upper-middle income</td><td>2015</td><td>National</td><td class=\"agebox\">18-59</td><td>36.36</td><td>6.30</td><td>28.87</td><td>6.79</td><td>33.07</td><td>6.51</td></tr><tr><td><span class=\"flag\" style=\"background-image:url('gfx/flags-iso/CO.svg');\"></span>Colombia</td><td>Upper-middle income</td><td>2015-2016</td><td>National</td><td class=\"agebox\">18-64</td><td>38.40</td><td>14.40</td><td>37.20</td><td>22.40</td><td>37.80</td><td>18.70</td></tr><tr><td><span class=\"flag\" style=\"background-image:url('gfx/flags-iso/KM.svg');\"></span>Comoros</td><td>Lower-middle income</td><td>2012</td><td>National</td><td class=\"agebox\">15-49</td><td>-</td><td>-</td><td>24.60</td><td>11.80</td><td>-</td><td>-</td></tr><tr><td><span class=\"flag\" style=\"background-image:url('gfx/flags-iso/KM.svg');\"></span>Comoros</td><td>Lower-middle income</td><td>2011</td><td>National</td><td class=\"agebox\">25-64</td><td>22.10</td><td>5.50</td><td>30.00</td><td>22.40</td><td>25.90</td><td>13.50</td></tr><tr><td><span class=\"flag\" style=\"background-image:url('gfx/flags-iso/CG.svg');\"></span>Congo</td><td>Lower-middle income</td><td>2011-2012</td><td>National</td><td class=\"agebox\">15-49</td><td>-</td><td>-</td><td>17.30</td><td>8.80</td><td>-</td><td>-</td></tr><tr><td><span class=\"flag\" style=\"background-image:url('gfx/flags-iso/CG.svg');\"></span>Congo</td><td>Lower-middle income</td><td>2004</td><td>Regional</td><td class=\"agebox\">25-64</td><td>15.50</td><td>2.50</td><td>22.10</td><td>15.00</td><td>18.70</td><td>8.60</td></tr><tr><td><span class=\"flag\" style=\"background-image:url('gfx/flags-iso/CK.svg');\"></span>Cook Islands</td><td></td><td>2022</td><td>National</td><td class=\"agebox\">18-69</td><td>18.30</td><td>74.20</td><td>16.10</td><td>76.80</td><td>17.60</td><td>75.00</td></tr><tr><td><span class=\"flag\" style=\"background-image:url('gfx/flags-iso/CR.svg');\"></span>Costa Rica</td><td>High income</td><td>2008-2009</td><td>National</td><td class=\"agebox\">20-64</td><td>43.50</td><td>18.90</td><td>35.30</td><td>31.30</td><td>39.40</td><td>25.10</td></tr><tr><td><span class=\"flag\" style=\"background-image:url('gfx/flags-iso/CI.svg');\"></span>Cote d'Ivoire</td><td>Lower-middle income</td><td>2021</td><td>National</td><td class=\"agebox\">20-49</td><td>-</td><td>-</td><td>24.10</td><td>14.70</td><td>-</td><td>-</td></tr><tr><td><span class=\"flag\" style=\"background-image:url('gfx/flags-iso/CI.svg');\"></span>Cote d'Ivoire</td><td>Lower-middle income</td><td>2005</td><td>National</td><td class=\"agebox\">15-64</td><td>18.60</td><td>5.10</td><td>24.80</td><td>11.20</td><td>22.00</td><td>8.50</td></tr><tr class=\"selfreport\"><td><span class=\"flag\" style=\"background-image:url('gfx/flags-iso/HR.svg');\"></span>Croatia</td><td>High income</td><td>2022</td><td>National</td><td class=\"agebox\">18+</td><td>49.30</td><td>21.10</td><td>33.90</td><td>12.70</td><td>41.30</td><td>16.70</td></tr><tr><td><span class=\"flag\" style=\"background-image:url('gfx/flags-iso/CU.svg');\"></span>Cuba</td><td>Upper-middle income</td><td>2010</td><td>National</td><td class=\"agebox\">18+</td><td>32.70</td><td>12.80</td><td>30.80</td><td>18.80</td><td>31.70</td><td>15.80</td></tr><tr class=\"selfreport\"><td><span class=\"flag\" style=\"background-image:url('gfx/flags-iso/CY.svg');\"></span>Cyprus</td><td>High income</td><td>2022</td><td>National</td><td class=\"agebox\">18+</td><td>42.60</td><td>16.10</td><td>27.10</td><td>11.60</td><td>34.60</td><td>13.80</td></tr><tr class=\"selfreport\"><td><span class=\"flag\" style=\"background-image:url('gfx/flags-iso/CZ.svg');\"></span>Czechia</td><td>High income</td><td>2022</td><td>National</td><td class=\"agebox\">18+</td><td>45.50</td><td>18.50</td><td>32.30</td><td>17.10</td><td>38.70</td><td>17.80</td></tr><tr><td><span class=\"flag\" style=\"background-image:url('gfx/flags-iso/CD.svg');\"></span>Democratic Republic of Congo</td><td>Low income</td><td>2023-2024</td><td>National</td><td class=\"agebox\">20-49</td><td>8.10</td><td>1.30</td><td>15.30</td><td>7.60</td><td>11.70</td><td>4.50</td></tr><tr class=\"selfreport\"><td><span class=\"flag\" style=\"background-image:url('gfx/flags-iso/DK.svg');\"></span>Denmark</td><td>High income</td><td>2023</td><td>National</td><td class=\"agebox\">16+</td><td>40.40</td><td>18.10</td><td>28.40</td><td>19.20</td><td>34.20</td><td>18.70</td></tr><tr><td><span class=\"flag\" style=\"background-image:url('gfx/flags-iso/DM.svg');\"></span>Dominica</td><td>Upper-middle income</td><td>2007-2008</td><td>National</td><td class=\"agebox\">15-64</td><td>20.90</td><td>8.60</td><td>29.20</td><td>32.70</td><td>24.90</td><td>20.20</td></tr><tr><td><span class=\"flag\" style=\"background-image:url('gfx/flags-iso/DO.svg');\"></span>Dominican Republic</td><td>Upper-middle income</td><td>2013</td><td>National</td><td class=\"agebox\">15-49</td><td>27.80</td><td>13.00</td><td>29.70</td><td>20.80</td><td>28.10</td><td>16.60</td></tr><tr><td><span class=\"flag\" style=\"background-image:url('gfx/flags-iso/EC.svg');\"></span>Ecuador</td><td>Upper-middle income</td><td>2018</td><td>National</td><td class=\"agebox\">18-69</td><td>39.40</td><td>20.30</td><td>36.50</td><td>30.90</td><td>37.90</td><td>25.70</td></tr><tr><td><span class=\"flag\" style=\"background-image:url('gfx/flags-iso/EG.svg');\"></span>Egypt</td><td>Lower-middle income</td><td>2021-2022</td><td>National</td><td class=\"agebox\">15-49</td><td>-</td><td>-</td><td>30.10</td><td>55.80</td><td>-</td><td>-</td></tr><tr><td><span class=\"flag\" style=\"background-image:url('gfx/flags-iso/EG.svg');\"></span>Egypt</td><td>Lower-middle income</td><td>2016-2017</td><td>National</td><td class=\"agebox\">15-69</td><td>29.00</td><td>24.80</td><td>25.30</td><td>48.80</td><td>27.30</td><td>35.70</td></tr><tr><td><span class=\"flag\" style=\"background-image:url('gfx/flags-iso/SV.svg');\"></span>El Salvador</td><td>Upper-middle income</td><td>2014-2015</td><td>National</td><td class=\"agebox\">20+</td><td>39.50</td><td>19.50</td><td>36.60</td><td>33.20</td><td>37.90</td><td>27.30</td></tr><tr><td><span class=\"flag\" style=\"background-image:url('gfx/flags-iso/GB-ENG.svg');\"></span>England</td><td></td><td>2022</td><td>National</td><td class=\"agebox\">16+</td><td>39.00</td><td>28.00</td><td>31.00</td><td>30.00</td><td>35.00</td><td>29.00</td></tr><tr><td><span class=\"flag\" style=\"background-image:url('gfx/flags-iso/GQ.svg');\"></span>Equatorial Guinea</td><td>Upper-middle income</td><td>2011</td><td>National</td><td class=\"agebox\">M: 15-59; F: 15-49</td><td>18.70</td><td>4.50</td><td>25.00</td><td>12.70</td><td>21.40</td><td>8.30</td></tr><tr><td><span class=\"flag\" style=\"background-image:url('gfx/flags-iso/ER.svg');\"></span>Eritrea</td><td>Low income</td><td>2004</td><td>National</td><td class=\"agebox\">15-64</td><td>9.20</td><td>2.00</td><td>13.60</td><td>4.90</td><td>11.10</td><td>3.40</td></tr><tr class=\"selfreport\"><td><span class=\"flag\" style=\"background-image:url('gfx/flags-iso/EE.svg');\"></span>Estonia</td><td>High income</td><td>2022</td><td>National</td><td class=\"agebox\">18+</td><td>41.30</td><td>20.70</td><td>30.10</td><td>23.30</td><td>35.20</td><td>22.10</td></tr><tr><td><span class=\"flag\" style=\"background-image:url('gfx/flags-iso/SZ.svg');\"></span>Eswatini</td><td>Lower-middle income</td><td>2014</td><td>National</td><td class=\"agebox\">15-69</td><td>17.20</td><td>8.80</td><td>28.90</td><td>30.90</td><td>23.40</td><td>20.50</td></tr><tr><td><span class=\"flag\" style=\"background-image:url('gfx/flags-iso/ET.svg');\"></span>Ethiopia</td><td>Low income</td><td>2016</td><td>National</td><td class=\"agebox\">M: 15-59; F: 15-49</td><td>3.10</td><td>0.40</td><td>6.00</td><td>1.50</td><td>4.40</td><td>1.00</td></tr><tr><td><span class=\"flag\" style=\"background-image:url('gfx/flags-iso/FM.svg');\"></span>Federated States of Micronesia</td><td>Lower-middle income</td><td>2014</td><td>Regional</td><td class=\"agebox\">18-69</td><td>26.60</td><td>27.50</td><td>25.10</td><td>49.60</td><td>26.00</td><td>37.10</td></tr><tr><td><span class=\"flag\" style=\"background-image:url('gfx/flags-iso/FJ.svg');\"></span>Fiji</td><td>Upper-middle income</td><td>2021</td><td>National</td><td class=\"agebox\">15-49</td><td>-</td><td>-</td><td>25.20</td><td>44.70</td><td>-</td><td>-</td></tr><tr><td><span class=\"flag\" style=\"background-image:url('gfx/flags-iso/FJ.svg');\"></span>Fiji</td><td>Upper-middle income</td><td>2015</td><td>National</td><td class=\"agebox\">18+</td><td>33.50</td><td>21.50</td><td>29.20</td><td>42.00</td><td>31.40</td><td>31.70</td></tr><tr><td><span class=\"flag\" style=\"background-image:url('gfx/flags-iso/FI.svg');\"></span>Finland</td><td>High income</td><td>2023</td><td>National</td><td class=\"agebox\">20+</td><td>44.10</td><td>26.90</td><td>34.20</td><td>29.60</td><td>-</td><td>-</td></tr><tr class=\"selfreport\"><td><span class=\"flag\" style=\"background-image:url('gfx/flags-iso/FR.svg');\"></span>France</td><td>High income</td><td>2022</td><td>National</td><td class=\"agebox\">18+</td><td>37.70</td><td>15.10</td><td>25.30</td><td>15.30</td><td>31.20</td><td>15.20</td></tr><tr class=\"selfreport\"><td><span class=\"flag\" style=\"background-image:url('gfx/flags-iso/GF.svg');\"></span>French Guiana</td><td></td><td>2019</td><td>National</td><td class=\"agebox\">15+</td><td>34.00</td><td>15.00</td><td>28.00</td><td>23.00</td><td>30.00</td><td>19.00</td></tr><tr><td><span class=\"flag\" style=\"background-image:url('gfx/flags-iso/PF.svg');\"></span>French Polynesia</td><td>High income</td><td>2010</td><td>National</td><td class=\"agebox\">18-64</td><td>32.20</td><td>38.90</td><td>26.80</td><td>41.90</td><td>29.60</td><td>40.40</td></tr><tr><td><span class=\"flag\" style=\"background-image:url('gfx/flags-iso/GA.svg');\"></span>Gabon</td><td>Upper-middle income</td><td>2019-2021</td><td>National</td><td class=\"agebox\">15-49</td><td>20.90</td><td>8.00</td><td>23.30</td><td>24.70</td><td>22.10</td><td>16.20</td></tr><tr><td><span class=\"flag\" style=\"background-image:url('gfx/flags-iso/GM.svg');\"></span>Gambia</td><td>Low income</td><td>2019</td><td>National</td><td class=\"agebox\">35+</td><td>21.30</td><td>3.90</td><td>27.90</td><td>20.20</td><td>24.60</td><td>12.00</td></tr><tr><td><span class=\"flag\" style=\"background-image:url('gfx/flags-iso/GE.svg');\"></span>Georgia</td><td>Upper-middle income</td><td>2016</td><td>National</td><td class=\"agebox\">18-69</td><td>35.30</td><td>30.20</td><td>27.90</td><td>36.00</td><td>31.40</td><td>33.20</td></tr><tr class=\"selfreport\"><td><span class=\"flag\" style=\"background-image:url('gfx/flags-iso/DE.svg');\"></span>Germany</td><td>High income</td><td>2019</td><td>National</td><td class=\"agebox\">18+</td><td>41.60</td><td>19.10</td><td>27.50</td><td>19.00</td><td>34.50</td><td>19.00</td></tr><tr><td><span class=\"flag\" style=\"background-image:url('gfx/flags-iso/GH.svg');\"></span>Ghana</td><td>Lower-middle income</td><td>2022</td><td>National</td><td class=\"agebox\">20-49</td><td>16.80</td><td>3.90</td><td>28.20</td><td>22.00</td><td>-</td><td>-</td></tr><tr class=\"selfreport\"><td><span class=\"flag\" style=\"background-image:url('gfx/flags-iso/GI.svg');\"></span>Gibraltar (UK)</td><td>High income</td><td>2021</td><td>National</td><td class=\"agebox\">16+</td><td>44.10</td><td>28.90</td><td>30.70</td><td>28.80</td><td>36.80</td><td>28.90</td></tr><tr class=\"selfreport\"><td><span class=\"flag\" style=\"background-image:url('gfx/flags-iso/GR.svg');\"></span>Greece</td><td>High income</td><td>2022</td><td>National</td><td class=\"agebox\">18+</td><td>50.80</td><td>12.30</td><td>35.70</td><td>11.60</td><td>42.90</td><td>12.00</td></tr><tr><td><span class=\"flag\" style=\"background-image:url('gfx/flags-iso/GL.svg');\"></span>Greenland</td><td>High income</td><td>2018</td><td>National</td><td class=\"agebox\">15-94</td><td>-</td><td>24.00</td><td>-</td><td>32.00</td><td>-</td><td>28.00</td></tr><tr><td><span class=\"flag\" style=\"background-image:url('gfx/flags-iso/GD.svg');\"></span>Grenada</td><td>Upper-middle income</td><td>2010-2011</td><td>National</td><td class=\"agebox\">25-64</td><td>34.40</td><td>13.90</td><td>32.60</td><td>36.60</td><td>33.50</td><td>25.20</td></tr><tr class=\"selfreport\"><td><span class=\"flag\" style=\"background-image:url('gfx/flags-iso/GP.svg');\"></span>Guadeloupe</td><td></td><td>2019</td><td>National</td><td class=\"agebox\">15+</td><td>36.00</td><td>14.00</td><td>30.00</td><td>23.00</td><td>33.00</td><td>19.00</td></tr><tr><td><span class=\"flag\" style=\"background-image:url('gfx/flags-iso/GT.svg');\"></span>Guatemala</td><td>Upper-middle income</td><td>2017</td><td>National</td><td class=\"agebox\">15-49</td><td>-</td><td>-</td><td>40.00</td><td>26.10</td><td>-</td><td>-</td></tr><tr><td><span class=\"flag\" style=\"background-image:url('gfx/flags-iso/GN.svg');\"></span>Guinea</td><td>Lower-middle income</td><td>2018</td><td>National</td><td class=\"agebox\">15-49</td><td>-</td><td>-</td><td>18.20</td><td>8.40</td><td>-</td><td>-</td></tr><tr><td><span class=\"flag\" style=\"background-image:url('gfx/flags-iso/GY.svg');\"></span>Guyana</td><td>High income</td><td>2016</td><td>National</td><td class=\"agebox\">18-69</td><td>25.80</td><td>14.00</td><td>27.80</td><td>34.00</td><td>26.70</td><td>23.60</td></tr><tr><td><span class=\"flag\" style=\"background-image:url('gfx/flags-iso/HT.svg');\"></span>Haiti</td><td>Lower-middle income</td><td>2016-2017</td><td>National</td><td class=\"agebox\">15-49</td><td>-</td><td>-</td><td>20.50</td><td>11.20</td><td>-</td><td>-</td></tr><tr><td><span class=\"flag\" style=\"background-image:url('gfx/flags-iso/HN.svg');\"></span>Honduras</td><td>Lower-middle income</td><td>2011-2012</td><td>National</td><td class=\"agebox\">15-49</td><td>-</td><td>-</td><td>29.20</td><td>22.10</td><td>-</td><td>-</td></tr><tr><td><span class=\"flag\" style=\"background-image:url('gfx/flags-iso/HK.svg');\"></span>Hong Kong</td><td>High income</td><td>2020-2022</td><td>National</td><td class=\"agebox\">15-84</td><td>30.70</td><td>8.70</td><td>21.20</td><td>5.20</td><td>25.70</td><td>6.90</td></tr><tr class=\"selfreport\"><td><span class=\"flag\" style=\"background-image:url('gfx/flags-iso/HU.svg');\"></span>Hungary</td><td>High income</td><td>2022</td><td>National</td><td class=\"agebox\">18+</td><td>40.70</td><td>24.60</td><td>32.10</td><td>20.00</td><td>36.20</td><td>22.20</td></tr><tr class=\"selfreport\"><td><span class=\"flag\" style=\"background-image:url('gfx/flags-iso/IS.svg');\"></span>Iceland</td><td>High income</td><td>2019</td><td>National</td><td class=\"agebox\">18+</td><td>47.10</td><td>24.30</td><td>33.10</td><td>20.50</td><td>39.70</td><td>22.30</td></tr><tr><td><span class=\"flag\" style=\"background-image:url('gfx/flags-iso/IN.svg');\"></span>India</td><td>Lower-middle income</td><td>2019-2021</td><td>National</td><td class=\"agebox\">15-49</td><td>18.90</td><td>4.00</td><td>17.60</td><td>6.40</td><td>18.30</td><td>5.20</td></tr><tr><td><span class=\"flag\" style=\"background-image:url('gfx/flags-iso/ID.svg');\"></span>Indonesia</td><td>Upper-middle income</td><td>2013</td><td>National</td><td class=\"agebox\">19+</td><td>16.30</td><td>3.00</td><td>24.20</td><td>8.20</td><td>20.20</td><td>5.60</td></tr><tr><td><span class=\"flag\" style=\"background-image:url('gfx/flags-iso/IR.svg');\"></span>Iran</td><td>Upper-middle income</td><td>2021</td><td>National</td><td class=\"agebox\">18+</td><td>39.60</td><td>17.20</td><td>36.80</td><td>31.20</td><td>38.10</td><td>25.00</td></tr><tr><td><span class=\"flag\" style=\"background-image:url('gfx/flags-iso/IQ.svg');\"></span>Iraq</td><td>Upper-middle income</td><td>2015</td><td>National</td><td class=\"agebox\">18+</td><td>33.10</td><td>25.60</td><td>30.60</td><td>42.60</td><td>31.90</td><td>33.50</td></tr><tr class=\"selfreport\"><td><span class=\"flag\" style=\"background-image:url('gfx/flags-iso/IE.svg');\"></span>Ireland</td><td>High income</td><td>2023-2024</td><td>National</td><td class=\"agebox\">15+</td><td>41.00</td><td>22.00</td><td>30.00</td><td>20.00</td><td>35.00</td><td>21.00</td></tr><tr class=\"selfreport\"><td><span class=\"flag\" style=\"background-image:url('gfx/flags-iso/IM.svg');\"></span>Isle of Man</td><td>High income</td><td>2019</td><td>National</td><td class=\"agebox\">18+</td><td>40.60</td><td>31.40</td><td>34.30</td><td>27.70</td><td>36.40</td><td>29.00</td></tr><tr class=\"selfreport\"><td><span class=\"flag\" style=\"background-image:url('gfx/flags-iso/IL.svg');\"></span>Israel</td><td>High income</td><td>2018-2020</td><td>National</td><td class=\"agebox\">21+</td><td>43.00</td><td>18.90</td><td>33.70</td><td>16.60</td><td>38.30</td><td>17.70</td></tr><tr class=\"selfreport\"><td><span class=\"flag\" style=\"background-image:url('gfx/flags-iso/IT.svg');\"></span>Italy</td><td>High income</td><td>2023-2024</td><td>National</td><td class=\"agebox\">18-69</td><td>40.70</td><td>11.20</td><td>24.60</td><td>9.60</td><td>32.60</td><td>10.40</td></tr><tr><td><span class=\"flag\" style=\"background-image:url('gfx/flags-iso/JM.svg');\"></span>Jamaica</td><td>Upper-middle income</td><td>2016-2017</td><td>National</td><td class=\"agebox\">15-75</td><td>24.00</td><td>14.90</td><td>26.40</td><td>41.20</td><td>25.20</td><td>28.60</td></tr><tr><td><span class=\"flag\" style=\"background-image:url('gfx/flags-iso/JP.svg');\"></span>Japan</td><td>High income</td><td>2023</td><td>National</td><td class=\"agebox\">20+</td><td>26.80</td><td>4.70</td><td>16.70</td><td>4.40</td><td>21.40</td><td>4.60</td></tr><tr class=\"selfreport\"><td><span class=\"flag\" style=\"background-image:url('gfx/flags-iso/JE.svg');\"></span>Jersey</td><td></td><td>2021</td><td>National</td><td class=\"agebox\">16+</td><td>40.00</td><td>17.00</td><td>24.00</td><td>19.00</td><td>32.00</td><td>18.00</td></tr><tr><td><span class=\"flag\" style=\"background-image:url('gfx/flags-iso/JO.svg');\"></span>Jordan</td><td>Lower-middle income</td><td>2023</td><td>National</td><td class=\"agebox\">20-49</td><td>-</td><td>-</td><td>32.20</td><td>31.90</td><td>-</td><td>-</td></tr><tr><td><span class=\"flag\" style=\"background-image:url('gfx/flags-iso/JO.svg');\"></span>Jordan</td><td>Lower-middle income</td><td>2017</td><td>National</td><td class=\"agebox\">18-90</td><td>41.20</td><td>36.10</td><td>29.10</td><td>48.20</td><td>44.70</td><td>32.70</td></tr><tr><td><span class=\"flag\" style=\"background-image:url('gfx/flags-iso/KZ.svg');\"></span>Kazakhstan</td><td>Upper-middle income</td><td>2012</td><td>National</td><td class=\"agebox\">15+</td><td>36.80</td><td>15.90</td><td>32.70</td><td>30.60</td><td>34.70</td><td>23.50</td></tr><tr><td><span class=\"flag\" style=\"background-image:url('gfx/flags-iso/KE.svg');\"></span>Kenya</td><td>Lower-middle income</td><td>2022</td><td>National</td><td class=\"agebox\">20-49</td><td>14.60</td><td>4.20</td><td>27.50</td><td>17.30</td><td>21.10</td><td>10.80</td></tr><tr><td><span class=\"flag\" style=\"background-image:url('gfx/flags-iso/KI.svg');\"></span>Kiribati</td><td>Lower-middle income</td><td>2018</td><td>South Tarawa and Butaritari</td><td class=\"agebox\"></td><td>-</td><td>-</td><td>-</td><td>-</td><td>28.60</td><td>56.70</td></tr><tr><td><span class=\"flag\" style=\"background-image:url('gfx/flags-iso/KI.svg');\"></span>Kiribati</td><td>Lower-middle income</td><td>2015-2016</td><td>National</td><td class=\"agebox\">18-69</td><td>44.60</td><td>32.10</td><td>28.70</td><td>55.60</td><td>35.50</td><td>45.60</td></tr><tr><td><span class=\"flag\" style=\"background-image:url('gfx/flags-iso/KW.svg');\"></span>Kuwait</td><td>High income</td><td>2024</td><td>National</td><td class=\"agebox\">19+</td><td>-</td><td>30.25</td><td>-</td><td>35.48</td><td>41.35</td><td>33.80</td></tr><tr><td><span class=\"flag\" style=\"background-image:url('gfx/flags-iso/KG.svg');\"></span>Kyrgyzstan</td><td>Lower-middle income</td><td>2021</td><td>National</td><td class=\"agebox\">15-49</td><td>-</td><td>-</td><td>27.20</td><td>17.00</td><td>-</td><td>-</td></tr><tr><td><span class=\"flag\" style=\"background-image:url('gfx/flags-iso/KG.svg');\"></span>Kyrgyzstan</td><td>Lower-middle income</td><td>2013</td><td>National</td><td class=\"agebox\">25-64</td><td>31.80</td><td>17.60</td><td>34.50</td><td>29.00</td><td>33.10</td><td>23.10</td></tr><tr><td><span class=\"flag\" style=\"background-image:url('gfx/flags-iso/LA.svg');\"></span>Laos</td><td>Lower-middle income</td><td>2013</td><td>National</td><td class=\"agebox\">18-64</td><td>17.90</td><td>3.50</td><td>20.90</td><td>7.10</td><td>19.70</td><td>5.60</td></tr><tr class=\"selfreport\"><td><span class=\"flag\" style=\"background-image:url('gfx/flags-iso/LV.svg');\"></span>Latvia</td><td>High income</td><td>2022</td><td>National</td><td class=\"agebox\">18+</td><td>42.20</td><td>21.90</td><td>33.20</td><td>24.40</td><td>37.10</td><td>23.30</td></tr><tr><td><span class=\"flag\" style=\"background-image:url('gfx/flags-iso/LB.svg');\"></span>Lebanon</td><td>Lower-middle income</td><td>2023</td><td>National</td><td class=\"agebox\">15-49</td><td>-</td><td>-</td><td>28.60</td><td>25.00</td><td>-</td><td>-</td></tr><tr><td><span class=\"flag\" style=\"background-image:url('gfx/flags-iso/LB.svg');\"></span>Lebanon</td><td>Lower-middle income</td><td>2016-2017</td><td>National</td><td class=\"agebox\">18-69</td><td>44.70</td><td>26.60</td><td>31.40</td><td>27.50</td><td>37.90</td><td>27.00</td></tr><tr><td><span class=\"flag\" style=\"background-image:url('gfx/flags-iso/LS.svg');\"></span>Lesotho</td><td>Lower-middle income</td><td>2023-2024</td><td>National</td><td class=\"agebox\">20-49</td><td>15.30</td><td>4.60</td><td>26.50</td><td>35.40</td><td>-</td><td>-</td></tr><tr><td><span class=\"flag\" style=\"background-image:url('gfx/flags-iso/LR.svg');\"></span>Liberia</td><td>Low income</td><td>2022</td><td>National</td><td class=\"agebox\">18-69</td><td>15.80</td><td>17.70</td><td>23.30</td><td>22.20</td><td>19.40</td><td>19.90</td></tr><tr><td><span class=\"flag\" style=\"background-image:url('gfx/flags-iso/LY.svg');\"></span>Libya</td><td>Upper-middle income</td><td>2015</td><td>Benghazi</td><td class=\"agebox\">20-65</td><td>32.40</td><td>33.80</td><td>33.20</td><td>47.40</td><td>32.90</td><td>42.40</td></tr><tr class=\"selfreport\"><td><span class=\"flag\" style=\"background-image:url('gfx/flags-iso/LT.svg');\"></span>Lithuania</td><td>High income</td><td>2022</td><td>National</td><td class=\"agebox\">16+</td><td>43.10</td><td>19.80</td><td>34.20</td><td>20.70</td><td>38.20</td><td>20.30</td></tr><tr class=\"selfreport\"><td><span class=\"flag\" style=\"background-image:url('gfx/flags-iso/LU.svg');\"></span>Luxembourg</td><td>High income</td><td>2022</td><td>National</td><td class=\"agebox\">18+</td><td>40.90</td><td>19.00</td><td>23.60</td><td>14.70</td><td>32.70</td><td>17.00</td></tr><tr><td><span class=\"flag\" style=\"background-image:url('gfx/flags-iso/MG.svg');\"></span>Madagascar</td><td>Low income</td><td>2021</td><td>National</td><td class=\"agebox\">15-49</td><td>-</td><td>-</td><td>11.20</td><td>2.70</td><td>-</td><td>-</td></tr><tr><td><span class=\"flag\" style=\"background-image:url('gfx/flags-iso/MW.svg');\"></span>Malawi</td><td>Low income</td><td>2016</td><td>Regional</td><td class=\"agebox\">18+</td><td>11.00</td><td>2.00</td><td>22.00</td><td>13.00</td><td>16.60</td><td>7.60</td></tr><tr><td><span class=\"flag\" style=\"background-image:url('gfx/flags-iso/MY.svg');\"></span>Malaysia</td><td>Upper-middle income</td><td>2023</td><td>National</td><td class=\"agebox\">18+</td><td>34.50</td><td>17.90</td><td>30.70</td><td>26.00</td><td>32.60</td><td>21.80</td></tr><tr><td><span class=\"flag\" style=\"background-image:url('gfx/flags-iso/MV.svg');\"></span>Maldives</td><td>Upper-middle income</td><td>2020-2021</td><td>National</td><td class=\"agebox\">15-69</td><td>32.40</td><td>14.10</td><td>36.50</td><td>22.80</td><td>34.30</td><td>18.10</td></tr><tr><td><span class=\"flag\" style=\"background-image:url('gfx/flags-iso/ML.svg');\"></span>Mali</td><td>Low income</td><td>2018</td><td>National</td><td class=\"agebox\">15-49</td><td>-</td><td>-</td><td>19.00</td><td>8.70</td><td>-</td><td>-</td></tr><tr class=\"selfreport\"><td><span class=\"flag\" style=\"background-image:url('gfx/flags-iso/MT.svg');\"></span>Malta</td><td>High income</td><td>2022</td><td>National</td><td class=\"agebox\">18+</td><td>41.00</td><td>29.00</td><td>31.20</td><td>23.00</td><td>36.30</td><td>26.10</td></tr><tr><td><span class=\"flag\" style=\"background-image:url('gfx/flags-iso/MH.svg');\"></span>Marshall Islands</td><td>Upper-middle income</td><td>2023</td><td>National</td><td class=\"agebox\"></td><td>-</td><td>-</td><td>-</td><td>-</td><td>29.50</td><td>43.40</td></tr><tr><td><span class=\"flag\" style=\"background-image:url('gfx/flags-iso/MH.svg');\"></span>Marshall Islands</td><td>Upper-middle income</td><td>2016-2017</td><td>National</td><td class=\"agebox\">15-49</td><td>-</td><td>-</td><td>27.60</td><td>45.10</td><td>-</td><td>-</td></tr><tr><td><span class=\"flag\" style=\"background-image:url('gfx/flags-iso/MH.svg');\"></span>Marshall Islands</td><td>Upper-middle income</td><td>2002</td><td>National</td><td class=\"agebox\">15-64</td><td>33.20</td><td>26.60</td><td>28.30</td><td>37.10</td><td>30.90</td><td>31.60</td></tr><tr class=\"selfreport\"><td><span class=\"flag\" style=\"background-image:url('gfx/flags-iso/MQ.svg');\"></span>Martinique</td><td></td><td>2019</td><td>National</td><td class=\"agebox\">15+</td><td>36.00</td><td>13.00</td><td>32.00</td><td>25.00</td><td>34.00</td><td>20.00</td></tr><tr><td><span class=\"flag\" style=\"background-image:url('gfx/flags-iso/MR.svg');\"></span>Mauritania</td><td>Lower-middle income</td><td>2019-2021</td><td>National</td><td class=\"agebox\">15-49</td><td>-</td><td>-</td><td>26.90</td><td>26.90</td><td>-</td><td>-</td></tr><tr><td><span class=\"flag\" style=\"background-image:url('gfx/flags-iso/MR.svg');\"></span>Mauritania</td><td>Lower-middle income</td><td>2006</td><td>Regional</td><td class=\"agebox\">15-64</td><td>23.20</td><td>8.60</td><td>27.90</td><td>31.50</td><td>25.70</td><td>20.90</td></tr><tr><td><span class=\"flag\" style=\"background-image:url('gfx/flags-iso/MU.svg');\"></span>Mauritius</td><td>Upper-middle income</td><td>2015</td><td>National</td><td class=\"agebox\">18+</td><td>38.30</td><td>11.10</td><td>32.60</td><td>25.80</td><td>35.20</td><td>19.10</td></tr><tr><td><span class=\"flag\" style=\"background-image:url('gfx/flags-iso/YT.svg');\"></span>Mayotte</td><td></td><td>2019</td><td>National</td><td class=\"agebox\">15+</td><td>30.00</td><td>16.00</td><td>26.00</td><td>34.00</td><td>28.00</td><td>26.00</td></tr><tr><td><span class=\"flag\" style=\"background-image:url('gfx/flags-iso/MX.svg');\"></span>Mexico</td><td>Upper-middle income</td><td>2023</td><td>National</td><td class=\"agebox\">20+</td><td>40.10</td><td>36.10</td><td>34.60</td><td>41.60</td><td>37.30</td><td>38.90</td></tr><tr><td><span class=\"flag\" style=\"background-image:url('gfx/flags-iso/MD.svg');\"></span>Moldova</td><td>Upper-middle income</td><td>2021</td><td>National</td><td class=\"agebox\">18-69</td><td>49.40</td><td>21.40</td><td>33.00</td><td>24.00</td><td>41.20</td><td>22.70</td></tr><tr><td><span class=\"flag\" style=\"background-image:url('gfx/flags-iso/MN.svg');\"></span>Mongolia</td><td>Upper-middle income</td><td>2019</td><td>National</td><td class=\"agebox\">15-69</td><td>31.40</td><td>16.60</td><td>30.50</td><td>20.40</td><td>30.90</td><td>18.50</td></tr><tr class=\"selfreport\"><td><span class=\"flag\" style=\"background-image:url('gfx/flags-iso/ME.svg');\"></span>Montenegro</td><td>Upper-middle income</td><td>2022</td><td>National</td><td class=\"agebox\">16+</td><td>50.70</td><td>9.30</td><td>28.60</td><td>6.00</td><td>39.40</td><td>7.60</td></tr><tr><td><span class=\"flag\" style=\"background-image:url('gfx/flags-iso/MA.svg');\"></span>Morocco</td><td>Lower-middle income</td><td>2017-2018</td><td>National</td><td class=\"agebox\">18+</td><td>31.60</td><td>11.00</td><td>34.40</td><td>29.00</td><td>33.00</td><td>20.00</td></tr><tr><td><span class=\"flag\" style=\"background-image:url('gfx/flags-iso/MZ.svg');\"></span>Mozambique</td><td>Low income</td><td>2022-2023</td><td>National</td><td class=\"agebox\">20-49</td><td>-</td><td>-</td><td>17.80</td><td>9.90</td><td>-</td><td>-</td></tr><tr><td><span class=\"flag\" style=\"background-image:url('gfx/flags-iso/MZ.svg');\"></span>Mozambique</td><td>Low income</td><td>2014</td><td></td><td class=\"agebox\">25-64</td><td>13.20</td><td>5.00</td><td>17.50</td><td>13.00</td><td>15.40</td><td>9.10</td></tr><tr><td><span class=\"flag\" style=\"background-image:url('gfx/flags-iso/MM.svg');\"></span>Myanmar</td><td>Lower-middle income</td><td>2017-2018</td><td>National</td><td class=\"agebox\">15-49</td><td>11.40</td><td>2.00</td><td>22.90</td><td>7.30</td><td>-</td><td>-</td></tr><tr><td><span class=\"flag\" style=\"background-image:url('gfx/flags-iso/NA.svg');\"></span>Namibia</td><td>Lower-middle income</td><td>2013</td><td>National</td><td class=\"agebox\">15-49</td><td>8.10</td><td>3.40</td><td>18.30</td><td>13.20</td><td>13.30</td><td>8.40</td></tr><tr><td><span class=\"flag\" style=\"background-image:url('gfx/flags-iso/NR.svg');\"></span>Nauru</td><td>High income</td><td>2023</td><td>National</td><td class=\"agebox\">15-49</td><td>-</td><td>-</td><td>16.10</td><td>60.60</td><td>-</td><td>-</td></tr><tr><td><span class=\"flag\" style=\"background-image:url('gfx/flags-iso/NR.svg');\"></span>Nauru</td><td>High income</td><td>2004</td><td>National</td><td class=\"agebox\">15-64</td><td>26.50</td><td>55.70</td><td>21.80</td><td>60.50</td><td>24.10</td><td>58.10</td></tr><tr><td><span class=\"flag\" style=\"background-image:url('gfx/flags-iso/NP.svg');\"></span>Nepal</td><td>Lower-middle income</td><td>2022</td><td>National</td><td class=\"agebox\">20-49</td><td>26.20</td><td>5.90</td><td>26.00</td><td>8.40</td><td>26.10</td><td>7.20</td></tr><tr class=\"selfreport\"><td><span class=\"flag\" style=\"background-image:url('gfx/flags-iso/NL.svg');\"></span>Netherlands</td><td>High income</td><td>2024</td><td>National</td><td class=\"agebox\">20+</td><td>39.70</td><td>14.90</td><td>30.70</td><td>17.10</td><td>35.10</td><td>16.00</td></tr><tr><td><span class=\"flag\" style=\"background-image:url('gfx/flags-iso/NC.svg');\"></span>New Caledonia</td><td>High income</td><td>2021</td><td>National</td><td class=\"agebox\">18-64</td><td>33.00</td><td>34.00</td><td>23.00</td><td>42.00</td><td>28.10</td><td>38.40</td></tr><tr><td><span class=\"flag\" style=\"background-image:url('gfx/flags-iso/NZ.svg');\"></span>New Zealand</td><td>High income</td><td>2023-2024</td><td>National</td><td class=\"agebox\">15+</td><td>38.20</td><td>32.70</td><td>28.10</td><td>34.90</td><td>33.10</td><td>33.80</td></tr><tr><td><span class=\"flag\" style=\"background-image:url('gfx/flags-iso/NI.svg');\"></span>Nicaragua</td><td>Lower-middle income</td><td>2007-2009</td><td>Regional</td><td class=\"agebox\">20-60</td><td>30.90</td><td>11.90</td><td>34.70</td><td>29.80</td><td>33.10</td><td>22.00</td></tr><tr><td><span class=\"flag\" style=\"background-image:url('gfx/flags-iso/NE.svg');\"></span>Niger</td><td>Low income</td><td>2021</td><td>National</td><td class=\"agebox\">18-69</td><td>7.70</td><td>3.90</td><td>12.50</td><td>6.30</td><td>9.80</td><td>4.90</td></tr><tr><td><span class=\"flag\" style=\"background-image:url('gfx/flags-iso/NG.svg');\"></span>Nigeria</td><td>Lower-middle income</td><td>2018</td><td>National</td><td class=\"agebox\">15-49</td><td>-</td><td>-</td><td>18.20</td><td>9.90</td><td>-</td><td>-</td></tr><tr><td><span class=\"flag\" style=\"background-image:url('gfx/flags-iso/NG.svg');\"></span>Nigeria</td><td>Lower-middle income</td><td>1991-1994</td><td></td><td class=\"agebox\">20+</td><td>-</td><td>6.50</td><td>-</td><td>9.10</td><td>-</td><td>7.80</td></tr><tr><td><span class=\"flag\" style=\"background-image:url('gfx/flags-iso/NU.svg');\"></span>Niue</td><td></td><td>2011-2012</td><td>National</td><td class=\"agebox\">15+</td><td>25.80</td><td>59.20</td><td>24.10</td><td>62.70</td><td>24.90</td><td>61.00</td></tr><tr class=\"selfreport\"><td><span class=\"flag\" style=\"background-image:url('gfx/flags-iso/MK.svg');\"></span>North Macedonia</td><td>Upper-middle income</td><td>2017</td><td>National</td><td class=\"agebox\">18+</td><td>53.30</td><td>11.10</td><td>37.20</td><td>9.90</td><td>45.20</td><td>10.50</td></tr><tr><td><span class=\"flag\" style=\"background-image:url('gfx/flags-iso/GB-NIR.svg');\"></span>Northern Ireland</td><td></td><td>2019-2020</td><td>National</td><td class=\"agebox\">16+</td><td>43.30</td><td>27.80</td><td>32.60</td><td>27.10</td><td>38.00</td><td>27.30</td></tr><tr><td><span class=\"flag\" style=\"background-image:url('gfx/flags-iso/MP.svg');\"></span>Northern Mariana Islands</td><td>High income</td><td>2023</td><td>National</td><td class=\"agebox\"></td><td>-</td><td>-</td><td>-</td><td>-</td><td>31.00</td><td>41.00</td></tr><tr class=\"selfreport\"><td><span class=\"flag\" style=\"background-image:url('gfx/flags-iso/NO.svg');\"></span>Norway</td><td>High income</td><td>2022</td><td>National</td><td class=\"agebox\">18+</td><td>42.00</td><td>18.30</td><td>30.90</td><td>15.10</td><td>36.70</td><td>16.80</td></tr><tr><td><span class=\"flag\" style=\"background-image:url('gfx/flags-iso/OM.svg');\"></span>Oman</td><td>High income</td><td>2017</td><td>National</td><td class=\"agebox\">18+</td><td>40.10</td><td>23.20</td><td>30.00</td><td>39.30</td><td>35.50</td><td>30.70</td></tr><tr><td><span class=\"flag\" style=\"background-image:url('gfx/flags-iso/PK.svg');\"></span>Pakistan</td><td>Lower-middle income</td><td>2018</td><td>National</td><td class=\"agebox\">15-49</td><td>-</td><td>-</td><td>24.20</td><td>13.90</td><td>-</td><td>-</td></tr><tr><td><span class=\"flag\" style=\"background-image:url('gfx/flags-iso/PK.svg');\"></span>Pakistan</td><td>Lower-middle income</td><td>2013-2014</td><td>Regional</td><td class=\"agebox\">18-69</td><td>26.50</td><td>12.10</td><td>26.10</td><td>17.10</td><td>26.40</td><td>14.90</td></tr><tr><td><span class=\"flag\" style=\"background-image:url('gfx/flags-iso/PW.svg');\"></span>Palau</td><td>High income</td><td>2023</td><td>National</td><td class=\"agebox\"></td><td>-</td><td>-</td><td>-</td><td>-</td><td>33.20</td><td>42.40</td></tr><tr><td><span class=\"flag\" style=\"background-image:url('gfx/flags-iso/PW.svg');\"></span>Palau</td><td>High income</td><td>2011-2013</td><td>National</td><td class=\"agebox\">25-64</td><td>35.10</td><td>40.30</td><td>30.60</td><td>45.40</td><td>32.90</td><td>42.90</td></tr><tr><td><span class=\"flag\" style=\"background-image:url('gfx/flags-iso/PS.svg');\"></span>Palestine</td><td>Lower-middle income</td><td>2022</td><td>National</td><td class=\"agebox\">18-69</td><td>31.40</td><td>24.70</td><td>28.10</td><td>38.80</td><td>29.80</td><td>31.60</td></tr><tr><td><span class=\"flag\" style=\"background-image:url('gfx/flags-iso/PA.svg');\"></span>Panama</td><td>High income</td><td>2019</td><td>National</td><td class=\"agebox\">18+</td><td>39.60</td><td>27.70</td><td>33.30</td><td>42.30</td><td>36.40</td><td>36.30</td></tr><tr><td><span class=\"flag\" style=\"background-image:url('gfx/flags-iso/PG.svg');\"></span>Papua New Guinea</td><td>Lower-middle income</td><td>2007-2008</td><td>National</td><td class=\"agebox\">15-64</td><td>25.20</td><td>5.10</td><td>25.20</td><td>8.70</td><td>25.30</td><td>6.80</td></tr><tr><td><span class=\"flag\" style=\"background-image:url('gfx/flags-iso/PY.svg');\"></span>Paraguay</td><td>Upper-middle income</td><td>2011</td><td>National</td><td class=\"agebox\">15-74</td><td>35.30</td><td>19.90</td><td>34.40</td><td>26.60</td><td>34.80</td><td>23.20</td></tr><tr><td><span class=\"flag\" style=\"background-image:url('gfx/flags-iso/PE.svg');\"></span>Peru</td><td>Upper-middle income</td><td>2022</td><td>National</td><td class=\"agebox\">15-49</td><td>-</td><td>-</td><td>36.80</td><td>28.20</td><td>-</td><td>-</td></tr><tr><td><span class=\"flag\" style=\"background-image:url('gfx/flags-iso/PE.svg');\"></span>Peru</td><td>Upper-middle income</td><td>2017-2018</td><td>National</td><td class=\"agebox\">18-59</td><td>39.10</td><td>21.30</td><td>38.30</td><td>29.40</td><td>38.70</td><td>26.00</td></tr><tr><td><span class=\"flag\" style=\"background-image:url('gfx/flags-iso/PH.svg');\"></span>Philippines</td><td>Lower-middle income</td><td>2021-2022</td><td>National</td><td class=\"agebox\">20-59</td><td>28.30</td><td>7.30</td><td>31.70</td><td>12.20</td><td>30.20</td><td>10.00</td></tr><tr class=\"selfreport\"><td><span class=\"flag\" style=\"background-image:url('gfx/flags-iso/PL.svg');\"></span>Poland</td><td>High income</td><td>2025</td><td>National</td><td class=\"agebox\">20+</td><td>48.80</td><td>15.30</td><td>35.70</td><td>12.60</td><td>41.90</td><td>13.90</td></tr><tr class=\"selfreport\"><td><span class=\"flag\" style=\"background-image:url('gfx/flags-iso/PT.svg');\"></span>Portugal</td><td>High income</td><td>2022</td><td>National</td><td class=\"agebox\">18+</td><td>42.90</td><td>16.00</td><td>32.30</td><td>15.60</td><td>37.20</td><td>15.80</td></tr><tr class=\"selfreport\"><td><span class=\"flag\" style=\"background-image:url('gfx/flags-iso/PR.svg');\"></span>Puerto Rico</td><td>High income</td><td>2023</td><td>National</td><td class=\"agebox\"></td><td>-</td><td>-</td><td>-</td><td>-</td><td>-</td><td>36.60</td></tr><tr><td><span class=\"flag\" style=\"background-image:url('gfx/flags-iso/QA.svg');\"></span>Qatar</td><td>High income</td><td>2023</td><td>National</td><td class=\"agebox\">18-69</td><td>41.90</td><td>30.40</td><td>32.30</td><td>36.70</td><td>37.30</td><td>33.40</td></tr><tr class=\"selfreport\"><td><span class=\"flag\" style=\"background-image:url('gfx/flags-iso/RE.svg');\"></span>Reunion</td><td></td><td>2019</td><td>National</td><td class=\"agebox\">15+</td><td>30.00</td><td>12.00</td><td>27.00</td><td>20.00</td><td>28.00</td><td>16.00</td></tr><tr class=\"selfreport\"><td><span class=\"flag\" style=\"background-image:url('gfx/flags-iso/RO.svg');\"></span>Romania</td><td>High income</td><td>2022</td><td>National</td><td class=\"agebox\">18+</td><td>58.10</td><td>10.40</td><td>41.40</td><td>10.20</td><td>49.40</td><td>10.30</td></tr><tr><td><span class=\"flag\" style=\"background-image:url('gfx/flags-iso/RU.svg');\"></span>Russian Federation</td><td>High income</td><td>2020-2022</td><td>National (15 regions)</td><td class=\"agebox\">35-74</td><td>44.00</td><td>30.00</td><td>33.70</td><td>39.50</td><td>38.40</td><td>35.20</td></tr><tr><td><span class=\"flag\" style=\"background-image:url('gfx/flags-iso/RW.svg');\"></span>Rwanda</td><td>Low income</td><td>2021-2022</td><td>National</td><td class=\"agebox\">18-69</td><td>10.20</td><td>1.30</td><td>18.60</td><td>7.40</td><td>14.30</td><td>4.30</td></tr><tr><td><span class=\"flag\" style=\"background-image:url('gfx/flags-iso/KN.svg');\"></span>Saint Kitts and Nevis</td><td>High income</td><td>2007-2008</td><td>National</td><td class=\"agebox\">25-64</td><td>36.20</td><td>37.90</td><td>30.50</td><td>52.50</td><td>33.50</td><td>45.00</td></tr><tr><td><span class=\"flag\" style=\"background-image:url('gfx/flags-iso/LC.svg');\"></span>Saint Lucia</td><td>Upper-middle income</td><td>2019-2020</td><td>National</td><td class=\"agebox\">18-69</td><td>29.40</td><td>20.60</td><td>30.70</td><td>46.10</td><td>30.10</td><td>34.90</td></tr><tr><td><span class=\"flag\" style=\"background-image:url('gfx/flags-iso/VC.svg');\"></span>Saint Vincent and the Grenadines</td><td>Upper-middle income</td><td>2013-2014</td><td>National</td><td class=\"agebox\">18-69</td><td>41.30</td><td>13.20</td><td>67.20</td><td>40.80</td><td>54.20</td><td>26.90</td></tr><tr><td><span class=\"flag\" style=\"background-image:url('gfx/flags-iso/WS.svg');\"></span>Samoa</td><td>Upper-middle income</td><td>2019-2020</td><td>National</td><td class=\"agebox\">15-49</td><td>-</td><td>-</td><td>18.50</td><td>66.90</td><td>-</td><td>-</td></tr><tr><td><span class=\"flag\" style=\"background-image:url('gfx/flags-iso/WS.svg');\"></span>Samoa</td><td>Upper-middle income</td><td>2013</td><td>National</td><td class=\"agebox\">18-64</td><td>35.00</td><td>44.80</td><td>21.80</td><td>68.60</td><td>28.90</td><td>55.80</td></tr><tr><td><span class=\"flag\" style=\"background-image:url('gfx/flags-iso/ST.svg');\"></span>Sao Tome and Principe</td><td>Lower-middle income</td><td>2008</td><td>National</td><td class=\"agebox\">25-64</td><td>21.40</td><td>6.60</td><td>25.10</td><td>16.50</td><td>23.30</td><td>11.70</td></tr><tr class=\"selfreport\"><td><span class=\"flag\" style=\"background-image:url('gfx/flags-iso/SA.svg');\"></span>Saudi Arabia</td><td>High income</td><td>2024</td><td>National</td><td class=\"agebox\">15+</td><td>46.30</td><td>22.80</td><td>42.60</td><td>23.50</td><td>45.10</td><td>23.10</td></tr><tr class=\"selfreport\"><td><span class=\"flag\" style=\"background-image:url('gfx/flags-iso/GB-SCT.svg');\"></span>Scotland</td><td></td><td>2023</td><td>National</td><td class=\"agebox\">16+</td><td>37.00</td><td>30.00</td><td>31.00</td><td>34.00</td><td>34.00</td><td>32.00</td></tr><tr><td><span class=\"flag\" style=\"background-image:url('gfx/flags-iso/SN.svg');\"></span>Senegal</td><td>Lower-middle income</td><td>2015</td><td>National</td><td class=\"agebox\"></td><td>-</td><td>-</td><td>-</td><td>-</td><td>15.80</td><td>6.40</td></tr><tr><td><span class=\"flag\" style=\"background-image:url('gfx/flags-iso/SN.svg');\"></span>Senegal</td><td>Lower-middle income</td><td>2010-2011</td><td>National</td><td class=\"agebox\">15-49</td><td>6.10</td><td>1.00</td><td>15.50</td><td>5.80</td><td>10.90</td><td>3.50</td></tr><tr class=\"selfreport\"><td><span class=\"flag\" style=\"background-image:url('gfx/flags-iso/RS.svg');\"></span>Serbia</td><td>Upper-middle income</td><td>2022</td><td>National</td><td class=\"agebox\">18+</td><td>50.70</td><td>13.90</td><td>31.60</td><td>9.50</td><td>40.90</td><td>11.70</td></tr><tr><td><span class=\"flag\" style=\"background-image:url('gfx/flags-iso/SC.svg');\"></span>Seychelles</td><td>High income</td><td>2023</td><td>National</td><td class=\"agebox\">18-74</td><td>32.60</td><td>27.20</td><td>28.90</td><td>48.60</td><td>31.00</td><td>38.00</td></tr><tr><td><span class=\"flag\" style=\"background-image:url('gfx/flags-iso/SL.svg');\"></span>Sierra Leone</td><td>Low income</td><td>2021</td><td>National</td><td class=\"agebox\">15-49</td><td>-</td><td>-</td><td>27.80</td><td>13.10</td><td>-</td><td>-</td></tr><tr><td><span class=\"flag\" style=\"background-image:url('gfx/flags-iso/SL.svg');\"></span>Sierra Leone</td><td>Low income</td><td>2013</td><td>National</td><td class=\"agebox\">15-49</td><td>6.70</td><td>1.50</td><td>13.40</td><td>5.00</td><td>10.10</td><td>3.30</td></tr><tr><td><span class=\"flag\" style=\"background-image:url('gfx/flags-iso/SG.svg');\"></span>Singapore</td><td>High income</td><td>2021-2022</td><td>National</td><td class=\"agebox\">18-74</td><td>33.40</td><td>13.10</td><td>23.90</td><td>10.20</td><td>28.60</td><td>11.60</td></tr><tr class=\"selfreport\"><td><span class=\"flag\" style=\"background-image:url('gfx/flags-iso/SK.svg');\"></span>Slovakia</td><td>High income</td><td>2022</td><td>National</td><td class=\"agebox\">18+</td><td>51.30</td><td>19.40</td><td>32.00</td><td>15.00</td><td>41.30</td><td>17.10</td></tr><tr class=\"selfreport\"><td><span class=\"flag\" style=\"background-image:url('gfx/flags-iso/SI.svg');\"></span>Slovenia</td><td>High income</td><td>2022</td><td>National</td><td class=\"agebox\">18+</td><td>43.80</td><td>21.90</td><td>32.50</td><td>14.20</td><td>37.80</td><td>17.90</td></tr><tr><td><span class=\"flag\" style=\"background-image:url('gfx/flags-iso/SB.svg');\"></span>Solomon Islands</td><td>Lower-middle income</td><td>2015</td><td>National</td><td class=\"agebox\">15-49</td><td>25.50</td><td>8.80</td><td>29.50</td><td>17.90</td><td>27.50</td><td>13.10</td></tr><tr><td><span class=\"flag\" style=\"background-image:url('gfx/flags-iso/SO.svg');\"></span>Somalia</td><td>Low income</td><td>2019</td><td>National</td><td class=\"agebox\">15-49</td><td>-</td><td>-</td><td>24.40</td><td>15.10</td><td>-</td><td>-</td></tr><tr><td><span class=\"flag\" style=\"background-image:url('gfx/flags-iso/ZA.svg');\"></span>South Africa</td><td>Upper-middle income</td><td>2021-2022</td><td>National</td><td class=\"agebox\">18+</td><td>22.90</td><td>15.30</td><td>26.60</td><td>41.30</td><td>25.30</td><td>32.10</td></tr><tr><td><span class=\"flag\" style=\"background-image:url('gfx/flags-iso/KR.svg');\"></span>South Korea</td><td>High income</td><td>2022</td><td>National</td><td class=\"agebox\">20+</td><td>40.50</td><td>8.63</td><td>23.50</td><td>5.71</td><td>32.30</td><td>7.28</td></tr><tr class=\"selfreport\"><td><span class=\"flag\" style=\"background-image:url('gfx/flags-iso/ES.svg');\"></span>Spain</td><td>High income</td><td>2023-2024</td><td>National</td><td class=\"agebox\">18+</td><td>47.00</td><td>15.20</td><td>32.90</td><td>15.10</td><td>39.80</td><td>15.20</td></tr><tr><td><span class=\"flag\" style=\"background-image:url('gfx/flags-iso/LK.svg');\"></span>Sri Lanka</td><td>Lower-middle income</td><td>2022</td><td>National</td><td class=\"agebox\">18-60</td><td>25.60</td><td>6.40</td><td>29.60</td><td>12.60</td><td>27.70</td><td>9.60</td></tr><tr><td><span class=\"flag\" style=\"background-image:url('gfx/flags-iso/SD.svg');\"></span>Sudan</td><td>Low income</td><td>2016</td><td>National</td><td class=\"agebox\">18-69</td><td>15.90</td><td>6.70</td><td>20.70</td><td>14.90</td><td>17.90</td><td>10.30</td></tr><tr class=\"selfreport\"><td><span class=\"flag\" style=\"background-image:url('gfx/flags-iso/SR.svg');\"></span>Suriname</td><td>Upper-middle income</td><td>2016-2017</td><td>National</td><td class=\"agebox\">20+</td><td>38.50</td><td>17.00</td><td>33.30</td><td>27.00</td><td>-</td><td>-</td></tr><tr class=\"selfreport\"><td><span class=\"flag\" style=\"background-image:url('gfx/flags-iso/SE.svg');\"></span>Sweden</td><td>High income</td><td>2024</td><td>National</td><td class=\"agebox\">16-84</td><td>40.60</td><td>18.00</td><td>29.90</td><td>18.40</td><td>35.30</td><td>18.20</td></tr><tr class=\"selfreport\"><td><span class=\"flag\" style=\"background-image:url('gfx/flags-iso/CH.svg');\"></span>Switzerland</td><td>High income</td><td>2022</td><td>National</td><td class=\"agebox\">16+</td><td>39.80</td><td>14.70</td><td>24.00</td><td>12.10</td><td>31.80</td><td>13.40</td></tr><tr><td><span class=\"flag\" style=\"background-image:url('gfx/flags-iso/SY.svg');\"></span>Syrian Arab Republic</td><td>Low income</td><td>2003</td><td>National</td><td class=\"agebox\">20-65</td><td>37.30</td><td>15.50</td><td>31.10</td><td>22.50</td><td>34.20</td><td>18.90</td></tr><tr><td><span class=\"flag\" style=\"background-image:url('gfx/flags-iso/TW.svg');\"></span>Taiwan</td><td>High income</td><td>2013-2014</td><td>National</td><td class=\"agebox\"></td><td>-</td><td>-</td><td>-</td><td>-</td><td>-</td><td>8.20</td></tr><tr><td><span class=\"flag\" style=\"background-image:url('gfx/flags-iso/TW.svg');\"></span>Taiwan</td><td>High income</td><td>2003-2006</td><td>National</td><td class=\"agebox\">19+</td><td>-</td><td>6.10</td><td>-</td><td>6.40</td><td>-</td><td>6.20</td></tr><tr><td><span class=\"flag\" style=\"background-image:url('gfx/flags-iso/TJ.svg');\"></span>Tajikistan</td><td>Lower-middle income</td><td>2023</td><td>National</td><td class=\"agebox\">20-49</td><td>-</td><td>-</td><td>30.70</td><td>18.70</td><td>-</td><td>-</td></tr><tr><td><span class=\"flag\" style=\"background-image:url('gfx/flags-iso/TJ.svg');\"></span>Tajikistan</td><td>Lower-middle income</td><td>2016-2017</td><td>National</td><td class=\"agebox\">18-69</td><td>37.80</td><td>11.90</td><td>27.80</td><td>15.40</td><td>33.20</td><td>13.50</td></tr><tr><td><span class=\"flag\" style=\"background-image:url('gfx/flags-iso/TZ.svg');\"></span>Tanzania</td><td>Lower-middle income</td><td>2022</td><td>National</td><td class=\"agebox\">20-49</td><td>13.30</td><td>3.40</td><td>21.80</td><td>14.00</td><td>-</td><td>-</td></tr><tr><td><span class=\"flag\" style=\"background-image:url('gfx/flags-iso/TH.svg');\"></span>Thailand</td><td>Upper-middle income</td><td>2019-2020</td><td>National</td><td class=\"agebox\">15+</td><td>27.80</td><td>10.00</td><td>30.00</td><td>16.40</td><td>28.90</td><td>13.30</td></tr><tr><td><span class=\"flag\" style=\"background-image:url('gfx/flags-iso/TL.svg');\"></span>Timor-Leste</td><td>Lower-middle income</td><td>2016</td><td>National</td><td class=\"agebox\">15-49</td><td>8.30</td><td>1.50</td><td>5.30</td><td>0.70</td><td>6.80</td><td>1.10</td></tr><tr><td><span class=\"flag\" style=\"background-image:url('gfx/flags-iso/TG.svg');\"></span>Togo</td><td>Low income</td><td>2013-2014</td><td>National</td><td class=\"agebox\">15-49</td><td>-</td><td>-</td><td>19.40</td><td>11.10</td><td>-</td><td>-</td></tr><tr><td><span class=\"flag\" style=\"background-image:url('gfx/flags-iso/TG.svg');\"></span>Togo</td><td>Low income</td><td>2010</td><td>National</td><td class=\"agebox\">15-64</td><td>12.00</td><td>2.30</td><td>18.60</td><td>9.60</td><td>15.30</td><td>6.20</td></tr><tr><td><span class=\"flag\" style=\"background-image:url('gfx/flags-iso/TK.svg');\"></span>Tokelau</td><td></td><td>2005</td><td>National</td><td class=\"agebox\">15-64</td><td>24.30</td><td>58.60</td><td>21.50</td><td>67.80</td><td>22.80</td><td>63.40</td></tr><tr><td><span class=\"flag\" style=\"background-image:url('gfx/flags-iso/TO.svg');\"></span>Tonga</td><td>Upper-middle income</td><td>2017</td><td>National</td><td class=\"agebox\">18-69</td><td>22.80</td><td>66.80</td><td>12.30</td><td>82.80</td><td>16.10</td><td>77.10</td></tr><tr><td><span class=\"flag\" style=\"background-image:url('gfx/flags-iso/TT.svg');\"></span>Trinidad and Tobago</td><td>High income</td><td>2024</td><td>National</td><td class=\"agebox\">18-69</td><td>29.30</td><td>24.90</td><td>28.40</td><td>39.30</td><td>28.90</td><td>31.60</td></tr><tr><td><span class=\"flag\" style=\"background-image:url('gfx/flags-iso/TN.svg');\"></span>Tunisia</td><td>Lower-middle income</td><td>1997</td><td>National</td><td class=\"agebox\">20-60</td><td>23.30</td><td>6.70</td><td>28.20</td><td>22.70</td><td>-</td><td>-</td></tr><tr><td><span class=\"flag\" style=\"background-image:url('gfx/flags-iso/TR.svg');\"></span>Turkey</td><td>Upper-middle income</td><td>2023</td><td>National</td><td class=\"agebox\">15+</td><td>41.30</td><td>20.00</td><td>29.70</td><td>30.80</td><td>35.50</td><td>25.40</td></tr><tr><td><span class=\"flag\" style=\"background-image:url('gfx/flags-iso/TM.svg');\"></span>Turkmenistan</td><td>Upper-middle income</td><td>2018</td><td>National</td><td class=\"agebox\">18-69</td><td>38.40</td><td>12.70</td><td>27.90</td><td>17.50</td><td>33.40</td><td>15.00</td></tr><tr><td><span class=\"flag\" style=\"background-image:url('gfx/flags-iso/TV.svg');\"></span>Tuvalu</td><td>Upper-middle income</td><td>2015</td><td>National</td><td class=\"agebox\">18-69</td><td>27.00</td><td>70.70</td><td>18.50</td><td>55.20</td><td>23.20</td><td>62.20</td></tr><tr><td><span class=\"flag\" style=\"background-image:url('gfx/flags-iso/UG.svg');\"></span>Uganda</td><td>Low income</td><td>2023</td><td>National</td><td class=\"agebox\">18-69</td><td>10.70</td><td>6.20</td><td>18.40</td><td>12.30</td><td>14.60</td><td>9.30</td></tr><tr><td><span class=\"flag\" style=\"background-image:url('gfx/flags-iso/UA.svg');\"></span>Ukraine</td><td>Upper-middle income</td><td>2019</td><td>National</td><td class=\"agebox\">18-69</td><td>37.80</td><td>20.10</td><td>30.40</td><td>29.80</td><td>34.30</td><td>24.80</td></tr><tr><td><span class=\"flag\" style=\"background-image:url('gfx/flags-iso/AE.svg');\"></span>United Arab Emirates</td><td>High income</td><td>2017-2018</td><td>National</td><td class=\"agebox\">18-69</td><td>45.70</td><td>25.10</td><td>34.30</td><td>30.60</td><td>40.10</td><td>27.80</td></tr><tr class=\"selfreport\"><td><span class=\"flag\" style=\"background-image:url('gfx/flags-iso/GB.svg');\"></span>United Kingdom</td><td>High income</td><td>2014</td><td>National</td><td class=\"agebox\">18+</td><td>40.50</td><td>19.80</td><td>31.40</td><td>20.40</td><td>35.60</td><td>20.10</td></tr><tr><td><span class=\"flag\" style=\"background-image:url('gfx/flags-iso/US.svg');\"></span>United States</td><td>High income</td><td>2021-2023</td><td>National</td><td class=\"agebox\">20+</td><td>36.20</td><td>38.40</td><td>28.60</td><td>41.30</td><td>32.10</td><td>40.30</td></tr><tr><td><span class=\"flag\" style=\"background-image:url('gfx/flags-iso/UY.svg');\"></span>Uruguay</td><td>High income</td><td>2013-2014</td><td>National</td><td class=\"agebox\">15-64</td><td>38.60</td><td>22.10</td><td>31.30</td><td>25.10</td><td>34.80</td><td>23.70</td></tr><tr><td><span class=\"flag\" style=\"background-image:url('gfx/flags-iso/UZ.svg');\"></span>Uzbekistan</td><td>Lower-middle income</td><td>2017</td><td>National</td><td class=\"agebox\">15-49</td><td>-</td><td>-</td><td>25.20</td><td>15.50</td><td>-</td><td>-</td></tr><tr><td><span class=\"flag\" style=\"background-image:url('gfx/flags-iso/UZ.svg');\"></span>Uzbekistan</td><td>Lower-middle income</td><td>2014</td><td>National</td><td class=\"agebox\">18-64</td><td>32.00</td><td>15.70</td><td>27.30</td><td>25.40</td><td>29.90</td><td>20.20</td></tr><tr><td><span class=\"flag\" style=\"background-image:url('gfx/flags-iso/VU.svg');\"></span>Vanuatu</td><td>Lower-middle income</td><td>2023</td><td>National</td><td class=\"agebox\">15-49</td><td>-</td><td>-</td><td>30.60</td><td>23.50</td><td>-</td><td>-</td></tr><tr><td><span class=\"flag\" style=\"background-image:url('gfx/flags-iso/VU.svg');\"></span>Vanuatu</td><td>Lower-middle income</td><td>2013</td><td>National</td><td class=\"agebox\">15-49</td><td>24.80</td><td>11.10</td><td>30.80</td><td>18.80</td><td>27.80</td><td>14.90</td></tr><tr><td><span class=\"flag\" style=\"background-image:url('gfx/flags-iso/VE.svg');\"></span>Venezuela</td><td></td><td>2014-2017</td><td>National</td><td class=\"agebox\">20+</td><td>38.20</td><td>22.20</td><td>31.20</td><td>26.70</td><td>34.50</td><td>24.60</td></tr><tr><td><span class=\"flag\" style=\"background-image:url('gfx/flags-iso/VN.svg');\"></span>Vietnam</td><td>Lower-middle income</td><td>2021</td><td>National</td><td class=\"agebox\">18-69</td><td>17.20</td><td>2.10</td><td>17.50</td><td>2.20</td><td>17.40</td><td>2.10</td></tr><tr class=\"selfreport\"><td><span class=\"flag\" style=\"background-image:url('gfx/flags-iso/GB-WLS.svg');\"></span>Wales</td><td></td><td>2022-2023</td><td>National</td><td class=\"agebox\">16+</td><td>40.20</td><td>25.00</td><td>30.10</td><td>27.20</td><td>35.20</td><td>26.00</td></tr><tr><td><span class=\"flag\" style=\"background-image:url('gfx/flags-iso/WF.svg');\"></span>Wallis and Futuna</td><td></td><td>2019</td><td>National</td><td class=\"agebox\">18-69</td><td>23.80</td><td>66.70</td><td>16.60</td><td>73.70</td><td>20.00</td><td>70.40</td></tr><tr><td><span class=\"flag\" style=\"background-image:url('gfx/flags-iso/YE.svg');\"></span>Yemen</td><td>Low income</td><td>2013</td><td>National</td><td class=\"agebox\">15-49</td><td>-</td><td>-</td><td>15.70</td><td>8.00</td><td>-</td><td>-</td></tr><tr><td><span class=\"flag\" style=\"background-image:url('gfx/flags-iso/ZM.svg');\"></span>Zambia</td><td>Lower-middle income</td><td>2017</td><td>National</td><td class=\"agebox\">18-69</td><td>13.20</td><td>3.00</td><td>20.20</td><td>12.30</td><td>16.70</td><td>7.50</td></tr><tr><td><span class=\"flag\" style=\"background-image:url('gfx/flags-iso/ZW.svg');\"></span>Zimbabwe</td><td>Lower-middle income</td><td>2015</td><td>National</td><td class=\"agebox\">15-49</td><td>9.70</td><td>2.30</td><td>22.30</td><td>12.60</td><td>16.30</td><td>7.70</td></tr></tbody></table>"
      ]
     },
     "execution_count": 5,
     "metadata": {},
     "output_type": "execute_result"
    }
   ],
   "source": [
    "# Buscar la que tiene los datos\n",
    "tables[0]"
   ]
  },
  {
   "cell_type": "code",
   "execution_count": 6,
   "id": "7558a634",
   "metadata": {},
   "outputs": [],
   "source": [
    "# Convertir a una DataFrame\n",
    "df = pd.DataFrame(columns = [\n",
    "        'Country',\n",
    "        'Year',\n",
    "        'Age',\n",
    "        'All_adults_Overweight',\n",
    "        'All_adults_Obesity'\n",
    "    ])\n",
    "\n",
    "for row in tables[0].find_all('tr')[1::]:\n",
    "    cols = row.find_all(\"td\")\n",
    "    cols = [col.text.strip() for col in cols]\n",
    "    new_row = pd.DataFrame(\n",
    "        {\n",
    "            'Country': cols[0],\n",
    "            'Year': cols[2],\n",
    "            'Age': cols[4],\n",
    "            'All_adults_Overweight': cols[9],\n",
    "            'All_adults_Obesity': cols[10]\n",
    "        },\n",
    "        index=['country']\n",
    "    )\n",
    "    df = pd.concat([df, new_row], ignore_index=True)"
   ]
  },
  {
   "cell_type": "code",
   "execution_count": 7,
   "id": "3ad140f5",
   "metadata": {},
   "outputs": [
    {
     "data": {
      "application/vnd.microsoft.datawrangler.viewer.v0+json": {
       "columns": [
        {
         "name": "index",
         "rawType": "int64",
         "type": "integer"
        },
        {
         "name": "Country",
         "rawType": "object",
         "type": "string"
        },
        {
         "name": "iso_alpha",
         "rawType": "object",
         "type": "unknown"
        },
        {
         "name": "Year",
         "rawType": "object",
         "type": "string"
        },
        {
         "name": "Age",
         "rawType": "object",
         "type": "string"
        },
        {
         "name": "All_adults_Overweight",
         "rawType": "float64",
         "type": "float"
        },
        {
         "name": "All_adults_Obesity",
         "rawType": "float64",
         "type": "float"
        }
       ],
       "ref": "5f08da30-09b4-4283-bcc8-afd2bb498ad7",
       "rows": [
        [
         "0",
         "Afghanistan",
         "AFG",
         "2018",
         "18-69",
         "25.8",
         "17.0"
        ],
        [
         "1",
         "Albania",
         "ALB",
         "2022",
         "16+",
         "44.2",
         "12.4"
        ],
        [
         "2",
         "Algeria",
         "DZA",
         "2016-2017",
         "18-69",
         "33.8",
         "21.8"
        ],
        [
         "3",
         "American Samoa",
         "ASM",
         "2017-2018",
         "18+",
         null,
         "80.2"
        ],
        [
         "4",
         "Andorra",
         "AND",
         "2017-2018",
         "18-75",
         "35.2",
         "13.6"
        ],
        [
         "5",
         "Angola",
         "AGO",
         "2013-2014",
         "15-64",
         "15.8",
         "6.8"
        ],
        [
         "6",
         "Anguilla",
         "AIA",
         "2016",
         "18-69",
         "31.7",
         "38.5"
        ],
        [
         "7",
         "Antigua and Barbuda",
         "ATG",
         "1993",
         "40+",
         null,
         "43.1"
        ],
        [
         "8",
         "Argentina",
         "ARG",
         "2018",
         "18+",
         "33.7",
         "32.4"
        ],
        [
         "9",
         "Armenia",
         "ARM",
         "2016",
         "18-69",
         "28.2",
         "19.5"
        ],
        [
         "10",
         "Aruba",
         "ABW",
         "2023",
         "18-69",
         "32.9",
         "45.8"
        ],
        [
         "11",
         "Australia",
         "AUS",
         "2022-2023",
         "18+",
         "34.0",
         "31.7"
        ],
        [
         "12",
         "Austria",
         "AUT",
         "2022",
         "18+",
         "35.0",
         "17.7"
        ],
        [
         "13",
         "Azerbaijan",
         "AZE",
         "2017-2018",
         "18-69",
         "34.8",
         "20.6"
        ],
        [
         "14",
         "Bahamas",
         "BHS",
         "2019",
         "18-69",
         "28.0",
         "43.6"
        ],
        [
         "15",
         "Bahrain",
         "BHR",
         "2018",
         "18+",
         "35.5",
         "36.9"
        ],
        [
         "16",
         "Bangladesh",
         "BGD",
         "2022",
         "M: 20+; F: 20-49",
         null,
         null
        ],
        [
         "17",
         "Barbados",
         "BRB",
         "2011",
         "25+",
         "32.4",
         "33.8"
        ],
        [
         "18",
         "Belarus",
         "BLR",
         "2020",
         "18-69",
         "34.1",
         "18.9"
        ],
        [
         "19",
         "Belgium",
         "BEL",
         "2022",
         "18+",
         "33.2",
         "15.8"
        ],
        [
         "20",
         "Belize",
         "BLZ",
         "2017",
         "20-55",
         null,
         "40.9"
        ],
        [
         "21",
         "Benin",
         "BEN",
         "2017-2018",
         "15-49",
         null,
         null
        ],
        [
         "22",
         "Benin",
         "BEN",
         "2015",
         "18-69",
         "15.7",
         "7.4"
        ],
        [
         "23",
         "Bermuda",
         "BMU",
         "2013-2014",
         "18+",
         "40.2",
         "34.4"
        ],
        [
         "24",
         "Bhutan",
         "BTN",
         "2023",
         "15-69",
         "33.3",
         "12.5"
        ],
        [
         "25",
         "Bolivia",
         "BOL",
         "2019",
         "18-69",
         "37.1",
         "26.2"
        ],
        [
         "26",
         "Bosnia and Herzegovina",
         "BIH",
         "2012",
         "25-64",
         "40.4",
         "22.3"
        ],
        [
         "27",
         "Botswana",
         "BWA",
         "2014",
         "15-69",
         "18.8",
         "11.8"
        ],
        [
         "28",
         "Brazil",
         "BRA",
         "2023",
         "18+",
         "37.1",
         "24.3"
        ],
        [
         "29",
         "British Virgin Islands",
         "VGB",
         "2009",
         "25-64",
         "39.2",
         "35.5"
        ],
        [
         "30",
         "Brunei Darussalam",
         "BRN",
         "2015-2016",
         "18-69",
         "34.6",
         "28.2"
        ],
        [
         "31",
         "Bulgaria",
         "BGR",
         "2022",
         "18+",
         "42.0",
         "11.7"
        ],
        [
         "32",
         "Burkina Faso",
         "BFA",
         "2021",
         "20-49",
         null,
         null
        ],
        [
         "33",
         "Burkina Faso",
         "BFA",
         "2013",
         "25-64",
         "8.9",
         "4.5"
        ],
        [
         "34",
         "Burundi",
         "BDI",
         "2016-2017",
         "15-49",
         null,
         null
        ],
        [
         "35",
         "Cabo Verde",
         "CPV",
         "2020",
         "18-69",
         "29.9",
         "14.3"
        ],
        [
         "36",
         "Cambodia",
         "KHM",
         "2021-2022",
         "20-49",
         null,
         null
        ],
        [
         "37",
         "Cambodia",
         "KHM",
         "2010",
         "25-64",
         "13.5",
         "1.9"
        ],
        [
         "38",
         "Cameroon",
         "CMR",
         "2018",
         "15-49",
         null,
         null
        ],
        [
         "39",
         "Cameroon",
         "CMR",
         "2003",
         "15+",
         "25.1",
         "13.0"
        ],
        [
         "40",
         "Canada",
         "CAN",
         "2019",
         "18-79",
         "35.5",
         "24.3"
        ],
        [
         "41",
         "Canary Islands (Sp.)",
         null,
         "2021",
         "18+",
         "35.44",
         "18.1"
        ],
        [
         "42",
         "Cayman Islands",
         "CYM",
         "2023",
         "18-69",
         "37.0",
         "32.7"
        ],
        [
         "43",
         "Central African Republic",
         "CAF",
         "2017",
         "25-64",
         "16.0",
         "9.7"
        ],
        [
         "44",
         "Chad",
         "TCD",
         "2014-2015",
         "15-49",
         null,
         null
        ],
        [
         "45",
         "Chad",
         "TCD",
         "2007",
         "25-64",
         "22.9",
         "13.7"
        ],
        [
         "46",
         "Chile",
         "CHL",
         "2016-2017",
         "15+",
         "39.8",
         "34.4"
        ],
        [
         "47",
         "China",
         "CHN",
         "2015",
         "18-59",
         "33.07",
         "6.51"
        ],
        [
         "48",
         "Colombia",
         "COL",
         "2015-2016",
         "18-64",
         "37.8",
         "18.7"
        ],
        [
         "49",
         "Comoros",
         "COM",
         "2012",
         "15-49",
         null,
         null
        ]
       ],
       "shape": {
        "columns": 6,
        "rows": 248
       }
      },
      "text/html": [
       "<div>\n",
       "<style scoped>\n",
       "    .dataframe tbody tr th:only-of-type {\n",
       "        vertical-align: middle;\n",
       "    }\n",
       "\n",
       "    .dataframe tbody tr th {\n",
       "        vertical-align: top;\n",
       "    }\n",
       "\n",
       "    .dataframe thead th {\n",
       "        text-align: right;\n",
       "    }\n",
       "</style>\n",
       "<table border=\"1\" class=\"dataframe\">\n",
       "  <thead>\n",
       "    <tr style=\"text-align: right;\">\n",
       "      <th></th>\n",
       "      <th>Country</th>\n",
       "      <th>iso_alpha</th>\n",
       "      <th>Year</th>\n",
       "      <th>Age</th>\n",
       "      <th>All_adults_Overweight</th>\n",
       "      <th>All_adults_Obesity</th>\n",
       "    </tr>\n",
       "  </thead>\n",
       "  <tbody>\n",
       "    <tr>\n",
       "      <th>0</th>\n",
       "      <td>Afghanistan</td>\n",
       "      <td>AFG</td>\n",
       "      <td>2018</td>\n",
       "      <td>18-69</td>\n",
       "      <td>25.8</td>\n",
       "      <td>17.0</td>\n",
       "    </tr>\n",
       "    <tr>\n",
       "      <th>1</th>\n",
       "      <td>Albania</td>\n",
       "      <td>ALB</td>\n",
       "      <td>2022</td>\n",
       "      <td>16+</td>\n",
       "      <td>44.2</td>\n",
       "      <td>12.4</td>\n",
       "    </tr>\n",
       "    <tr>\n",
       "      <th>2</th>\n",
       "      <td>Algeria</td>\n",
       "      <td>DZA</td>\n",
       "      <td>2016-2017</td>\n",
       "      <td>18-69</td>\n",
       "      <td>33.8</td>\n",
       "      <td>21.8</td>\n",
       "    </tr>\n",
       "    <tr>\n",
       "      <th>3</th>\n",
       "      <td>American Samoa</td>\n",
       "      <td>ASM</td>\n",
       "      <td>2017-2018</td>\n",
       "      <td>18+</td>\n",
       "      <td>NaN</td>\n",
       "      <td>80.2</td>\n",
       "    </tr>\n",
       "    <tr>\n",
       "      <th>4</th>\n",
       "      <td>Andorra</td>\n",
       "      <td>AND</td>\n",
       "      <td>2017-2018</td>\n",
       "      <td>18-75</td>\n",
       "      <td>35.2</td>\n",
       "      <td>13.6</td>\n",
       "    </tr>\n",
       "    <tr>\n",
       "      <th>...</th>\n",
       "      <td>...</td>\n",
       "      <td>...</td>\n",
       "      <td>...</td>\n",
       "      <td>...</td>\n",
       "      <td>...</td>\n",
       "      <td>...</td>\n",
       "    </tr>\n",
       "    <tr>\n",
       "      <th>243</th>\n",
       "      <td>Wales</td>\n",
       "      <td>None</td>\n",
       "      <td>2022-2023</td>\n",
       "      <td>16+</td>\n",
       "      <td>35.2</td>\n",
       "      <td>26.0</td>\n",
       "    </tr>\n",
       "    <tr>\n",
       "      <th>244</th>\n",
       "      <td>Wallis and Futuna</td>\n",
       "      <td>WLF</td>\n",
       "      <td>2019</td>\n",
       "      <td>18-69</td>\n",
       "      <td>20.0</td>\n",
       "      <td>70.4</td>\n",
       "    </tr>\n",
       "    <tr>\n",
       "      <th>245</th>\n",
       "      <td>Yemen</td>\n",
       "      <td>YEM</td>\n",
       "      <td>2013</td>\n",
       "      <td>15-49</td>\n",
       "      <td>NaN</td>\n",
       "      <td>NaN</td>\n",
       "    </tr>\n",
       "    <tr>\n",
       "      <th>246</th>\n",
       "      <td>Zambia</td>\n",
       "      <td>ZMB</td>\n",
       "      <td>2017</td>\n",
       "      <td>18-69</td>\n",
       "      <td>16.7</td>\n",
       "      <td>7.5</td>\n",
       "    </tr>\n",
       "    <tr>\n",
       "      <th>247</th>\n",
       "      <td>Zimbabwe</td>\n",
       "      <td>ZWE</td>\n",
       "      <td>2015</td>\n",
       "      <td>15-49</td>\n",
       "      <td>16.3</td>\n",
       "      <td>7.7</td>\n",
       "    </tr>\n",
       "  </tbody>\n",
       "</table>\n",
       "<p>248 rows × 6 columns</p>\n",
       "</div>"
      ],
      "text/plain": [
       "               Country iso_alpha       Year    Age  All_adults_Overweight  \\\n",
       "0          Afghanistan       AFG       2018  18-69                   25.8   \n",
       "1              Albania       ALB       2022    16+                   44.2   \n",
       "2              Algeria       DZA  2016-2017  18-69                   33.8   \n",
       "3       American Samoa       ASM  2017-2018    18+                    NaN   \n",
       "4              Andorra       AND  2017-2018  18-75                   35.2   \n",
       "..                 ...       ...        ...    ...                    ...   \n",
       "243              Wales      None  2022-2023    16+                   35.2   \n",
       "244  Wallis and Futuna       WLF       2019  18-69                   20.0   \n",
       "245              Yemen       YEM       2013  15-49                    NaN   \n",
       "246             Zambia       ZMB       2017  18-69                   16.7   \n",
       "247           Zimbabwe       ZWE       2015  15-49                   16.3   \n",
       "\n",
       "     All_adults_Obesity  \n",
       "0                  17.0  \n",
       "1                  12.4  \n",
       "2                  21.8  \n",
       "3                  80.2  \n",
       "4                  13.6  \n",
       "..                  ...  \n",
       "243                26.0  \n",
       "244                70.4  \n",
       "245                 NaN  \n",
       "246                 7.5  \n",
       "247                 7.7  \n",
       "\n",
       "[248 rows x 6 columns]"
      ]
     },
     "execution_count": 7,
     "metadata": {},
     "output_type": "execute_result"
    }
   ],
   "source": [
    "# Códigos estándar de países y manejo de nulls\n",
    "\n",
    "df.iloc[:, :2] = df.iloc[:, :2].replace('', np.nan)\n",
    "df.iloc[:, 3:] = df.iloc[:, 3:].replace('-', np.nan)\n",
    "\n",
    "cols = [\n",
    "    'All_adults_Overweight',\n",
    "    'All_adults_Obesity'\n",
    "]\n",
    "for col in cols:\n",
    "    df[col] = df[col].astype(float)\n",
    "\n",
    "def country_to_iso3(name):\n",
    "    try:\n",
    "        return pycountry.countries.lookup(name).alpha_3\n",
    "    except:\n",
    "        return None\n",
    "    \n",
    "df[\"iso_alpha\"] = df[\"Country\"].apply(country_to_iso3)\n",
    "\n",
    "col = df.pop(\"iso_alpha\")\n",
    "df.insert(1, \"iso_alpha\", col)\n",
    "df"
   ]
  },
  {
   "cell_type": "code",
   "execution_count": 8,
   "id": "a9a6cdbf",
   "metadata": {},
   "outputs": [
    {
     "data": {
      "application/vnd.microsoft.datawrangler.viewer.v0+json": {
       "columns": [
        {
         "name": "index",
         "rawType": "int64",
         "type": "integer"
        },
        {
         "name": "Country Code",
         "rawType": "object",
         "type": "string"
        },
        {
         "name": "2024",
         "rawType": "float64",
         "type": "float"
        }
       ],
       "ref": "ebe6c2e0-7df5-4fb1-830c-6a7d1cfd403f",
       "rows": [
        [
         "0",
         "ABW",
         "4.6"
        ],
        [
         "1",
         "AFE",
         "6.45439161414553"
        ],
        [
         "2",
         "AFG",
         "11.7"
        ],
        [
         "3",
         "AFW",
         "4.2192773884166"
        ],
        [
         "4",
         "AGO",
         "4.9"
        ],
        [
         "5",
         "ALB",
         "10.6"
        ],
        [
         "6",
         "AND",
         "10.1"
        ],
        [
         "7",
         "ARB",
         "17.2979250633681"
        ],
        [
         "8",
         "ARE",
         "20.7"
        ],
        [
         "9",
         "ARG",
         "14.0"
        ],
        [
         "10",
         "ARM",
         "7.7"
        ],
        [
         "11",
         "ASM",
         null
        ],
        [
         "12",
         "ATG",
         "11.6"
        ],
        [
         "13",
         "AUS",
         "7.4"
        ],
        [
         "14",
         "AUT",
         "5.4"
        ],
        [
         "15",
         "AZE",
         "10.2"
        ],
        [
         "16",
         "BDI",
         "4.3"
        ],
        [
         "17",
         "BEL",
         "5.9"
        ],
        [
         "18",
         "BEN",
         "8.1"
        ],
        [
         "19",
         "BFA",
         "4.5"
        ],
        [
         "20",
         "BGD",
         "13.2"
        ],
        [
         "21",
         "BGR",
         "7.4"
        ],
        [
         "22",
         "BHR",
         "22.1"
        ],
        [
         "23",
         "BHS",
         "8.9"
        ],
        [
         "24",
         "BIH",
         "10.3"
        ],
        [
         "25",
         "BLR",
         "5.1"
        ],
        [
         "26",
         "BLZ",
         "14.1"
        ],
        [
         "27",
         "BMU",
         "13.4"
        ],
        [
         "28",
         "BOL",
         "3.4"
        ],
        [
         "29",
         "BRA",
         "10.6"
        ],
        [
         "30",
         "BRB",
         "13.2"
        ],
        [
         "31",
         "BRN",
         "13.7"
        ],
        [
         "32",
         "BTN",
         "12.0"
        ],
        [
         "33",
         "BWA",
         "4.6"
        ],
        [
         "34",
         "CAF",
         "7.6"
        ],
        [
         "35",
         "CAN",
         "7.7"
        ],
        [
         "36",
         "CEB",
         "7.87082497558525"
        ],
        [
         "37",
         "CHE",
         "5.3"
        ],
        [
         "38",
         "CHI",
         null
        ],
        [
         "39",
         "CHL",
         "12.2"
        ],
        [
         "40",
         "CHN",
         "11.9"
        ],
        [
         "41",
         "CIV",
         "5.0"
        ],
        [
         "42",
         "CMR",
         "6.9"
        ],
        [
         "43",
         "COD",
         "7.7"
        ],
        [
         "44",
         "COG",
         "8.1"
        ],
        [
         "45",
         "COL",
         "8.4"
        ],
        [
         "46",
         "COM",
         "10.8"
        ],
        [
         "47",
         "CPV",
         "6.8"
        ],
        [
         "48",
         "CRI",
         "9.8"
        ],
        [
         "49",
         "CSS",
         "12.9741084825892"
        ]
       ],
       "shape": {
        "columns": 2,
        "rows": 266
       }
      },
      "text/html": [
       "<div>\n",
       "<style scoped>\n",
       "    .dataframe tbody tr th:only-of-type {\n",
       "        vertical-align: middle;\n",
       "    }\n",
       "\n",
       "    .dataframe tbody tr th {\n",
       "        vertical-align: top;\n",
       "    }\n",
       "\n",
       "    .dataframe thead th {\n",
       "        text-align: right;\n",
       "    }\n",
       "</style>\n",
       "<table border=\"1\" class=\"dataframe\">\n",
       "  <thead>\n",
       "    <tr style=\"text-align: right;\">\n",
       "      <th></th>\n",
       "      <th>Country Code</th>\n",
       "      <th>2024</th>\n",
       "    </tr>\n",
       "  </thead>\n",
       "  <tbody>\n",
       "    <tr>\n",
       "      <th>0</th>\n",
       "      <td>ABW</td>\n",
       "      <td>4.600000</td>\n",
       "    </tr>\n",
       "    <tr>\n",
       "      <th>1</th>\n",
       "      <td>AFE</td>\n",
       "      <td>6.454392</td>\n",
       "    </tr>\n",
       "    <tr>\n",
       "      <th>2</th>\n",
       "      <td>AFG</td>\n",
       "      <td>11.700000</td>\n",
       "    </tr>\n",
       "    <tr>\n",
       "      <th>3</th>\n",
       "      <td>AFW</td>\n",
       "      <td>4.219277</td>\n",
       "    </tr>\n",
       "    <tr>\n",
       "      <th>4</th>\n",
       "      <td>AGO</td>\n",
       "      <td>4.900000</td>\n",
       "    </tr>\n",
       "    <tr>\n",
       "      <th>...</th>\n",
       "      <td>...</td>\n",
       "      <td>...</td>\n",
       "    </tr>\n",
       "    <tr>\n",
       "      <th>261</th>\n",
       "      <td>XKX</td>\n",
       "      <td>10.400000</td>\n",
       "    </tr>\n",
       "    <tr>\n",
       "      <th>262</th>\n",
       "      <td>YEM</td>\n",
       "      <td>5.500000</td>\n",
       "    </tr>\n",
       "    <tr>\n",
       "      <th>263</th>\n",
       "      <td>ZAF</td>\n",
       "      <td>7.200000</td>\n",
       "    </tr>\n",
       "    <tr>\n",
       "      <th>264</th>\n",
       "      <td>ZMB</td>\n",
       "      <td>10.300000</td>\n",
       "    </tr>\n",
       "    <tr>\n",
       "      <th>265</th>\n",
       "      <td>ZWE</td>\n",
       "      <td>1.500000</td>\n",
       "    </tr>\n",
       "  </tbody>\n",
       "</table>\n",
       "<p>266 rows × 2 columns</p>\n",
       "</div>"
      ],
      "text/plain": [
       "    Country Code       2024\n",
       "0            ABW   4.600000\n",
       "1            AFE   6.454392\n",
       "2            AFG  11.700000\n",
       "3            AFW   4.219277\n",
       "4            AGO   4.900000\n",
       "..           ...        ...\n",
       "261          XKX  10.400000\n",
       "262          YEM   5.500000\n",
       "263          ZAF   7.200000\n",
       "264          ZMB  10.300000\n",
       "265          ZWE   1.500000\n",
       "\n",
       "[266 rows x 2 columns]"
      ]
     },
     "execution_count": 8,
     "metadata": {},
     "output_type": "execute_result"
    }
   ],
   "source": [
    "diabetes = pd.read_csv(\"diabetes_2024.csv\", sep=\",\")\n",
    "diabetes = diabetes[[\"Country Code\", \"2024\"]]\n",
    "diabetes"
   ]
  },
  {
   "cell_type": "code",
   "execution_count": 15,
   "id": "f821946f",
   "metadata": {},
   "outputs": [
    {
     "data": {
      "application/vnd.microsoft.datawrangler.viewer.v0+json": {
       "columns": [
        {
         "name": "index",
         "rawType": "int64",
         "type": "integer"
        },
        {
         "name": "Country",
         "rawType": "object",
         "type": "string"
        },
        {
         "name": "iso_alpha",
         "rawType": "object",
         "type": "unknown"
        },
        {
         "name": "Year",
         "rawType": "object",
         "type": "string"
        },
        {
         "name": "Age",
         "rawType": "object",
         "type": "string"
        },
        {
         "name": "All_adults_Overweight",
         "rawType": "float64",
         "type": "float"
        },
        {
         "name": "All_adults_Obesity",
         "rawType": "float64",
         "type": "float"
        },
        {
         "name": "All_adults_Diabetes",
         "rawType": "float64",
         "type": "float"
        }
       ],
       "ref": "2f080c56-d1be-417c-84e1-670504de6a35",
       "rows": [
        [
         "0",
         "Afghanistan",
         "AFG",
         "2018",
         "18-69",
         "25.8",
         "17.0",
         "11.7"
        ],
        [
         "1",
         "Albania",
         "ALB",
         "2022",
         "16+",
         "44.2",
         "12.4",
         "10.6"
        ],
        [
         "2",
         "Algeria",
         "DZA",
         "2016-2017",
         "18-69",
         "33.8",
         "21.8",
         "17.5"
        ],
        [
         "3",
         "American Samoa",
         "ASM",
         "2017-2018",
         "18+",
         null,
         "80.2",
         null
        ],
        [
         "4",
         "Andorra",
         "AND",
         "2017-2018",
         "18-75",
         "35.2",
         "13.6",
         "10.1"
        ],
        [
         "5",
         "Angola",
         "AGO",
         "2013-2014",
         "15-64",
         "15.8",
         "6.8",
         "4.9"
        ],
        [
         "6",
         "Anguilla",
         "AIA",
         "2016",
         "18-69",
         "31.7",
         "38.5",
         null
        ],
        [
         "7",
         "Antigua and Barbuda",
         "ATG",
         "1993",
         "40+",
         null,
         "43.1",
         "11.6"
        ],
        [
         "8",
         "Argentina",
         "ARG",
         "2018",
         "18+",
         "33.7",
         "32.4",
         "14.0"
        ],
        [
         "9",
         "Armenia",
         "ARM",
         "2016",
         "18-69",
         "28.2",
         "19.5",
         "7.7"
        ],
        [
         "10",
         "Aruba",
         "ABW",
         "2023",
         "18-69",
         "32.9",
         "45.8",
         "4.6"
        ],
        [
         "11",
         "Australia",
         "AUS",
         "2022-2023",
         "18+",
         "34.0",
         "31.7",
         "7.4"
        ],
        [
         "12",
         "Austria",
         "AUT",
         "2022",
         "18+",
         "35.0",
         "17.7",
         "5.4"
        ],
        [
         "13",
         "Azerbaijan",
         "AZE",
         "2017-2018",
         "18-69",
         "34.8",
         "20.6",
         "10.2"
        ],
        [
         "14",
         "Bahamas",
         "BHS",
         "2019",
         "18-69",
         "28.0",
         "43.6",
         "8.9"
        ],
        [
         "15",
         "Bahrain",
         "BHR",
         "2018",
         "18+",
         "35.5",
         "36.9",
         "22.1"
        ],
        [
         "16",
         "Bangladesh",
         "BGD",
         "2022",
         "M: 20+; F: 20-49",
         null,
         null,
         "13.2"
        ],
        [
         "17",
         "Barbados",
         "BRB",
         "2011",
         "25+",
         "32.4",
         "33.8",
         "13.2"
        ],
        [
         "18",
         "Belarus",
         "BLR",
         "2020",
         "18-69",
         "34.1",
         "18.9",
         "5.1"
        ],
        [
         "19",
         "Belgium",
         "BEL",
         "2022",
         "18+",
         "33.2",
         "15.8",
         "5.9"
        ],
        [
         "20",
         "Belize",
         "BLZ",
         "2017",
         "20-55",
         null,
         "40.9",
         "14.1"
        ],
        [
         "21",
         "Benin",
         "BEN",
         "2017-2018",
         "15-49",
         null,
         null,
         "8.1"
        ],
        [
         "22",
         "Benin",
         "BEN",
         "2015",
         "18-69",
         "15.7",
         "7.4",
         "8.1"
        ],
        [
         "23",
         "Bermuda",
         "BMU",
         "2013-2014",
         "18+",
         "40.2",
         "34.4",
         "13.4"
        ],
        [
         "24",
         "Bhutan",
         "BTN",
         "2023",
         "15-69",
         "33.3",
         "12.5",
         "12.0"
        ],
        [
         "25",
         "Bolivia",
         "BOL",
         "2019",
         "18-69",
         "37.1",
         "26.2",
         "3.4"
        ],
        [
         "26",
         "Bosnia and Herzegovina",
         "BIH",
         "2012",
         "25-64",
         "40.4",
         "22.3",
         "10.3"
        ],
        [
         "27",
         "Botswana",
         "BWA",
         "2014",
         "15-69",
         "18.8",
         "11.8",
         "4.6"
        ],
        [
         "28",
         "Brazil",
         "BRA",
         "2023",
         "18+",
         "37.1",
         "24.3",
         "10.6"
        ],
        [
         "29",
         "British Virgin Islands",
         "VGB",
         "2009",
         "25-64",
         "39.2",
         "35.5",
         null
        ],
        [
         "30",
         "Brunei Darussalam",
         "BRN",
         "2015-2016",
         "18-69",
         "34.6",
         "28.2",
         "13.7"
        ],
        [
         "31",
         "Bulgaria",
         "BGR",
         "2022",
         "18+",
         "42.0",
         "11.7",
         "7.4"
        ],
        [
         "32",
         "Burkina Faso",
         "BFA",
         "2021",
         "20-49",
         null,
         null,
         "4.5"
        ],
        [
         "33",
         "Burkina Faso",
         "BFA",
         "2013",
         "25-64",
         "8.9",
         "4.5",
         "4.5"
        ],
        [
         "34",
         "Burundi",
         "BDI",
         "2016-2017",
         "15-49",
         null,
         null,
         "4.3"
        ],
        [
         "35",
         "Cabo Verde",
         "CPV",
         "2020",
         "18-69",
         "29.9",
         "14.3",
         "6.8"
        ],
        [
         "36",
         "Cambodia",
         "KHM",
         "2021-2022",
         "20-49",
         null,
         null,
         "7.5"
        ],
        [
         "37",
         "Cambodia",
         "KHM",
         "2010",
         "25-64",
         "13.5",
         "1.9",
         "7.5"
        ],
        [
         "38",
         "Cameroon",
         "CMR",
         "2018",
         "15-49",
         null,
         null,
         "6.9"
        ],
        [
         "39",
         "Cameroon",
         "CMR",
         "2003",
         "15+",
         "25.1",
         "13.0",
         "6.9"
        ],
        [
         "40",
         "Canada",
         "CAN",
         "2019",
         "18-79",
         "35.5",
         "24.3",
         "7.7"
        ],
        [
         "41",
         "Canary Islands (Sp.)",
         null,
         "2021",
         "18+",
         "35.44",
         "18.1",
         null
        ],
        [
         "42",
         "Cayman Islands",
         "CYM",
         "2023",
         "18-69",
         "37.0",
         "32.7",
         "11.1"
        ],
        [
         "43",
         "Central African Republic",
         "CAF",
         "2017",
         "25-64",
         "16.0",
         "9.7",
         "7.6"
        ],
        [
         "44",
         "Chad",
         "TCD",
         "2014-2015",
         "15-49",
         null,
         null,
         "7.3"
        ],
        [
         "45",
         "Chad",
         "TCD",
         "2007",
         "25-64",
         "22.9",
         "13.7",
         "7.3"
        ],
        [
         "46",
         "Chile",
         "CHL",
         "2016-2017",
         "15+",
         "39.8",
         "34.4",
         "12.2"
        ],
        [
         "47",
         "China",
         "CHN",
         "2015",
         "18-59",
         "33.07",
         "6.51",
         "11.9"
        ],
        [
         "48",
         "Colombia",
         "COL",
         "2015-2016",
         "18-64",
         "37.8",
         "18.7",
         "8.4"
        ],
        [
         "49",
         "Comoros",
         "COM",
         "2012",
         "15-49",
         null,
         null,
         "10.8"
        ]
       ],
       "shape": {
        "columns": 7,
        "rows": 248
       }
      },
      "text/html": [
       "<div>\n",
       "<style scoped>\n",
       "    .dataframe tbody tr th:only-of-type {\n",
       "        vertical-align: middle;\n",
       "    }\n",
       "\n",
       "    .dataframe tbody tr th {\n",
       "        vertical-align: top;\n",
       "    }\n",
       "\n",
       "    .dataframe thead th {\n",
       "        text-align: right;\n",
       "    }\n",
       "</style>\n",
       "<table border=\"1\" class=\"dataframe\">\n",
       "  <thead>\n",
       "    <tr style=\"text-align: right;\">\n",
       "      <th></th>\n",
       "      <th>Country</th>\n",
       "      <th>iso_alpha</th>\n",
       "      <th>Year</th>\n",
       "      <th>Age</th>\n",
       "      <th>All_adults_Overweight</th>\n",
       "      <th>All_adults_Obesity</th>\n",
       "      <th>All_adults_Diabetes</th>\n",
       "    </tr>\n",
       "  </thead>\n",
       "  <tbody>\n",
       "    <tr>\n",
       "      <th>0</th>\n",
       "      <td>Afghanistan</td>\n",
       "      <td>AFG</td>\n",
       "      <td>2018</td>\n",
       "      <td>18-69</td>\n",
       "      <td>25.8</td>\n",
       "      <td>17.0</td>\n",
       "      <td>11.7</td>\n",
       "    </tr>\n",
       "    <tr>\n",
       "      <th>1</th>\n",
       "      <td>Albania</td>\n",
       "      <td>ALB</td>\n",
       "      <td>2022</td>\n",
       "      <td>16+</td>\n",
       "      <td>44.2</td>\n",
       "      <td>12.4</td>\n",
       "      <td>10.6</td>\n",
       "    </tr>\n",
       "    <tr>\n",
       "      <th>2</th>\n",
       "      <td>Algeria</td>\n",
       "      <td>DZA</td>\n",
       "      <td>2016-2017</td>\n",
       "      <td>18-69</td>\n",
       "      <td>33.8</td>\n",
       "      <td>21.8</td>\n",
       "      <td>17.5</td>\n",
       "    </tr>\n",
       "    <tr>\n",
       "      <th>3</th>\n",
       "      <td>American Samoa</td>\n",
       "      <td>ASM</td>\n",
       "      <td>2017-2018</td>\n",
       "      <td>18+</td>\n",
       "      <td>NaN</td>\n",
       "      <td>80.2</td>\n",
       "      <td>NaN</td>\n",
       "    </tr>\n",
       "    <tr>\n",
       "      <th>4</th>\n",
       "      <td>Andorra</td>\n",
       "      <td>AND</td>\n",
       "      <td>2017-2018</td>\n",
       "      <td>18-75</td>\n",
       "      <td>35.2</td>\n",
       "      <td>13.6</td>\n",
       "      <td>10.1</td>\n",
       "    </tr>\n",
       "    <tr>\n",
       "      <th>...</th>\n",
       "      <td>...</td>\n",
       "      <td>...</td>\n",
       "      <td>...</td>\n",
       "      <td>...</td>\n",
       "      <td>...</td>\n",
       "      <td>...</td>\n",
       "      <td>...</td>\n",
       "    </tr>\n",
       "    <tr>\n",
       "      <th>243</th>\n",
       "      <td>Wales</td>\n",
       "      <td>None</td>\n",
       "      <td>2022-2023</td>\n",
       "      <td>16+</td>\n",
       "      <td>35.2</td>\n",
       "      <td>26.0</td>\n",
       "      <td>NaN</td>\n",
       "    </tr>\n",
       "    <tr>\n",
       "      <th>244</th>\n",
       "      <td>Wallis and Futuna</td>\n",
       "      <td>WLF</td>\n",
       "      <td>2019</td>\n",
       "      <td>18-69</td>\n",
       "      <td>20.0</td>\n",
       "      <td>70.4</td>\n",
       "      <td>NaN</td>\n",
       "    </tr>\n",
       "    <tr>\n",
       "      <th>245</th>\n",
       "      <td>Yemen</td>\n",
       "      <td>YEM</td>\n",
       "      <td>2013</td>\n",
       "      <td>15-49</td>\n",
       "      <td>NaN</td>\n",
       "      <td>NaN</td>\n",
       "      <td>5.5</td>\n",
       "    </tr>\n",
       "    <tr>\n",
       "      <th>246</th>\n",
       "      <td>Zambia</td>\n",
       "      <td>ZMB</td>\n",
       "      <td>2017</td>\n",
       "      <td>18-69</td>\n",
       "      <td>16.7</td>\n",
       "      <td>7.5</td>\n",
       "      <td>10.3</td>\n",
       "    </tr>\n",
       "    <tr>\n",
       "      <th>247</th>\n",
       "      <td>Zimbabwe</td>\n",
       "      <td>ZWE</td>\n",
       "      <td>2015</td>\n",
       "      <td>15-49</td>\n",
       "      <td>16.3</td>\n",
       "      <td>7.7</td>\n",
       "      <td>1.5</td>\n",
       "    </tr>\n",
       "  </tbody>\n",
       "</table>\n",
       "<p>248 rows × 7 columns</p>\n",
       "</div>"
      ],
      "text/plain": [
       "               Country iso_alpha       Year    Age  All_adults_Overweight  \\\n",
       "0          Afghanistan       AFG       2018  18-69                   25.8   \n",
       "1              Albania       ALB       2022    16+                   44.2   \n",
       "2              Algeria       DZA  2016-2017  18-69                   33.8   \n",
       "3       American Samoa       ASM  2017-2018    18+                    NaN   \n",
       "4              Andorra       AND  2017-2018  18-75                   35.2   \n",
       "..                 ...       ...        ...    ...                    ...   \n",
       "243              Wales      None  2022-2023    16+                   35.2   \n",
       "244  Wallis and Futuna       WLF       2019  18-69                   20.0   \n",
       "245              Yemen       YEM       2013  15-49                    NaN   \n",
       "246             Zambia       ZMB       2017  18-69                   16.7   \n",
       "247           Zimbabwe       ZWE       2015  15-49                   16.3   \n",
       "\n",
       "     All_adults_Obesity  All_adults_Diabetes  \n",
       "0                  17.0                 11.7  \n",
       "1                  12.4                 10.6  \n",
       "2                  21.8                 17.5  \n",
       "3                  80.2                  NaN  \n",
       "4                  13.6                 10.1  \n",
       "..                  ...                  ...  \n",
       "243                26.0                  NaN  \n",
       "244                70.4                  NaN  \n",
       "245                 NaN                  5.5  \n",
       "246                 7.5                 10.3  \n",
       "247                 7.7                  1.5  \n",
       "\n",
       "[248 rows x 7 columns]"
      ]
     },
     "execution_count": 15,
     "metadata": {},
     "output_type": "execute_result"
    }
   ],
   "source": [
    "df_completo = df.merge(diabetes, \"left\", left_on=\"iso_alpha\", right_on=\"Country Code\")\n",
    "df_completo = df_completo.drop([\"Country Code\"], axis=1)\n",
    "df_completo = df_completo.rename(\n",
    "    columns={\n",
    "        \"2024\": \"All_adults_Diabetes\"\n",
    "        }\n",
    ")\n",
    "df_completo"
   ]
  },
  {
   "cell_type": "code",
   "execution_count": 18,
   "id": "b15251b4",
   "metadata": {},
   "outputs": [
    {
     "data": {
      "image/png": "[encoded data removed]",
      "text/plain": [
       "<Figure size 640x480 with 1 Axes>"
      ]
     },
     "metadata": {},
     "output_type": "display_data"
    }
   ],
   "source": [
    "import matplotlib.pyplot as plt\n",
    "\n",
    "# Scatter plot entre dos columnas\n",
    "plt.scatter(df_completo[\"All_adults_Obesity\"], df_completo[\"All_adults_Diabetes\"], alpha=0.7)\n",
    "plt.xlabel(\"All_adults_Obesity\")\n",
    "plt.ylabel(\"All_adults_Diabetes\")\n",
    "plt.title(\"Relación entre col1 y col2\")\n",
    "plt.show()\n"
   ]
  },
  {
   "cell_type": "code",
   "execution_count": 19,
   "id": "fc59f06b",
   "metadata": {},
   "outputs": [
    {
     "data": {
      "image/png": "[encoded data removed]",
      "text/plain": [
       "<Figure size 640x480 with 2 Axes>"
      ]
     },
     "metadata": {},
     "output_type": "display_data"
    }
   ],
   "source": [
    "import seaborn as sns\n",
    "\n",
    "sns.heatmap(df_completo[[\"All_adults_Obesity\", \"All_adults_Diabetes\"]].corr(), annot=True, cmap=\"coolwarm\")\n",
    "plt.title(\"Matriz de correlación\")\n",
    "plt.show()"
   ]
  },
  {
   "cell_type": "code",
   "execution_count": 20,
   "id": "e6644147",
   "metadata": {},
   "outputs": [
    {
     "name": "stdout",
     "output_type": "stream",
     "text": [
      "Coeficiente de correlación: 0.5691606367962866\n"
     ]
    }
   ],
   "source": [
    "corr = df_completo[\"All_adults_Obesity\"].corr(df_completo[\"All_adults_Diabetes\"])\n",
    "print(\"Coeficiente de correlación:\", corr)"
   ]
  },
  {
   "cell_type": "code",
   "execution_count": null,
   "id": "2b6e9fd6",
   "metadata": {},
   "outputs": [
    {
     "data": {
      "application/vnd.microsoft.datawrangler.viewer.v0+json": {
       "columns": [
        {
         "name": "index",
         "rawType": "int64",
         "type": "integer"
        },
        {
         "name": "Country",
         "rawType": "object",
         "type": "string"
        },
        {
         "name": "iso_alpha",
         "rawType": "object",
         "type": "unknown"
        },
        {
         "name": "Year",
         "rawType": "object",
         "type": "string"
        },
        {
         "name": "Age",
         "rawType": "object",
         "type": "string"
        },
        {
         "name": "All_adults_Overweight",
         "rawType": "float64",
         "type": "float"
        },
        {
         "name": "All_adults_Obesity",
         "rawType": "float64",
         "type": "float"
        },
        {
         "name": "All_adults_Diabetes",
         "rawType": "float64",
         "type": "float"
        },
        {
         "name": "ratio",
         "rawType": "float64",
         "type": "float"
        }
       ],
       "ref": "98a010ca-d9a0-4a18-92fc-3c01cbbf807f",
       "rows": [
        [
         "0",
         "Afghanistan",
         "AFG",
         "2018",
         "18-69",
         "25.8",
         "17.0",
         "11.7",
         "1.4529914529914532"
        ],
        [
         "1",
         "Albania",
         "ALB",
         "2022",
         "16+",
         "44.2",
         "12.4",
         "10.6",
         "1.169811320754717"
        ],
        [
         "2",
         "Algeria",
         "DZA",
         "2016-2017",
         "18-69",
         "33.8",
         "21.8",
         "17.5",
         "1.2457142857142858"
        ],
        [
         "3",
         "American Samoa",
         "ASM",
         "2017-2018",
         "18+",
         null,
         "80.2",
         null,
         null
        ],
        [
         "4",
         "Andorra",
         "AND",
         "2017-2018",
         "18-75",
         "35.2",
         "13.6",
         "10.1",
         "1.3465346534653466"
        ],
        [
         "5",
         "Angola",
         "AGO",
         "2013-2014",
         "15-64",
         "15.8",
         "6.8",
         "4.9",
         "1.387755102040816"
        ],
        [
         "6",
         "Anguilla",
         "AIA",
         "2016",
         "18-69",
         "31.7",
         "38.5",
         null,
         null
        ],
        [
         "7",
         "Antigua and Barbuda",
         "ATG",
         "1993",
         "40+",
         null,
         "43.1",
         "11.6",
         "3.7155172413793105"
        ],
        [
         "8",
         "Argentina",
         "ARG",
         "2018",
         "18+",
         "33.7",
         "32.4",
         "14.0",
         "2.314285714285714"
        ],
        [
         "9",
         "Armenia",
         "ARM",
         "2016",
         "18-69",
         "28.2",
         "19.5",
         "7.7",
         "2.5324675324675323"
        ],
        [
         "10",
         "Aruba",
         "ABW",
         "2023",
         "18-69",
         "32.9",
         "45.8",
         "4.6",
         "9.956521739130435"
        ],
        [
         "11",
         "Australia",
         "AUS",
         "2022-2023",
         "18+",
         "34.0",
         "31.7",
         "7.4",
         "4.283783783783783"
        ],
        [
         "12",
         "Austria",
         "AUT",
         "2022",
         "18+",
         "35.0",
         "17.7",
         "5.4",
         "3.2777777777777772"
        ],
        [
         "13",
         "Azerbaijan",
         "AZE",
         "2017-2018",
         "18-69",
         "34.8",
         "20.6",
         "10.2",
         "2.0196078431372553"
        ],
        [
         "14",
         "Bahamas",
         "BHS",
         "2019",
         "18-69",
         "28.0",
         "43.6",
         "8.9",
         "4.8988764044943816"
        ],
        [
         "15",
         "Bahrain",
         "BHR",
         "2018",
         "18+",
         "35.5",
         "36.9",
         "22.1",
         "1.6696832579185519"
        ],
        [
         "16",
         "Bangladesh",
         "BGD",
         "2022",
         "M: 20+; F: 20-49",
         null,
         null,
         "13.2",
         null
        ],
        [
         "17",
         "Barbados",
         "BRB",
         "2011",
         "25+",
         "32.4",
         "33.8",
         "13.2",
         "2.5606060606060606"
        ],
        [
         "18",
         "Belarus",
         "BLR",
         "2020",
         "18-69",
         "34.1",
         "18.9",
         "5.1",
         "3.7058823529411766"
        ],
        [
         "19",
         "Belgium",
         "BEL",
         "2022",
         "18+",
         "33.2",
         "15.8",
         "5.9",
         "2.6779661016949152"
        ],
        [
         "20",
         "Belize",
         "BLZ",
         "2017",
         "20-55",
         null,
         "40.9",
         "14.1",
         "2.900709219858156"
        ],
        [
         "21",
         "Benin",
         "BEN",
         "2017-2018",
         "15-49",
         null,
         null,
         "8.1",
         null
        ],
        [
         "22",
         "Benin",
         "BEN",
         "2015",
         "18-69",
         "15.7",
         "7.4",
         "8.1",
         "0.9135802469135803"
        ],
        [
         "23",
         "Bermuda",
         "BMU",
         "2013-2014",
         "18+",
         "40.2",
         "34.4",
         "13.4",
         "2.5671641791044775"
        ],
        [
         "24",
         "Bhutan",
         "BTN",
         "2023",
         "15-69",
         "33.3",
         "12.5",
         "12.0",
         "1.0416666666666667"
        ],
        [
         "25",
         "Bolivia",
         "BOL",
         "2019",
         "18-69",
         "37.1",
         "26.2",
         "3.4",
         "7.705882352941177"
        ],
        [
         "26",
         "Bosnia and Herzegovina",
         "BIH",
         "2012",
         "25-64",
         "40.4",
         "22.3",
         "10.3",
         "2.1650485436893203"
        ],
        [
         "27",
         "Botswana",
         "BWA",
         "2014",
         "15-69",
         "18.8",
         "11.8",
         "4.6",
         "2.565217391304348"
        ],
        [
         "28",
         "Brazil",
         "BRA",
         "2023",
         "18+",
         "37.1",
         "24.3",
         "10.6",
         "2.2924528301886795"
        ],
        [
         "29",
         "British Virgin Islands",
         "VGB",
         "2009",
         "25-64",
         "39.2",
         "35.5",
         null,
         null
        ],
        [
         "30",
         "Brunei Darussalam",
         "BRN",
         "2015-2016",
         "18-69",
         "34.6",
         "28.2",
         "13.7",
         "2.0583941605839415"
        ],
        [
         "31",
         "Bulgaria",
         "BGR",
         "2022",
         "18+",
         "42.0",
         "11.7",
         "7.4",
         "1.581081081081081"
        ],
        [
         "32",
         "Burkina Faso",
         "BFA",
         "2021",
         "20-49",
         null,
         null,
         "4.5",
         null
        ],
        [
         "33",
         "Burkina Faso",
         "BFA",
         "2013",
         "25-64",
         "8.9",
         "4.5",
         "4.5",
         "1.0"
        ],
        [
         "34",
         "Burundi",
         "BDI",
         "2016-2017",
         "15-49",
         null,
         null,
         "4.3",
         null
        ],
        [
         "35",
         "Cabo Verde",
         "CPV",
         "2020",
         "18-69",
         "29.9",
         "14.3",
         "6.8",
         "2.1029411764705883"
        ],
        [
         "36",
         "Cambodia",
         "KHM",
         "2021-2022",
         "20-49",
         null,
         null,
         "7.5",
         null
        ],
        [
         "37",
         "Cambodia",
         "KHM",
         "2010",
         "25-64",
         "13.5",
         "1.9",
         "7.5",
         "0.2533333333333333"
        ],
        [
         "38",
         "Cameroon",
         "CMR",
         "2018",
         "15-49",
         null,
         null,
         "6.9",
         null
        ],
        [
         "39",
         "Cameroon",
         "CMR",
         "2003",
         "15+",
         "25.1",
         "13.0",
         "6.9",
         "1.8840579710144927"
        ],
        [
         "40",
         "Canada",
         "CAN",
         "2019",
         "18-79",
         "35.5",
         "24.3",
         "7.7",
         "3.155844155844156"
        ],
        [
         "41",
         "Canary Islands (Sp.)",
         null,
         "2021",
         "18+",
         "35.44",
         "18.1",
         null,
         null
        ],
        [
         "42",
         "Cayman Islands",
         "CYM",
         "2023",
         "18-69",
         "37.0",
         "32.7",
         "11.1",
         "2.9459459459459465"
        ],
        [
         "43",
         "Central African Republic",
         "CAF",
         "2017",
         "25-64",
         "16.0",
         "9.7",
         "7.6",
         "1.276315789473684"
        ],
        [
         "44",
         "Chad",
         "TCD",
         "2014-2015",
         "15-49",
         null,
         null,
         "7.3",
         null
        ],
        [
         "45",
         "Chad",
         "TCD",
         "2007",
         "25-64",
         "22.9",
         "13.7",
         "7.3",
         "1.8767123287671232"
        ],
        [
         "46",
         "Chile",
         "CHL",
         "2016-2017",
         "15+",
         "39.8",
         "34.4",
         "12.2",
         "2.819672131147541"
        ],
        [
         "47",
         "China",
         "CHN",
         "2015",
         "18-59",
         "33.07",
         "6.51",
         "11.9",
         "0.5470588235294117"
        ],
        [
         "48",
         "Colombia",
         "COL",
         "2015-2016",
         "18-64",
         "37.8",
         "18.7",
         "8.4",
         "2.226190476190476"
        ],
        [
         "49",
         "Comoros",
         "COM",
         "2012",
         "15-49",
         null,
         null,
         "10.8",
         null
        ]
       ],
       "shape": {
        "columns": 8,
        "rows": 248
       }
      },
      "text/html": [
       "<div>\n",
       "<style scoped>\n",
       "    .dataframe tbody tr th:only-of-type {\n",
       "        vertical-align: middle;\n",
       "    }\n",
       "\n",
       "    .dataframe tbody tr th {\n",
       "        vertical-align: top;\n",
       "    }\n",
       "\n",
       "    .dataframe thead th {\n",
       "        text-align: right;\n",
       "    }\n",
       "</style>\n",
       "<table border=\"1\" class=\"dataframe\">\n",
       "  <thead>\n",
       "    <tr style=\"text-align: right;\">\n",
       "      <th></th>\n",
       "      <th>Country</th>\n",
       "      <th>iso_alpha</th>\n",
       "      <th>Year</th>\n",
       "      <th>Age</th>\n",
       "      <th>All_adults_Overweight</th>\n",
       "      <th>All_adults_Obesity</th>\n",
       "      <th>All_adults_Diabetes</th>\n",
       "      <th>ratio</th>\n",
       "    </tr>\n",
       "  </thead>\n",
       "  <tbody>\n",
       "    <tr>\n",
       "      <th>0</th>\n",
       "      <td>Afghanistan</td>\n",
       "      <td>AFG</td>\n",
       "      <td>2018</td>\n",
       "      <td>18-69</td>\n",
       "      <td>25.8</td>\n",
       "      <td>17.0</td>\n",
       "      <td>11.7</td>\n",
       "      <td>1.452991</td>\n",
       "    </tr>\n",
       "    <tr>\n",
       "      <th>1</th>\n",
       "      <td>Albania</td>\n",
       "      <td>ALB</td>\n",
       "      <td>2022</td>\n",
       "      <td>16+</td>\n",
       "      <td>44.2</td>\n",
       "      <td>12.4</td>\n",
       "      <td>10.6</td>\n",
       "      <td>1.169811</td>\n",
       "    </tr>\n",
       "    <tr>\n",
       "      <th>2</th>\n",
       "      <td>Algeria</td>\n",
       "      <td>DZA</td>\n",
       "      <td>2016-2017</td>\n",
       "      <td>18-69</td>\n",
       "      <td>33.8</td>\n",
       "      <td>21.8</td>\n",
       "      <td>17.5</td>\n",
       "      <td>1.245714</td>\n",
       "    </tr>\n",
       "    <tr>\n",
       "      <th>3</th>\n",
       "      <td>American Samoa</td>\n",
       "      <td>ASM</td>\n",
       "      <td>2017-2018</td>\n",
       "      <td>18+</td>\n",
       "      <td>NaN</td>\n",
       "      <td>80.2</td>\n",
       "      <td>NaN</td>\n",
       "      <td>NaN</td>\n",
       "    </tr>\n",
       "    <tr>\n",
       "      <th>4</th>\n",
       "      <td>Andorra</td>\n",
       "      <td>AND</td>\n",
       "      <td>2017-2018</td>\n",
       "      <td>18-75</td>\n",
       "      <td>35.2</td>\n",
       "      <td>13.6</td>\n",
       "      <td>10.1</td>\n",
       "      <td>1.346535</td>\n",
       "    </tr>\n",
       "    <tr>\n",
       "      <th>...</th>\n",
       "      <td>...</td>\n",
       "      <td>...</td>\n",
       "      <td>...</td>\n",
       "      <td>...</td>\n",
       "      <td>...</td>\n",
       "      <td>...</td>\n",
       "      <td>...</td>\n",
       "      <td>...</td>\n",
       "    </tr>\n",
       "    <tr>\n",
       "      <th>243</th>\n",
       "      <td>Wales</td>\n",
       "      <td>None</td>\n",
       "      <td>2022-2023</td>\n",
       "      <td>16+</td>\n",
       "      <td>35.2</td>\n",
       "      <td>26.0</td>\n",
       "      <td>NaN</td>\n",
       "      <td>NaN</td>\n",
       "    </tr>\n",
       "    <tr>\n",
       "      <th>244</th>\n",
       "      <td>Wallis and Futuna</td>\n",
       "      <td>WLF</td>\n",
       "      <td>2019</td>\n",
       "      <td>18-69</td>\n",
       "      <td>20.0</td>\n",
       "      <td>70.4</td>\n",
       "      <td>NaN</td>\n",
       "      <td>NaN</td>\n",
       "    </tr>\n",
       "    <tr>\n",
       "      <th>245</th>\n",
       "      <td>Yemen</td>\n",
       "      <td>YEM</td>\n",
       "      <td>2013</td>\n",
       "      <td>15-49</td>\n",
       "      <td>NaN</td>\n",
       "      <td>NaN</td>\n",
       "      <td>5.5</td>\n",
       "      <td>NaN</td>\n",
       "    </tr>\n",
       "    <tr>\n",
       "      <th>246</th>\n",
       "      <td>Zambia</td>\n",
       "      <td>ZMB</td>\n",
       "      <td>2017</td>\n",
       "      <td>18-69</td>\n",
       "      <td>16.7</td>\n",
       "      <td>7.5</td>\n",
       "      <td>10.3</td>\n",
       "      <td>0.728155</td>\n",
       "    </tr>\n",
       "    <tr>\n",
       "      <th>247</th>\n",
       "      <td>Zimbabwe</td>\n",
       "      <td>ZWE</td>\n",
       "      <td>2015</td>\n",
       "      <td>15-49</td>\n",
       "      <td>16.3</td>\n",
       "      <td>7.7</td>\n",
       "      <td>1.5</td>\n",
       "      <td>5.133333</td>\n",
       "    </tr>\n",
       "  </tbody>\n",
       "</table>\n",
       "<p>248 rows × 8 columns</p>\n",
       "</div>"
      ],
      "text/plain": [
       "               Country iso_alpha       Year    Age  All_adults_Overweight  \\\n",
       "0          Afghanistan       AFG       2018  18-69                   25.8   \n",
       "1              Albania       ALB       2022    16+                   44.2   \n",
       "2              Algeria       DZA  2016-2017  18-69                   33.8   \n",
       "3       American Samoa       ASM  2017-2018    18+                    NaN   \n",
       "4              Andorra       AND  2017-2018  18-75                   35.2   \n",
       "..                 ...       ...        ...    ...                    ...   \n",
       "243              Wales      None  2022-2023    16+                   35.2   \n",
       "244  Wallis and Futuna       WLF       2019  18-69                   20.0   \n",
       "245              Yemen       YEM       2013  15-49                    NaN   \n",
       "246             Zambia       ZMB       2017  18-69                   16.7   \n",
       "247           Zimbabwe       ZWE       2015  15-49                   16.3   \n",
       "\n",
       "     All_adults_Obesity  All_adults_Diabetes     ratio  \n",
       "0                  17.0                 11.7  1.452991  \n",
       "1                  12.4                 10.6  1.169811  \n",
       "2                  21.8                 17.5  1.245714  \n",
       "3                  80.2                  NaN       NaN  \n",
       "4                  13.6                 10.1  1.346535  \n",
       "..                  ...                  ...       ...  \n",
       "243                26.0                  NaN       NaN  \n",
       "244                70.4                  NaN       NaN  \n",
       "245                 NaN                  5.5       NaN  \n",
       "246                 7.5                 10.3  0.728155  \n",
       "247                 7.7                  1.5  5.133333  \n",
       "\n",
       "[248 rows x 8 columns]"
      ]
     },
     "execution_count": 22,
     "metadata": {},
     "output_type": "execute_result"
    }
   ],
   "source": [
    "df_completo[\"ratio\"] = df_completo[\"All_adults_Obesity\"] / df_completo[\"All_adults_Diabetes\"]\n",
    "df_completo[\"ratio_norm\"] = 2 * ((ratio - ratio.min()) / (ratio.max() - ratio.min())) - 1\n",
    "df_completo"
   ]
  },
  {
   "cell_type": "code",
   "execution_count": 27,
   "id": "0b4cacfe",
   "metadata": {},
   "outputs": [
    {
     "data": {
      "application/vnd.microsoft.datawrangler.viewer.v0+json": {
       "columns": [
        {
         "name": "index",
         "rawType": "int64",
         "type": "integer"
        },
        {
         "name": "Country",
         "rawType": "object",
         "type": "string"
        },
        {
         "name": "iso_alpha",
         "rawType": "object",
         "type": "unknown"
        },
        {
         "name": "Year",
         "rawType": "object",
         "type": "string"
        },
        {
         "name": "Age",
         "rawType": "object",
         "type": "string"
        },
        {
         "name": "All_adults_Overweight",
         "rawType": "float64",
         "type": "float"
        },
        {
         "name": "All_adults_Obesity",
         "rawType": "float64",
         "type": "float"
        },
        {
         "name": "All_adults_Diabetes",
         "rawType": "float64",
         "type": "float"
        },
        {
         "name": "ratio",
         "rawType": "float64",
         "type": "float"
        },
        {
         "name": "ratio_norm",
         "rawType": "float64",
         "type": "float"
        }
       ],
       "ref": "d533af4c-716f-40a6-916d-7b6b679b0326",
       "rows": [
        [
         "0",
         "Afghanistan",
         "AFG",
         "2018",
         "18-69",
         "25.8",
         "17.0",
         "11.7",
         "1.4529914529914532",
         "-0.7480342574797176"
        ],
        [
         "1",
         "Albania",
         "ALB",
         "2022",
         "16+",
         "44.2",
         "12.4",
         "10.6",
         "1.169811320754717",
         "-0.8062463829770925"
        ],
        [
         "2",
         "Algeria",
         "DZA",
         "2016-2017",
         "18-69",
         "33.8",
         "21.8",
         "17.5",
         "1.2457142857142858",
         "-0.7906433359449813"
        ],
        [
         "3",
         "American Samoa",
         "ASM",
         "2017-2018",
         "18+",
         null,
         "80.2",
         null,
         null,
         null
        ],
        [
         "4",
         "Andorra",
         "AND",
         "2017-2018",
         "18-75",
         "35.2",
         "13.6",
         "10.1",
         "1.3465346534653466",
         "-0.7699181252677371"
        ],
        [
         "5",
         "Angola",
         "AGO",
         "2013-2014",
         "15-64",
         "15.8",
         "6.8",
         "4.9",
         "1.387755102040816",
         "-0.7614446144088349"
        ],
        [
         "6",
         "Anguilla",
         "AIA",
         "2016",
         "18-69",
         "31.7",
         "38.5",
         null,
         null,
         null
        ],
        [
         "7",
         "Antigua and Barbuda",
         "ATG",
         "1993",
         "40+",
         null,
         "43.1",
         "11.6",
         "3.7155172413793105",
         "-0.28293653295229293"
        ],
        [
         "8",
         "Argentina",
         "ARG",
         "2018",
         "18+",
         "33.7",
         "32.4",
         "14.0",
         "2.314285714285714",
         "-0.5709816894460404"
        ],
        [
         "9",
         "Armenia",
         "ARM",
         "2016",
         "18-69",
         "28.2",
         "19.5",
         "7.7",
         "2.5324675324675323",
         "-0.5261309886538406"
        ],
        [
         "10",
         "Aruba",
         "ABW",
         "2023",
         "18-69",
         "32.9",
         "45.8",
         "4.6",
         "9.956521739130435",
         "1.0"
        ],
        [
         "11",
         "Australia",
         "AUS",
         "2022-2023",
         "18+",
         "34.0",
         "31.7",
         "7.4",
         "4.283783783783783",
         "-0.16612041657745524"
        ],
        [
         "12",
         "Austria",
         "AUT",
         "2022",
         "18+",
         "35.0",
         "17.7",
         "5.4",
         "3.2777777777777772",
         "-0.3729207574423907"
        ],
        [
         "13",
         "Azerbaijan",
         "AZE",
         "2017-2018",
         "18-69",
         "34.8",
         "20.6",
         "10.2",
         "2.0196078431372553",
         "-0.6315573558287828"
        ],
        [
         "14",
         "Bahamas",
         "BHS",
         "2019",
         "18-69",
         "28.0",
         "43.6",
         "8.9",
         "4.8988764044943816",
         "-0.03967846407712505"
        ],
        [
         "15",
         "Bahrain",
         "BHR",
         "2018",
         "18+",
         "35.5",
         "36.9",
         "22.1",
         "1.6696832579185519",
         "-0.7034898523230603"
        ],
        [
         "16",
         "Bangladesh",
         "BGD",
         "2022",
         "M: 20+; F: 20-49",
         null,
         null,
         "13.2",
         null,
         null
        ],
        [
         "17",
         "Barbados",
         "BRB",
         "2011",
         "25+",
         "32.4",
         "33.8",
         "13.2",
         "2.5606060606060606",
         "-0.520346672083418"
        ],
        [
         "18",
         "Belarus",
         "BLR",
         "2020",
         "18-69",
         "34.1",
         "18.9",
         "5.1",
         "3.7058823529411766",
         "-0.2849171356537741"
        ],
        [
         "19",
         "Belgium",
         "BEL",
         "2022",
         "18+",
         "33.2",
         "15.8",
         "5.9",
         "2.6779661016949152",
         "-0.4962214716808341"
        ],
        [
         "20",
         "Belize",
         "BLZ",
         "2017",
         "20-55",
         null,
         "40.9",
         "14.1",
         "2.900709219858156",
         "-0.45043312401047053"
        ],
        [
         "21",
         "Benin",
         "BEN",
         "2017-2018",
         "15-49",
         null,
         null,
         "8.1",
         null,
         null
        ],
        [
         "22",
         "Benin",
         "BEN",
         "2015",
         "18-69",
         "15.7",
         "7.4",
         "8.1",
         "0.9135802469135803",
         "-0.85891870609861"
        ],
        [
         "23",
         "Bermuda",
         "BMU",
         "2013-2014",
         "18+",
         "40.2",
         "34.4",
         "13.4",
         "2.5671641791044775",
         "-0.5189985477851451"
        ],
        [
         "24",
         "Bhutan",
         "BTN",
         "2023",
         "15-69",
         "33.3",
         "12.5",
         "12.0",
         "1.0416666666666667",
         "-0.832588530029115"
        ],
        [
         "25",
         "Bolivia",
         "BOL",
         "2019",
         "18-69",
         "37.1",
         "26.2",
         "3.4",
         "7.705882352941177",
         "0.5373457122032235"
        ],
        [
         "26",
         "Bosnia and Herzegovina",
         "BIH",
         "2012",
         "25-64",
         "40.4",
         "22.3",
         "10.3",
         "2.1650485436893203",
         "-0.6016597346712185"
        ],
        [
         "27",
         "Botswana",
         "BWA",
         "2014",
         "15-69",
         "18.8",
         "11.8",
         "4.6",
         "2.565217391304348",
         "-0.519398740605322"
        ],
        [
         "28",
         "Brazil",
         "BRA",
         "2023",
         "18+",
         "37.1",
         "24.3",
         "10.6",
         "2.2924528301886795",
         "-0.5754697818096803"
        ],
        [
         "29",
         "British Virgin Islands",
         "VGB",
         "2009",
         "25-64",
         "39.2",
         "35.5",
         null,
         null,
         null
        ],
        [
         "30",
         "Brunei Darussalam",
         "BRN",
         "2015-2016",
         "18-69",
         "34.6",
         "28.2",
         "13.7",
         "2.0583941605839415",
         "-0.6235842188683833"
        ],
        [
         "31",
         "Bulgaria",
         "BGR",
         "2022",
         "18+",
         "42.0",
         "11.7",
         "7.4",
         "1.581081081081081",
         "-0.7217034218862373"
        ],
        [
         "32",
         "Burkina Faso",
         "BFA",
         "2021",
         "20-49",
         null,
         null,
         "4.5",
         null,
         null
        ],
        [
         "33",
         "Burkina Faso",
         "BFA",
         "2013",
         "25-64",
         "8.9",
         "4.5",
         "4.5",
         "1.0",
         "-0.8411537680276254"
        ],
        [
         "34",
         "Burundi",
         "BDI",
         "2016-2017",
         "15-49",
         null,
         null,
         "4.3",
         null,
         null
        ],
        [
         "35",
         "Cabo Verde",
         "CPV",
         "2020",
         "18-69",
         "29.9",
         "14.3",
         "6.8",
         "2.1029411764705883",
         "-0.6144268798317621"
        ],
        [
         "36",
         "Cambodia",
         "KHM",
         "2021-2022",
         "20-49",
         null,
         null,
         "7.5",
         null,
         null
        ],
        [
         "37",
         "Cambodia",
         "KHM",
         "2010",
         "25-64",
         "13.5",
         "1.9",
         "7.5",
         "0.2533333333333333",
         "-0.9946428329609317"
        ],
        [
         "38",
         "Cameroon",
         "CMR",
         "2018",
         "15-49",
         null,
         null,
         "6.9",
         null,
         null
        ],
        [
         "39",
         "Cameroon",
         "CMR",
         "2003",
         "15+",
         "25.1",
         "13.0",
         "6.9",
         "1.8840579710144927",
         "-0.6594217617983615"
        ],
        [
         "40",
         "Canada",
         "CAN",
         "2019",
         "18-79",
         "35.5",
         "24.3",
         "7.7",
         "3.155844155844156",
         "-0.3979861292475553"
        ],
        [
         "41",
         "Canary Islands (Sp.)",
         null,
         "2021",
         "18+",
         "35.44",
         "18.1",
         null,
         null,
         null
        ],
        [
         "42",
         "Cayman Islands",
         "CYM",
         "2023",
         "18-69",
         "37.0",
         "32.7",
         "11.1",
         "2.9459459459459465",
         "-0.44113400420530213"
        ],
        [
         "43",
         "Central African Republic",
         "CAF",
         "2017",
         "25-64",
         "16.0",
         "9.7",
         "7.6",
         "1.276315789473684",
         "-0.7843527160375039"
        ],
        [
         "44",
         "Chad",
         "TCD",
         "2014-2015",
         "15-49",
         null,
         null,
         "7.3",
         null,
         null
        ],
        [
         "45",
         "Chad",
         "TCD",
         "2007",
         "25-64",
         "22.9",
         "13.7",
         "7.3",
         "1.8767123287671232",
         "-0.6609317739767766"
        ],
        [
         "46",
         "Chile",
         "CHL",
         "2016-2017",
         "15+",
         "39.8",
         "34.4",
         "12.2",
         "2.819672131147541",
         "-0.4670915708467781"
        ],
        [
         "47",
         "China",
         "CHN",
         "2015",
         "18-59",
         "33.07",
         "6.51",
         "11.9",
         "0.5470588235294117",
         "-0.9342629434467267"
        ],
        [
         "48",
         "Colombia",
         "COL",
         "2015-2016",
         "18-64",
         "37.8",
         "18.7",
         "8.4",
         "2.226190476190476",
         "-0.5890910497857482"
        ],
        [
         "49",
         "Comoros",
         "COM",
         "2012",
         "15-49",
         null,
         null,
         "10.8",
         null,
         null
        ]
       ],
       "shape": {
        "columns": 9,
        "rows": 248
       }
      },
      "text/html": [
       "<div>\n",
       "<style scoped>\n",
       "    .dataframe tbody tr th:only-of-type {\n",
       "        vertical-align: middle;\n",
       "    }\n",
       "\n",
       "    .dataframe tbody tr th {\n",
       "        vertical-align: top;\n",
       "    }\n",
       "\n",
       "    .dataframe thead th {\n",
       "        text-align: right;\n",
       "    }\n",
       "</style>\n",
       "<table border=\"1\" class=\"dataframe\">\n",
       "  <thead>\n",
       "    <tr style=\"text-align: right;\">\n",
       "      <th></th>\n",
       "      <th>Country</th>\n",
       "      <th>iso_alpha</th>\n",
       "      <th>Year</th>\n",
       "      <th>Age</th>\n",
       "      <th>All_adults_Overweight</th>\n",
       "      <th>All_adults_Obesity</th>\n",
       "      <th>All_adults_Diabetes</th>\n",
       "      <th>ratio</th>\n",
       "      <th>ratio_norm</th>\n",
       "    </tr>\n",
       "  </thead>\n",
       "  <tbody>\n",
       "    <tr>\n",
       "      <th>0</th>\n",
       "      <td>Afghanistan</td>\n",
       "      <td>AFG</td>\n",
       "      <td>2018</td>\n",
       "      <td>18-69</td>\n",
       "      <td>25.8</td>\n",
       "      <td>17.0</td>\n",
       "      <td>11.7</td>\n",
       "      <td>1.452991</td>\n",
       "      <td>-0.748034</td>\n",
       "    </tr>\n",
       "    <tr>\n",
       "      <th>1</th>\n",
       "      <td>Albania</td>\n",
       "      <td>ALB</td>\n",
       "      <td>2022</td>\n",
       "      <td>16+</td>\n",
       "      <td>44.2</td>\n",
       "      <td>12.4</td>\n",
       "      <td>10.6</td>\n",
       "      <td>1.169811</td>\n",
       "      <td>-0.806246</td>\n",
       "    </tr>\n",
       "    <tr>\n",
       "      <th>2</th>\n",
       "      <td>Algeria</td>\n",
       "      <td>DZA</td>\n",
       "      <td>2016-2017</td>\n",
       "      <td>18-69</td>\n",
       "      <td>33.8</td>\n",
       "      <td>21.8</td>\n",
       "      <td>17.5</td>\n",
       "      <td>1.245714</td>\n",
       "      <td>-0.790643</td>\n",
       "    </tr>\n",
       "    <tr>\n",
       "      <th>3</th>\n",
       "      <td>American Samoa</td>\n",
       "      <td>ASM</td>\n",
       "      <td>2017-2018</td>\n",
       "      <td>18+</td>\n",
       "      <td>NaN</td>\n",
       "      <td>80.2</td>\n",
       "      <td>NaN</td>\n",
       "      <td>NaN</td>\n",
       "      <td>NaN</td>\n",
       "    </tr>\n",
       "    <tr>\n",
       "      <th>4</th>\n",
       "      <td>Andorra</td>\n",
       "      <td>AND</td>\n",
       "      <td>2017-2018</td>\n",
       "      <td>18-75</td>\n",
       "      <td>35.2</td>\n",
       "      <td>13.6</td>\n",
       "      <td>10.1</td>\n",
       "      <td>1.346535</td>\n",
       "      <td>-0.769918</td>\n",
       "    </tr>\n",
       "    <tr>\n",
       "      <th>...</th>\n",
       "      <td>...</td>\n",
       "      <td>...</td>\n",
       "      <td>...</td>\n",
       "      <td>...</td>\n",
       "      <td>...</td>\n",
       "      <td>...</td>\n",
       "      <td>...</td>\n",
       "      <td>...</td>\n",
       "      <td>...</td>\n",
       "    </tr>\n",
       "    <tr>\n",
       "      <th>243</th>\n",
       "      <td>Wales</td>\n",
       "      <td>None</td>\n",
       "      <td>2022-2023</td>\n",
       "      <td>16+</td>\n",
       "      <td>35.2</td>\n",
       "      <td>26.0</td>\n",
       "      <td>NaN</td>\n",
       "      <td>NaN</td>\n",
       "      <td>NaN</td>\n",
       "    </tr>\n",
       "    <tr>\n",
       "      <th>244</th>\n",
       "      <td>Wallis and Futuna</td>\n",
       "      <td>WLF</td>\n",
       "      <td>2019</td>\n",
       "      <td>18-69</td>\n",
       "      <td>20.0</td>\n",
       "      <td>70.4</td>\n",
       "      <td>NaN</td>\n",
       "      <td>NaN</td>\n",
       "      <td>NaN</td>\n",
       "    </tr>\n",
       "    <tr>\n",
       "      <th>245</th>\n",
       "      <td>Yemen</td>\n",
       "      <td>YEM</td>\n",
       "      <td>2013</td>\n",
       "      <td>15-49</td>\n",
       "      <td>NaN</td>\n",
       "      <td>NaN</td>\n",
       "      <td>5.5</td>\n",
       "      <td>NaN</td>\n",
       "      <td>NaN</td>\n",
       "    </tr>\n",
       "    <tr>\n",
       "      <th>246</th>\n",
       "      <td>Zambia</td>\n",
       "      <td>ZMB</td>\n",
       "      <td>2017</td>\n",
       "      <td>18-69</td>\n",
       "      <td>16.7</td>\n",
       "      <td>7.5</td>\n",
       "      <td>10.3</td>\n",
       "      <td>0.728155</td>\n",
       "      <td>-0.897036</td>\n",
       "    </tr>\n",
       "    <tr>\n",
       "      <th>247</th>\n",
       "      <td>Zimbabwe</td>\n",
       "      <td>ZWE</td>\n",
       "      <td>2015</td>\n",
       "      <td>15-49</td>\n",
       "      <td>16.3</td>\n",
       "      <td>7.7</td>\n",
       "      <td>1.5</td>\n",
       "      <td>5.133333</td>\n",
       "      <td>0.008518</td>\n",
       "    </tr>\n",
       "  </tbody>\n",
       "</table>\n",
       "<p>248 rows × 9 columns</p>\n",
       "</div>"
      ],
      "text/plain": [
       "               Country iso_alpha       Year    Age  All_adults_Overweight  \\\n",
       "0          Afghanistan       AFG       2018  18-69                   25.8   \n",
       "1              Albania       ALB       2022    16+                   44.2   \n",
       "2              Algeria       DZA  2016-2017  18-69                   33.8   \n",
       "3       American Samoa       ASM  2017-2018    18+                    NaN   \n",
       "4              Andorra       AND  2017-2018  18-75                   35.2   \n",
       "..                 ...       ...        ...    ...                    ...   \n",
       "243              Wales      None  2022-2023    16+                   35.2   \n",
       "244  Wallis and Futuna       WLF       2019  18-69                   20.0   \n",
       "245              Yemen       YEM       2013  15-49                    NaN   \n",
       "246             Zambia       ZMB       2017  18-69                   16.7   \n",
       "247           Zimbabwe       ZWE       2015  15-49                   16.3   \n",
       "\n",
       "     All_adults_Obesity  All_adults_Diabetes     ratio  ratio_norm  \n",
       "0                  17.0                 11.7  1.452991   -0.748034  \n",
       "1                  12.4                 10.6  1.169811   -0.806246  \n",
       "2                  21.8                 17.5  1.245714   -0.790643  \n",
       "3                  80.2                  NaN       NaN         NaN  \n",
       "4                  13.6                 10.1  1.346535   -0.769918  \n",
       "..                  ...                  ...       ...         ...  \n",
       "243                26.0                  NaN       NaN         NaN  \n",
       "244                70.4                  NaN       NaN         NaN  \n",
       "245                 NaN                  5.5       NaN         NaN  \n",
       "246                 7.5                 10.3  0.728155   -0.897036  \n",
       "247                 7.7                  1.5  5.133333    0.008518  \n",
       "\n",
       "[248 rows x 9 columns]"
      ]
     },
     "execution_count": 27,
     "metadata": {},
     "output_type": "execute_result"
    }
   ],
   "source": [
    "ratio = df_completo[\"All_adults_Obesity\"] / df_completo[\"All_adults_Diabetes\"]\n",
    "\n",
    "# Normalización al rango [-1, 1]\n",
    "df_completo[\"ratio_norm\"] = 2 * ((ratio - ratio.min()) / (ratio.max() - ratio.min())) - 1\n",
    "df_completo\n"
   ]
  },
  {
   "cell_type": "code",
   "execution_count": 10,
   "id": "3dfd0aee",
   "metadata": {},
   "outputs": [],
   "source": [
    "# Guardar en Json\n",
    "df_completo.to_json(\"datos.json\", orient=\"records\", force_ascii=False, indent=2)"
   ]
  },
  {
   "cell_type": "code",
   "execution_count": 29,
   "id": "fa7b46a0",
   "metadata": {},
   "outputs": [
    {
     "data": {
      "application/vnd.plotly.v1+json": {
       "config": {
        "plotlyServerURL": "https://plot.ly"
       },
       "data": [
        {
         "coloraxis": "coloraxis",
         "geo": "geo",
         "hovertemplate": "iso_alpha=%{location}<br>ratio=%{z}<extra></extra>",
         "locationmode": "ISO-3",
         "locations": [
          "AFG",
          "ALB",
          "DZA",
          "ASM",
          "AND",
          "AGO",
          "AIA",
          "ATG",
          "ARG",
          "ARM",
          "ABW",
          "AUS",
          "AUT",
          "AZE",
          "BHS",
          "BHR",
          "BGD",
          "BRB",
          "BLR",
          "BEL",
          "BLZ",
          "BEN",
          "BEN",
          "BMU",
          "BTN",
          "BOL",
          "BIH",
          "BWA",
          "BRA",
          "VGB",
          "BRN",
          "BGR",
          "BFA",
          "BFA",
          "BDI",
          "CPV",
          "KHM",
          "KHM",
          "CMR",
          "CMR",
          "CAN",
          null,
          "CYM",
          "CAF",
          "TCD",
          "TCD",
          "CHL",
          "CHN",
          "COL",
          "COM",
          "COM",
          "COG",
          "COG",
          "COK",
          "CRI",
          null,
          null,
          "HRV",
          "CUB",
          "CYP",
          "CZE",
          null,
          "DNK",
          "DMA",
          "DOM",
          "ECU",
          "EGY",
          "EGY",
          "SLV",
          null,
          "GNQ",
          "ERI",
          "EST",
          "SWZ",
          "ETH",
          "FSM",
          "FJI",
          "FJI",
          "FIN",
          "FRA",
          "GUF",
          "PYF",
          "GAB",
          "GMB",
          "GEO",
          "DEU",
          "GHA",
          null,
          "GRC",
          "GRL",
          "GRD",
          "GLP",
          "GTM",
          "GIN",
          "GUY",
          "HTI",
          "HND",
          "HKG",
          "HUN",
          "ISL",
          "IND",
          "IDN",
          "IRN",
          "IRQ",
          "IRL",
          "IMN",
          "ISR",
          "ITA",
          "JAM",
          "JPN",
          "JEY",
          "JOR",
          "JOR",
          "KAZ",
          "KEN",
          "KIR",
          "KIR",
          "KWT",
          "KGZ",
          "KGZ",
          "LAO",
          "LVA",
          "LBN",
          "LBN",
          "LSO",
          "LBR",
          "LBY",
          "LTU",
          "LUX",
          "MDG",
          "MWI",
          "MYS",
          "MDV",
          "MLI",
          "MLT",
          "MHL",
          "MHL",
          "MHL",
          "MTQ",
          "MRT",
          "MRT",
          "MUS",
          "MYT",
          "MEX",
          "MDA",
          "MNG",
          "MNE",
          "MAR",
          "MOZ",
          "MOZ",
          "MMR",
          "NAM",
          "NRU",
          "NRU",
          "NPL",
          "NLD",
          "NCL",
          "NZL",
          "NIC",
          "NER",
          "NGA",
          "NGA",
          "NIU",
          "MKD",
          null,
          "MNP",
          "NOR",
          "OMN",
          "PAK",
          "PAK",
          "PLW",
          "PLW",
          null,
          "PAN",
          "PNG",
          "PRY",
          "PER",
          "PER",
          "PHL",
          "POL",
          "PRT",
          "PRI",
          "QAT",
          null,
          "ROU",
          "RUS",
          "RWA",
          "KNA",
          "LCA",
          "VCT",
          "WSM",
          "WSM",
          "STP",
          "SAU",
          null,
          "SEN",
          "SEN",
          "SRB",
          "SYC",
          "SLE",
          "SLE",
          "SGP",
          "SVK",
          "SVN",
          "SLB",
          "SOM",
          "ZAF",
          "KOR",
          "ESP",
          "LKA",
          "SDN",
          "SUR",
          "SWE",
          "CHE",
          "SYR",
          "TWN",
          "TWN",
          "TJK",
          "TJK",
          "TZA",
          "THA",
          "TLS",
          "TGO",
          "TGO",
          "TKL",
          "TON",
          "TTO",
          "TUN",
          null,
          "TKM",
          "TUV",
          "UGA",
          "UKR",
          "ARE",
          "GBR",
          "USA",
          "URY",
          "UZB",
          "UZB",
          "VUT",
          "VUT",
          "VEN",
          "VNM",
          null,
          "WLF",
          "YEM",
          "ZMB",
          "ZWE"
         ],
         "name": "",
         "type": "choropleth",
         "z": {
          "bdata": "+HM/93M/9z/7HFITjLfyP4HYVBpy7vM/AAAAAAAA+H+bB7nrZ4v1P4z1obE+NPY/AAAAAAAA+H8SlnsaYbkNQDqogzqogwJA+QlxVn5CBEDf9KY3vekjQCnyWTeYIhFAjeM4juM4CkApKCgoKCgAQDnMYQ5zmBNAygW3ygW3+j8AAAAAAAD4f3zwwQcffARApqWlpaWlDUA0nNR9eWwFQL34EwmnNAdAAAAAAAAA+H9sflikDDztPzm7hV+NiQRAq6qqqqqq8D/T0tLS0tIeQDkvi/gEUgFAyUIWspCFBECgQ2qC8VYCQAAAAAAAAPh/GuKPW5d3AEDBFPmsG0z5PwAAAAAAAPh/AAAAAAAA8D8AAAAAAAD4f9PS0tLS0gBAAAAAAAAA+H820GkDnTbQPwAAAAAAAPh/4meU+Bkl/j+t/IQ4Kz8JQAAAAAAAAPh/FvmsG0yRB0C8hvIaymv0PwAAAAAAAPh/cODAgQMH/j8/xSVDsI4GQIGBgYGBgeE/8zzP8zzPAUAAAAAAAAD4fwAAAAAAAPQ/AAAAAAAA+H8jZeDp1vzwPwAAAAAAAPh/HxrrQ2N9BEAAAAAAAAD4fwAAAAAAAPh/KZdyKZdy+T8siMkVxOT6PxWuR+F6FPY/y2sor6G8AkAAAAAAAAD4f///////XwdAQ96QN+QN+T8vuuiiiy7uPz401ofG+hRAAAAAAAAA+H8BAAAAAID5P00mk8lkMgFAAAAAAAAA+H8zOB+D8zHwP7nooosuuug/GiV+RomfCUCF+V0tbsIEQBdddNFFF80/q6qqqqrq/j8AAAAAAAD4f7isGCjhjf4/AAAAAAAA+H9SK7VSK7UCQAAAAAAAAPh/ncV0FtNZ/D9+fn5+fn7+P3TRRRdddAFA7RZ+NSbSE0DMt3zLt3wDQAAAAAAAAPh/AAAAAAAA+H8AAAAAAAD4P4O+oC/oCxpAinMdozjXAUAAAAAAAAD4fwAAAAAAAPh/AAAAAAAA+H8H52NwPgb3PwAAAAAAAPh/AAAAAAAA+H/uStSuRO3qP0ydX3vIZQVAHphrB+baCUAg+7Ef+7HfPxF4+yGBt98/juM4juM4BkAAAAAAAAAEQFVVVVVVVRdA7+7u7u7uDkBtsTJ8Iwr8PwpxVn5CnPU/6Pup8dJNAkAZeLo1PyziPwAAAAAAAPh/AAAAAAAA+H+G6VmYnoX5P6alpaWlpQtA33vvvffeC0BwPgbnY3ACQKhdidqVqP0///////8f9T8AAAAAAAD4fw7lNZTXUAhAeqBydgu/6j8dSLTC5kAKQAAAAAAAAPh/j8H5GJyPAUAAAAAAAAD4f/WmN73pTQFA72pxE+Z3BUCnDXTaQKcFQCQs9zTCcgdAAAAAAAAA+H9VVVVVVVX1PzMSq+Hih/A/wOeWOPV7/j8AAAAAAAD4f+J6FK5H4QRA+wT7BPsE+z8AAAAAAAD4f1SsU6xTrPM/AAAAAAAA+H8AAAAAAAD4fzuxEzuxExBAyMtgFHBo7j8AAAAAAAD4f/oYnI/B+QJANU3TNE3TDEBFfAKp5Lz8P+MjE+iduuY/mwjkmgjk+j8AAAAAAAD4f0RERERERAhAAAAAAAAA+H9+DqkJxlv5PwAAAAAAAPh/IxVzqzNSBUA1sHdMDeztP5qZmZmZmQlA7RvWvmHt+z8S6YHK2S0UQMVO7MRO7ABAIIPzMTgf8z8AAAAAAAD4f83MzMzMzARAAAAAAAAA+H8+6wZT5LP2PwAAAAAAAPh/AAAAAAAA+H8BAAAAAAAMQOXk5OTk5Pw/AAAAAAAA+H9QW2jAkl7ePy4darA7kwFAVn+gR0rIAUAAAAAAAAD4f5gin3WDKQpAe6xl6IDd3j/PRn1no74DQAAAAAAAAPh/AAAAAABAEEBVVVVVVVX1P/phkTLwdPs/OIETOIET+D/Mrc5IxdwKQLnFk1s8ufU/AAAAAAAA+H/6xZJfLPn1P7IVQcNJ3RdAGIZhGIZhAEAhC1nIQhYKQNxHcB/BfQhAQV/QF/QFCUAAAAAAAAD4f2UymUwmkwFAN5ZBqTDx7j8AAAAAAADwPwAAAAAAAPh/Ka+hvIby+j+V11BeQ3ntP0Id1EEd1PE/WGCBBRZYEEAAAAAAAAD4fwAAAAAAAOY/fQT3EdxH8D+RaIXNgUQDQFAHdVAHdQRAd3d3d3d38T8AAAAAAAD4f1VVVVVV1RFARURERERE6D+Zhu1meRL5Px4eHh4eHu4/jxUII+1Y4T8AAAAAAAD4f7mnEZZ7GglAa4LxVvY5BEBN/Z5b4tTvPwAAAAAAAPh/AAAAAAAA+H8AAAAAAAD4fwAAAAAAAPs/AAAAAAAA+H/e3Nzc3Nz0PwAAAAAAANY/AAAAAAAA+H+rqqqqqqr0PwAAAAAAAPh/XU7Byyl4D0BjjDHGGGMEQAAAAAAAAPh/AAAAAAAA+H/ZHEi0wuYAQAgj7ViBMApA6aKLLrroEECJiIiIiIgQQK5MnoDofPU/rRtMkc+6BUDmHXCkaIgHQOzETuzETghAAAAAAAAA+H+MJb9Y8osFQAAAAAAAAPh/N95Rzfoz6D+5I+6IO+IGQMTDw8PDw+M/AAAAAAAA+H8AAAAAAAD4fwAAAAAAAPh/DvZbbQxN5z+JiIiIiIgUQA==",
          "dtype": "f8"
         }
        }
       ],
       "layout": {
        "coloraxis": {
         "colorbar": {
          "title": {
           "text": "ratio"
          }
         },
         "colorscale": [
          [
           0,
           "#440154"
          ],
          [
           0.1111111111111111,
           "#482878"
          ],
          [
           0.2222222222222222,
           "#3e4989"
          ],
          [
           0.3333333333333333,
           "#31688e"
          ],
          [
           0.4444444444444444,
           "#26828e"
          ],
          [
           0.5555555555555556,
           "#1f9e89"
          ],
          [
           0.6666666666666666,
           "#35b779"
          ],
          [
           0.7777777777777778,
           "#6ece58"
          ],
          [
           0.8888888888888888,
           "#b5de2b"
          ],
          [
           1,
           "#fde725"
          ]
         ]
        },
        "geo": {
         "center": {},
         "domain": {
          "x": [
           0,
           1
          ],
          "y": [
           0,
           1
          ]
         }
        },
        "legend": {
         "tracegroupgap": 0
        },
        "template": {
         "data": {
          "bar": [
           {
            "error_x": {
             "color": "#2a3f5f"
            },
            "error_y": {
             "color": "#2a3f5f"
            },
            "marker": {
             "line": {
              "color": "#E5ECF6",
              "width": 0.5
             },
             "pattern": {
              "fillmode": "overlay",
              "size": 10,
              "solidity": 0.2
             }
            },
            "type": "bar"
           }
          ],
          "barpolar": [
           {
            "marker": {
             "line": {
              "color": "#E5ECF6",
              "width": 0.5
             },
             "pattern": {
              "fillmode": "overlay",
              "size": 10,
              "solidity": 0.2
             }
            },
            "type": "barpolar"
           }
          ],
          "carpet": [
           {
            "aaxis": {
             "endlinecolor": "#2a3f5f",
             "gridcolor": "white",
             "linecolor": "white",
             "minorgridcolor": "white",
             "startlinecolor": "#2a3f5f"
            },
            "baxis": {
             "endlinecolor": "#2a3f5f",
             "gridcolor": "white",
             "linecolor": "white",
             "minorgridcolor": "white",
             "startlinecolor": "#2a3f5f"
            },
            "type": "carpet"
           }
          ],
          "choropleth": [
           {
            "colorbar": {
             "outlinewidth": 0,
             "ticks": ""
            },
            "type": "choropleth"
           }
          ],
          "contour": [
           {
            "colorbar": {
             "outlinewidth": 0,
             "ticks": ""
            },
            "colorscale": [
             [
              0,
              "#0d0887"
             ],
             [
              0.1111111111111111,
              "#46039f"
             ],
             [
              0.2222222222222222,
              "#7201a8"
             ],
             [
              0.3333333333333333,
              "#9c179e"
             ],
             [
              0.4444444444444444,
              "#bd3786"
             ],
             [
              0.5555555555555556,
              "#d8576b"
             ],
             [
              0.6666666666666666,
              "#ed7953"
             ],
             [
              0.7777777777777778,
              "#fb9f3a"
             ],
             [
              0.8888888888888888,
              "#fdca26"
             ],
             [
              1,
              "#f0f921"
             ]
            ],
            "type": "contour"
           }
          ],
          "contourcarpet": [
           {
            "colorbar": {
             "outlinewidth": 0,
             "ticks": ""
            },
            "type": "contourcarpet"
           }
          ],
          "heatmap": [
           {
            "colorbar": {
             "outlinewidth": 0,
             "ticks": ""
            },
            "colorscale": [
             [
              0,
              "#0d0887"
             ],
             [
              0.1111111111111111,
              "#46039f"
             ],
             [
              0.2222222222222222,
              "#7201a8"
             ],
             [
              0.3333333333333333,
              "#9c179e"
             ],
             [
              0.4444444444444444,
              "#bd3786"
             ],
             [
              0.5555555555555556,
              "#d8576b"
             ],
             [
              0.6666666666666666,
              "#ed7953"
             ],
             [
              0.7777777777777778,
              "#fb9f3a"
             ],
             [
              0.8888888888888888,
              "#fdca26"
             ],
             [
              1,
              "#f0f921"
             ]
            ],
            "type": "heatmap"
           }
          ],
          "histogram": [
           {
            "marker": {
             "pattern": {
              "fillmode": "overlay",
              "size": 10,
              "solidity": 0.2
             }
            },
            "type": "histogram"
           }
          ],
          "histogram2d": [
           {
            "colorbar": {
             "outlinewidth": 0,
             "ticks": ""
            },
            "colorscale": [
             [
              0,
              "#0d0887"
             ],
             [
              0.1111111111111111,
              "#46039f"
             ],
             [
              0.2222222222222222,
              "#7201a8"
             ],
             [
              0.3333333333333333,
              "#9c179e"
             ],
             [
              0.4444444444444444,
              "#bd3786"
             ],
             [
              0.5555555555555556,
              "#d8576b"
             ],
             [
              0.6666666666666666,
              "#ed7953"
             ],
             [
              0.7777777777777778,
              "#fb9f3a"
             ],
             [
              0.8888888888888888,
              "#fdca26"
             ],
             [
              1,
              "#f0f921"
             ]
            ],
            "type": "histogram2d"
           }
          ],
          "histogram2dcontour": [
           {
            "colorbar": {
             "outlinewidth": 0,
             "ticks": ""
            },
            "colorscale": [
             [
              0,
              "#0d0887"
             ],
             [
              0.1111111111111111,
              "#46039f"
             ],
             [
              0.2222222222222222,
              "#7201a8"
             ],
             [
              0.3333333333333333,
              "#9c179e"
             ],
             [
              0.4444444444444444,
              "#bd3786"
             ],
             [
              0.5555555555555556,
              "#d8576b"
             ],
             [
              0.6666666666666666,
              "#ed7953"
             ],
             [
              0.7777777777777778,
              "#fb9f3a"
             ],
             [
              0.8888888888888888,
              "#fdca26"
             ],
             [
              1,
              "#f0f921"
             ]
            ],
            "type": "histogram2dcontour"
           }
          ],
          "mesh3d": [
           {
            "colorbar": {
             "outlinewidth": 0,
             "ticks": ""
            },
            "type": "mesh3d"
           }
          ],
          "parcoords": [
           {
            "line": {
             "colorbar": {
              "outlinewidth": 0,
              "ticks": ""
             }
            },
            "type": "parcoords"
           }
          ],
          "pie": [
           {
            "automargin": true,
            "type": "pie"
           }
          ],
          "scatter": [
           {
            "fillpattern": {
             "fillmode": "overlay",
             "size": 10,
             "solidity": 0.2
            },
            "type": "scatter"
           }
          ],
          "scatter3d": [
           {
            "line": {
             "colorbar": {
              "outlinewidth": 0,
              "ticks": ""
             }
            },
            "marker": {
             "colorbar": {
              "outlinewidth": 0,
              "ticks": ""
             }
            },
            "type": "scatter3d"
           }
          ],
          "scattercarpet": [
           {
            "marker": {
             "colorbar": {
              "outlinewidth": 0,
              "ticks": ""
             }
            },
            "type": "scattercarpet"
           }
          ],
          "scattergeo": [
           {
            "marker": {
             "colorbar": {
              "outlinewidth": 0,
              "ticks": ""
             }
            },
            "type": "scattergeo"
           }
          ],
          "scattergl": [
           {
            "marker": {
             "colorbar": {
              "outlinewidth": 0,
              "ticks": ""
             }
            },
            "type": "scattergl"
           }
          ],
          "scattermap": [
           {
            "marker": {
             "colorbar": {
              "outlinewidth": 0,
              "ticks": ""
             }
            },
            "type": "scattermap"
           }
          ],
          "scattermapbox": [
           {
            "marker": {
             "colorbar": {
              "outlinewidth": 0,
              "ticks": ""
             }
            },
            "type": "scattermapbox"
           }
          ],
          "scatterpolar": [
           {
            "marker": {
             "colorbar": {
              "outlinewidth": 0,
              "ticks": ""
             }
            },
            "type": "scatterpolar"
           }
          ],
          "scatterpolargl": [
           {
            "marker": {
             "colorbar": {
              "outlinewidth": 0,
              "ticks": ""
             }
            },
            "type": "scatterpolargl"
           }
          ],
          "scatterternary": [
           {
            "marker": {
             "colorbar": {
              "outlinewidth": 0,
              "ticks": ""
             }
            },
            "type": "scatterternary"
           }
          ],
          "surface": [
           {
            "colorbar": {
             "outlinewidth": 0,
             "ticks": ""
            },
            "colorscale": [
             [
              0,
              "#0d0887"
             ],
             [
              0.1111111111111111,
              "#46039f"
             ],
             [
              0.2222222222222222,
              "#7201a8"
             ],
             [
              0.3333333333333333,
              "#9c179e"
             ],
             [
              0.4444444444444444,
              "#bd3786"
             ],
             [
              0.5555555555555556,
              "#d8576b"
             ],
             [
              0.6666666666666666,
              "#ed7953"
             ],
             [
              0.7777777777777778,
              "#fb9f3a"
             ],
             [
              0.8888888888888888,
              "#fdca26"
             ],
             [
              1,
              "#f0f921"
             ]
            ],
            "type": "surface"
           }
          ],
          "table": [
           {
            "cells": {
             "fill": {
              "color": "#EBF0F8"
             },
             "line": {
              "color": "white"
             }
            },
            "header": {
             "fill": {
              "color": "#C8D4E3"
             },
             "line": {
              "color": "white"
             }
            },
            "type": "table"
           }
          ]
         },
         "layout": {
          "annotationdefaults": {
           "arrowcolor": "#2a3f5f",
           "arrowhead": 0,
           "arrowwidth": 1
          },
          "autotypenumbers": "strict",
          "coloraxis": {
           "colorbar": {
            "outlinewidth": 0,
            "ticks": ""
           }
          },
          "colorscale": {
           "diverging": [
            [
             0,
             "#8e0152"
            ],
            [
             0.1,
             "#c51b7d"
            ],
            [
             0.2,
             "#de77ae"
            ],
            [
             0.3,
             "#f1b6da"
            ],
            [
             0.4,
             "#fde0ef"
            ],
            [
             0.5,
             "#f7f7f7"
            ],
            [
             0.6,
             "#e6f5d0"
            ],
            [
             0.7,
             "#b8e186"
            ],
            [
             0.8,
             "#7fbc41"
            ],
            [
             0.9,
             "#4d9221"
            ],
            [
             1,
             "#276419"
            ]
           ],
           "sequential": [
            [
             0,
             "#0d0887"
            ],
            [
             0.1111111111111111,
             "#46039f"
            ],
            [
             0.2222222222222222,
             "#7201a8"
            ],
            [
             0.3333333333333333,
             "#9c179e"
            ],
            [
             0.4444444444444444,
             "#bd3786"
            ],
            [
             0.5555555555555556,
             "#d8576b"
            ],
            [
             0.6666666666666666,
             "#ed7953"
            ],
            [
             0.7777777777777778,
             "#fb9f3a"
            ],
            [
             0.8888888888888888,
             "#fdca26"
            ],
            [
             1,
             "#f0f921"
            ]
           ],
           "sequentialminus": [
            [
             0,
             "#0d0887"
            ],
            [
             0.1111111111111111,
             "#46039f"
            ],
            [
             0.2222222222222222,
             "#7201a8"
            ],
            [
             0.3333333333333333,
             "#9c179e"
            ],
            [
             0.4444444444444444,
             "#bd3786"
            ],
            [
             0.5555555555555556,
             "#d8576b"
            ],
            [
             0.6666666666666666,
             "#ed7953"
            ],
            [
             0.7777777777777778,
             "#fb9f3a"
            ],
            [
             0.8888888888888888,
             "#fdca26"
            ],
            [
             1,
             "#f0f921"
            ]
           ]
          },
          "colorway": [
           "#636efa",
           "#EF553B",
           "#00cc96",
           "#ab63fa",
           "#FFA15A",
           "#19d3f3",
           "#FF6692",
           "#B6E880",
           "#FF97FF",
           "#FECB52"
          ],
          "font": {
           "color": "#2a3f5f"
          },
          "geo": {
           "bgcolor": "white",
           "lakecolor": "white",
           "landcolor": "#E5ECF6",
           "showlakes": true,
           "showland": true,
           "subunitcolor": "white"
          },
          "hoverlabel": {
           "align": "left"
          },
          "hovermode": "closest",
          "mapbox": {
           "style": "light"
          },
          "paper_bgcolor": "white",
          "plot_bgcolor": "#E5ECF6",
          "polar": {
           "angularaxis": {
            "gridcolor": "white",
            "linecolor": "white",
            "ticks": ""
           },
           "bgcolor": "#E5ECF6",
           "radialaxis": {
            "gridcolor": "white",
            "linecolor": "white",
            "ticks": ""
           }
          },
          "scene": {
           "xaxis": {
            "backgroundcolor": "#E5ECF6",
            "gridcolor": "white",
            "gridwidth": 2,
            "linecolor": "white",
            "showbackground": true,
            "ticks": "",
            "zerolinecolor": "white"
           },
           "yaxis": {
            "backgroundcolor": "#E5ECF6",
            "gridcolor": "white",
            "gridwidth": 2,
            "linecolor": "white",
            "showbackground": true,
            "ticks": "",
            "zerolinecolor": "white"
           },
           "zaxis": {
            "backgroundcolor": "#E5ECF6",
            "gridcolor": "white",
            "gridwidth": 2,
            "linecolor": "white",
            "showbackground": true,
            "ticks": "",
            "zerolinecolor": "white"
           }
          },
          "shapedefaults": {
           "line": {
            "color": "#2a3f5f"
           }
          },
          "ternary": {
           "aaxis": {
            "gridcolor": "white",
            "linecolor": "white",
            "ticks": ""
           },
           "baxis": {
            "gridcolor": "white",
            "linecolor": "white",
            "ticks": ""
           },
           "bgcolor": "#E5ECF6",
           "caxis": {
            "gridcolor": "white",
            "linecolor": "white",
            "ticks": ""
           }
          },
          "title": {
           "x": 0.05
          },
          "xaxis": {
           "automargin": true,
           "gridcolor": "white",
           "linecolor": "white",
           "ticks": "",
           "title": {
            "standoff": 15
           },
           "zerolinecolor": "white",
           "zerolinewidth": 2
          },
          "yaxis": {
           "automargin": true,
           "gridcolor": "white",
           "linecolor": "white",
           "ticks": "",
           "title": {
            "standoff": 15
           },
           "zerolinecolor": "white",
           "zerolinewidth": 2
          }
         }
        },
        "title": {
         "text": "Mapa de calor mundial"
        }
       }
      }
     },
     "metadata": {},
     "output_type": "display_data"
    }
   ],
   "source": [
    "# Ejmplo usando plotly\n",
    "\n",
    "fig = px.choropleth(\n",
    "    df_completo,\n",
    "    locations=\"iso_alpha\",\n",
    "    locationmode=\"ISO-3\",\n",
    "    color=\"ratio\",\n",
    "    color_continuous_scale=\"Viridis\",\n",
    "    title=\"Mapa de calor mundial\"\n",
    ")\n",
    "fig.show()"
   ]
  }
 ],
 "metadata": {
  "kernelspec": {
   "display_name": ".venv (3.12.6)",
   "language": "python",
   "name": "python3"
  },
  "language_info": {
   "codemirror_mode": {
    "name": "ipython",
    "version": 3
   },
   "file_extension": ".py",
   "mimetype": "text/x-python",
   "name": "python",
   "nbconvert_exporter": "python",
   "pygments_lexer": "ipython3",
   "version": "3.12.6"
  }
 },
 "nbformat": 4,
 "nbformat_minor": 5
}
