{
 "cells": [
  {
   "cell_type": "code",
   "execution_count": 57,
   "id": "4e8626d7",
   "metadata": {},
   "outputs": [],
   "source": [
    "import numpy as np\n",
    "import pandas as pd\n",
    "from bs4 import BeautifulSoup as bs\n",
    "import requests\n",
    "import pycountry\n",
    "import plotly.express as px"
   ]
  },
  {
   "cell_type": "code",
   "execution_count": 58,
   "id": "5ca63ae4",
   "metadata": {},
   "outputs": [],
   "source": [
    "# Obtener la página\n",
    "url = \"https://data.worldobesity.org/tables/prevalence-of-adult-overweight-obesity-2/?regionid=-1&incomegroupid=-1&msr=msr&breakdown=c\"\n",
    "page = requests.get(url).text\n",
    "soup = bs(page)"
   ]
  },
  {
   "cell_type": "code",
   "execution_count": 59,
   "id": "b3aba862",
   "metadata": {},
   "outputs": [
    {
     "data": {
      "text/plain": [
       "1"
      ]
     },
     "execution_count": 59,
     "metadata": {},
     "output_type": "execute_result"
    }
   ],
   "source": [
    "# Saber cuantas tablas tiene la página\n",
    "tables = soup.find_all('table')\n",
    "len(tables)"
   ]
  },
  {
   "cell_type": "code",
   "execution_count": 60,
   "id": "9d4ca45f",
   "metadata": {},
   "outputs": [
    {
     "data": {
      "text/plain": [
       "<table class=\"results\" id=\"results\"><thead><tr><th class=\"sorttable_sorted\">Country</th><th class=\"nosort\">Income group</th><th class=\"\">Year</th><th class=\"\">Area</th><th class=\"\">Age</th><th class=\"\">Males<br/>Overweight<br/>(BMI 25-29.9kg/m²)</th><th class=\"\">Males<br/>Obesity<br/>(BMI ≥30kg/m²)</th><th class=\"\">Females<br/>Overweight<br/>(BMI 25-29.9kg/m²)</th><th class=\"\">Females<br/>Obesity<br/>(BMI ≥30kg/m²)</th><th class=\"\">All adults<br/>Overweight<br/>(BMI 25-29.9kg/m²)</th><th class=\"\">All adults<br/>Obesity<br/>(BMI ≥30kg/m²)</th></tr></thead><tbody><tr><td><span class=\"flag\" style=\"background-image:url('gfx/flags-iso/AF.svg');\"></span>Afghanistan</td><td>Low income</td><td>2018</td><td>National</td><td class=\"agebox\">18-69</td><td>25.90</td><td>11.90</td><td>25.60</td><td>23.50</td><td>25.80</td><td>17.00</td></tr><tr class=\"selfreport\"><td><span class=\"flag\" style=\"background-image:url('gfx/flags-iso/AL.svg');\"></span>Albania</td><td>Upper-middle income</td><td>2022</td><td>National</td><td class=\"agebox\">16+</td><td>51.00</td><td>11.30</td><td>37.50</td><td>13.40</td><td>44.20</td><td>12.40</td></tr><tr><td><span class=\"flag\" style=\"background-image:url('gfx/flags-iso/DZ.svg');\"></span>Algeria</td><td>Upper-middle income</td><td>2016-2017</td><td>National</td><td class=\"agebox\">18-69</td><td>34.20</td><td>14.10</td><td>33.20</td><td>30.10</td><td>33.80</td><td>21.80</td></tr><tr><td><span class=\"flag\" style=\"background-image:url('gfx/flags-iso/AS.svg');\"></span>American Samoa</td><td>High income</td><td>2017-2018</td><td>National</td><td class=\"agebox\">18+</td><td>-</td><td>77.10</td><td>-</td><td>82.70</td><td>-</td><td>80.20</td></tr><tr><td><span class=\"flag\" style=\"background-image:url('gfx/flags-iso/AD.svg');\"></span>Andorra</td><td>High income</td><td>2017-2018</td><td>National</td><td class=\"agebox\">18-75</td><td>42.50</td><td>13.00</td><td>27.00</td><td>14.40</td><td>35.20</td><td>13.60</td></tr><tr><td><span class=\"flag\" style=\"background-image:url('gfx/flags-iso/AO.svg');\"></span>Angola</td><td>Lower-middle income</td><td>2013-2014</td><td>Regional</td><td class=\"agebox\">15-64</td><td>10.70</td><td>2.80</td><td>20.50</td><td>10.60</td><td>15.80</td><td>6.80</td></tr><tr><td><span class=\"flag\" style=\"background-image:url('gfx/flags-iso/AI.svg');\"></span>Anguilla</td><td></td><td>2016</td><td>National</td><td class=\"agebox\">18-69</td><td>36.00</td><td>30.40</td><td>27.40</td><td>46.50</td><td>31.70</td><td>38.50</td></tr><tr><td><span class=\"flag\" style=\"background-image:url('gfx/flags-iso/AG.svg');\"></span>Antigua and Barbuda</td><td>High income</td><td>1993</td><td></td><td class=\"agebox\">40+</td><td>-</td><td>25.00</td><td>-</td><td>60.00</td><td>-</td><td>43.10</td></tr><tr><td><span class=\"flag\" style=\"background-image:url('gfx/flags-iso/AR.svg');\"></span>Argentina</td><td>Upper-middle income</td><td>2018</td><td>National</td><td class=\"agebox\">18+</td><td>38.70</td><td>31.40</td><td>29.10</td><td>33.40</td><td>33.70</td><td>32.40</td></tr><tr><td><span class=\"flag\" style=\"background-image:url('gfx/flags-iso/AM.svg');\"></span>Armenia</td><td>Upper-middle income</td><td>2016</td><td>National</td><td class=\"agebox\">18-69</td><td>31.40</td><td>14.00</td><td>25.10</td><td>25.00</td><td>28.20</td><td>19.50</td></tr><tr><td><span class=\"flag\" style=\"background-image:url('gfx/flags-iso/AW.svg');\"></span>Aruba</td><td>High income</td><td>2023</td><td>National</td><td class=\"agebox\">18-69</td><td>35.80</td><td>42.80</td><td>30.90</td><td>48.00</td><td>32.90</td><td>45.80</td></tr><tr><td><span class=\"flag\" style=\"background-image:url('gfx/flags-iso/AU.svg');\"></span>Australia</td><td>High income</td><td>2022-2023</td><td>National</td><td class=\"agebox\">18+</td><td>38.60</td><td>32.50</td><td>29.60</td><td>30.90</td><td>34.00</td><td>31.70</td></tr><tr class=\"selfreport\"><td><span class=\"flag\" style=\"background-image:url('gfx/flags-iso/AT.svg');\"></span>Austria</td><td>High income</td><td>2022</td><td>National</td><td class=\"agebox\">16+</td><td>42.00</td><td>18.50</td><td>27.20</td><td>16.30</td><td>34.40</td><td>17.40</td></tr><tr><td><span class=\"flag\" style=\"background-image:url('gfx/flags-iso/AZ.svg');\"></span>Azerbaijan</td><td>Upper-middle income</td><td>2017-2018</td><td>National</td><td class=\"agebox\">18-69</td><td>38.80</td><td>14.70</td><td>30.90</td><td>26.50</td><td>34.80</td><td>20.60</td></tr><tr><td><span class=\"flag\" style=\"background-image:url('gfx/flags-iso/BS.svg');\"></span>Bahamas</td><td>High income</td><td>2019</td><td>National</td><td class=\"agebox\">18-69</td><td>35.20</td><td>31.80</td><td>25.80</td><td>54.80</td><td>28.00</td><td>43.60</td></tr><tr><td><span class=\"flag\" style=\"background-image:url('gfx/flags-iso/BH.svg');\"></span>Bahrain</td><td>High income</td><td>2018</td><td>National</td><td class=\"agebox\">18+</td><td>38.70</td><td>33.00</td><td>30.90</td><td>42.50</td><td>35.50</td><td>36.90</td></tr><tr><td><span class=\"flag\" style=\"background-image:url('gfx/flags-iso/BD.svg');\"></span>Bangladesh</td><td>Lower-middle income</td><td>2022</td><td>National</td><td class=\"agebox\">M: 20+; F: 20-49</td><td>18.10</td><td>1.90</td><td>30.00</td><td>8.40</td><td>-</td><td>-</td></tr><tr><td><span class=\"flag\" style=\"background-image:url('gfx/flags-iso/BB.svg');\"></span>Barbados</td><td>High income</td><td>2011</td><td>National</td><td class=\"agebox\">25+</td><td>34.20</td><td>23.40</td><td>30.80</td><td>43.40</td><td>32.40</td><td>33.80</td></tr><tr><td><span class=\"flag\" style=\"background-image:url('gfx/flags-iso/BY.svg');\"></span>Belarus</td><td>Upper-middle income</td><td>2020</td><td>National</td><td class=\"agebox\">18-69</td><td>39.40</td><td>16.60</td><td>28.70</td><td>21.20</td><td>34.10</td><td>18.90</td></tr><tr class=\"selfreport\"><td><span class=\"flag\" style=\"background-image:url('gfx/flags-iso/BE.svg');\"></span>Belgium</td><td>High income</td><td>2022</td><td>National</td><td class=\"agebox\">16+</td><td>37.50</td><td>16.60</td><td>28.10</td><td>14.50</td><td>32.70</td><td>15.50</td></tr><tr><td><span class=\"flag\" style=\"background-image:url('gfx/flags-iso/BZ.svg');\"></span>Belize</td><td>Upper-middle income</td><td>2017</td><td>National</td><td class=\"agebox\">20-55</td><td>-</td><td>31.20</td><td>-</td><td>49.40</td><td>-</td><td>40.90</td></tr><tr><td><span class=\"flag\" style=\"background-image:url('gfx/flags-iso/BJ.svg');\"></span>Benin</td><td>Lower-middle income</td><td>2017-2018</td><td>National</td><td class=\"agebox\">15-49</td><td>-</td><td>-</td><td>16.40</td><td>9.40</td><td>-</td><td>-</td></tr><tr><td><span class=\"flag\" style=\"background-image:url('gfx/flags-iso/BJ.svg');\"></span>Benin</td><td>Lower-middle income</td><td>2015</td><td>National</td><td class=\"agebox\">18-69</td><td>14.40</td><td>4.70</td><td>17.00</td><td>10.10</td><td>15.70</td><td>7.40</td></tr><tr><td><span class=\"flag\" style=\"background-image:url('gfx/flags-iso/BM.svg');\"></span>Bermuda</td><td>High income</td><td>2013-2014</td><td>National</td><td class=\"agebox\">18+</td><td>49.60</td><td>29.40</td><td>29.60</td><td>40.00</td><td>40.20</td><td>34.40</td></tr><tr><td><span class=\"flag\" style=\"background-image:url('gfx/flags-iso/BT.svg');\"></span>Bhutan</td><td>Lower-middle income</td><td>2023</td><td>National</td><td class=\"agebox\">15-69</td><td>33.60</td><td>8.60</td><td>33.10</td><td>16.90</td><td>33.30</td><td>12.50</td></tr><tr><td><span class=\"flag\" style=\"background-image:url('gfx/flags-iso/BO.svg');\"></span>Bolivia</td><td>Lower-middle income</td><td>2019</td><td>National</td><td class=\"agebox\">18-69</td><td>39.10</td><td>20.80</td><td>35.10</td><td>31.80</td><td>37.10</td><td>26.20</td></tr><tr><td><span class=\"flag\" style=\"background-image:url('gfx/flags-iso/BA.svg');\"></span>Bosnia and Herzegovina</td><td>Upper-middle income</td><td>2012</td><td>National</td><td class=\"agebox\">25-64</td><td>49.90</td><td>20.30</td><td>31.90</td><td>24.10</td><td>40.40</td><td>22.30</td></tr><tr><td><span class=\"flag\" style=\"background-image:url('gfx/flags-iso/BW.svg');\"></span>Botswana</td><td>Upper-middle income</td><td>2014</td><td>National</td><td class=\"agebox\">15-69</td><td>14.70</td><td>5.10</td><td>23.20</td><td>19.10</td><td>18.80</td><td>11.80</td></tr><tr class=\"selfreport\"><td><span class=\"flag\" style=\"background-image:url('gfx/flags-iso/BR.svg');\"></span>Brazil</td><td>Upper-middle income</td><td>2023</td><td>National</td><td class=\"agebox\">18+</td><td>39.60</td><td>23.80</td><td>34.80</td><td>24.80</td><td>37.10</td><td>24.30</td></tr><tr><td><span class=\"flag\" style=\"background-image:url('gfx/flags-iso/VG.svg');\"></span>British Virgin Islands</td><td></td><td>2009</td><td>National</td><td class=\"agebox\">25-64</td><td>45.00</td><td>28.40</td><td>32.20</td><td>43.90</td><td>39.20</td><td>35.50</td></tr><tr><td><span class=\"flag\" style=\"background-image:url('gfx/flags-iso/BN.svg');\"></span>Brunei Darussalam</td><td>High income</td><td>2015-2016</td><td>National</td><td class=\"agebox\">18-69</td><td>36.30</td><td>26.90</td><td>33.00</td><td>29.50</td><td>34.60</td><td>28.20</td></tr><tr class=\"selfreport\"><td><span class=\"flag\" style=\"background-image:url('gfx/flags-iso/BG.svg');\"></span>Bulgaria</td><td>High income</td><td>2022</td><td>National</td><td class=\"agebox\">16+</td><td>49.00</td><td>13.40</td><td>34.40</td><td>9.80</td><td>41.40</td><td>11.50</td></tr><tr><td><span class=\"flag\" style=\"background-image:url('gfx/flags-iso/BF.svg');\"></span>Burkina Faso</td><td>Low income</td><td>2021</td><td>National</td><td class=\"agebox\">20-49</td><td>-</td><td>-</td><td>18.10</td><td>7.30</td><td>-</td><td>-</td></tr><tr><td><span class=\"flag\" style=\"background-image:url('gfx/flags-iso/BF.svg');\"></span>Burkina Faso</td><td>Low income</td><td>2013</td><td>National</td><td class=\"agebox\">25-64</td><td>10.80</td><td>2.90</td><td>7.20</td><td>6.00</td><td>8.90</td><td>4.50</td></tr><tr><td><span class=\"flag\" style=\"background-image:url('gfx/flags-iso/BI.svg');\"></span>Burundi</td><td>Low income</td><td>2016-2017</td><td>National</td><td class=\"agebox\">15-49</td><td>-</td><td>-</td><td>6.10</td><td>1.70</td><td>-</td><td>-</td></tr><tr><td><span class=\"flag\" style=\"background-image:url('gfx/flags-iso/CV.svg');\"></span>Cabo Verde</td><td>Upper-middle income</td><td>2020</td><td>National</td><td class=\"agebox\">18-69</td><td>27.50</td><td>6.70</td><td>32.40</td><td>22.50</td><td>29.90</td><td>14.30</td></tr><tr><td><span class=\"flag\" style=\"background-image:url('gfx/flags-iso/KH.svg');\"></span>Cambodia</td><td>Lower-middle income</td><td>2021-2022</td><td>National</td><td class=\"agebox\">20-49</td><td>-</td><td>-</td><td>26.30</td><td>6.30</td><td>-</td><td>-</td></tr><tr><td><span class=\"flag\" style=\"background-image:url('gfx/flags-iso/KH.svg');\"></span>Cambodia</td><td>Lower-middle income</td><td>2010</td><td>National</td><td class=\"agebox\">25-64</td><td>10.50</td><td>1.10</td><td>16.30</td><td>2.70</td><td>13.50</td><td>1.90</td></tr><tr><td><span class=\"flag\" style=\"background-image:url('gfx/flags-iso/CM.svg');\"></span>Cameroon</td><td>Lower-middle income</td><td>2018</td><td>National</td><td class=\"agebox\">15-49</td><td>-</td><td>-</td><td>23.50</td><td>13.60</td><td>-</td><td>-</td></tr><tr><td><span class=\"flag\" style=\"background-image:url('gfx/flags-iso/CM.svg');\"></span>Cameroon</td><td>Lower-middle income</td><td>2003</td><td>Regional</td><td class=\"agebox\">15+</td><td>21.60</td><td>6.50</td><td>28.60</td><td>19.50</td><td>25.10</td><td>13.00</td></tr><tr><td><span class=\"flag\" style=\"background-image:url('gfx/flags-iso/CA.svg');\"></span>Canada</td><td>High income</td><td>2019</td><td>National</td><td class=\"agebox\">18-79</td><td>39.60</td><td>26.70</td><td>31.40</td><td>22.00</td><td>35.50</td><td>24.30</td></tr><tr class=\"selfreport\"><td><span class=\"flag\" style=\"background-image:url('gfx/flags-iso/ES-CN.svg');\"></span>Canary Islands (Sp.)</td><td></td><td>2021</td><td>National</td><td class=\"agebox\">18+</td><td>37.93</td><td>18.14</td><td>33.02</td><td>18.05</td><td>35.44</td><td>18.10</td></tr><tr><td><span class=\"flag\" style=\"background-image:url('gfx/flags-iso/KY.svg');\"></span>Cayman Islands</td><td>High income</td><td>2023</td><td>National</td><td class=\"agebox\">18-69</td><td>41.00</td><td>24.60</td><td>32.70</td><td>41.10</td><td>37.00</td><td>32.70</td></tr><tr><td><span class=\"flag\" style=\"background-image:url('gfx/flags-iso/CF.svg');\"></span>Central African Republic</td><td>Low income</td><td>2017</td><td>Regional</td><td class=\"agebox\">25-64</td><td>12.80</td><td>6.90</td><td>19.30</td><td>12.70</td><td>16.00</td><td>9.70</td></tr><tr><td><span class=\"flag\" style=\"background-image:url('gfx/flags-iso/TD.svg');\"></span>Chad</td><td>Low income</td><td>2014-2015</td><td>National</td><td class=\"agebox\">15-49</td><td>-</td><td>-</td><td>9.00</td><td>2.50</td><td>-</td><td>-</td></tr><tr><td><span class=\"flag\" style=\"background-image:url('gfx/flags-iso/TD.svg');\"></span>Chad</td><td>Low income</td><td>2007</td><td>Regional</td><td class=\"agebox\">25-64</td><td>21.50</td><td>8.40</td><td>23.80</td><td>19.90</td><td>22.90</td><td>13.70</td></tr><tr><td><span class=\"flag\" style=\"background-image:url('gfx/flags-iso/CL.svg');\"></span>Chile</td><td>High income</td><td>2016-2017</td><td>National</td><td class=\"agebox\">15+</td><td>43.30</td><td>30.30</td><td>36.40</td><td>38.40</td><td>39.80</td><td>34.40</td></tr><tr><td><span class=\"flag\" style=\"background-image:url('gfx/flags-iso/CN.svg');\"></span>China</td><td>Upper-middle income</td><td>2015</td><td>National</td><td class=\"agebox\">18-59</td><td>36.36</td><td>6.30</td><td>28.87</td><td>6.79</td><td>33.07</td><td>6.51</td></tr><tr><td><span class=\"flag\" style=\"background-image:url('gfx/flags-iso/CO.svg');\"></span>Colombia</td><td>Upper-middle income</td><td>2015-2016</td><td>National</td><td class=\"agebox\">18-64</td><td>38.40</td><td>14.40</td><td>37.20</td><td>22.40</td><td>37.80</td><td>18.70</td></tr><tr><td><span class=\"flag\" style=\"background-image:url('gfx/flags-iso/KM.svg');\"></span>Comoros</td><td>Lower-middle income</td><td>2012</td><td>National</td><td class=\"agebox\">15-49</td><td>-</td><td>-</td><td>24.60</td><td>11.80</td><td>-</td><td>-</td></tr><tr><td><span class=\"flag\" style=\"background-image:url('gfx/flags-iso/KM.svg');\"></span>Comoros</td><td>Lower-middle income</td><td>2011</td><td>National</td><td class=\"agebox\">25-64</td><td>22.10</td><td>5.50</td><td>30.00</td><td>22.40</td><td>25.90</td><td>13.50</td></tr><tr><td><span class=\"flag\" style=\"background-image:url('gfx/flags-iso/CG.svg');\"></span>Congo</td><td>Lower-middle income</td><td>2011-2012</td><td>National</td><td class=\"agebox\">15-49</td><td>-</td><td>-</td><td>17.30</td><td>8.80</td><td>-</td><td>-</td></tr><tr><td><span class=\"flag\" style=\"background-image:url('gfx/flags-iso/CG.svg');\"></span>Congo</td><td>Lower-middle income</td><td>2004</td><td>Regional</td><td class=\"agebox\">25-64</td><td>15.50</td><td>2.50</td><td>22.10</td><td>15.00</td><td>18.70</td><td>8.60</td></tr><tr><td><span class=\"flag\" style=\"background-image:url('gfx/flags-iso/CK.svg');\"></span>Cook Islands</td><td></td><td>2022</td><td>National</td><td class=\"agebox\">18-69</td><td>18.30</td><td>74.20</td><td>16.10</td><td>76.80</td><td>17.60</td><td>75.00</td></tr><tr><td><span class=\"flag\" style=\"background-image:url('gfx/flags-iso/CR.svg');\"></span>Costa Rica</td><td>High income</td><td>2008-2009</td><td>National</td><td class=\"agebox\">20-64</td><td>43.50</td><td>18.90</td><td>35.30</td><td>31.30</td><td>39.40</td><td>25.10</td></tr><tr><td><span class=\"flag\" style=\"background-image:url('gfx/flags-iso/CI.svg');\"></span>Cote d'Ivoire</td><td>Lower-middle income</td><td>2021</td><td>National</td><td class=\"agebox\">20-49</td><td>-</td><td>-</td><td>24.10</td><td>14.70</td><td>-</td><td>-</td></tr><tr><td><span class=\"flag\" style=\"background-image:url('gfx/flags-iso/CI.svg');\"></span>Cote d'Ivoire</td><td>Lower-middle income</td><td>2005</td><td>National</td><td class=\"agebox\">15-64</td><td>18.60</td><td>5.10</td><td>24.80</td><td>11.20</td><td>22.00</td><td>8.50</td></tr><tr class=\"selfreport\"><td><span class=\"flag\" style=\"background-image:url('gfx/flags-iso/HR.svg');\"></span>Croatia</td><td>High income</td><td>2022</td><td>National</td><td class=\"agebox\">16+</td><td>48.60</td><td>20.80</td><td>33.40</td><td>12.50</td><td>40.70</td><td>16.50</td></tr><tr><td><span class=\"flag\" style=\"background-image:url('gfx/flags-iso/CU.svg');\"></span>Cuba</td><td>Upper-middle income</td><td>2010</td><td>National</td><td class=\"agebox\">18+</td><td>32.70</td><td>12.80</td><td>30.80</td><td>18.80</td><td>31.70</td><td>15.80</td></tr><tr class=\"selfreport\"><td><span class=\"flag\" style=\"background-image:url('gfx/flags-iso/CY.svg');\"></span>Cyprus</td><td>High income</td><td>2022</td><td>National</td><td class=\"agebox\">16+</td><td>41.40</td><td>16.10</td><td>27.00</td><td>10.60</td><td>34.00</td><td>13.30</td></tr><tr class=\"selfreport\"><td><span class=\"flag\" style=\"background-image:url('gfx/flags-iso/CZ.svg');\"></span>Czechia</td><td>High income</td><td>2022</td><td>National</td><td class=\"agebox\">16+</td><td>44.50</td><td>18.00</td><td>31.90</td><td>16.80</td><td>38.00</td><td>17.40</td></tr><tr><td><span class=\"flag\" style=\"background-image:url('gfx/flags-iso/CD.svg');\"></span>Democratic Republic of Congo</td><td>Low income</td><td>2023-2024</td><td>National</td><td class=\"agebox\">20-49</td><td>8.10</td><td>1.30</td><td>15.30</td><td>7.60</td><td>11.70</td><td>4.50</td></tr><tr class=\"selfreport\"><td><span class=\"flag\" style=\"background-image:url('gfx/flags-iso/DK.svg');\"></span>Denmark</td><td>High income</td><td>2023</td><td>National</td><td class=\"agebox\">16+</td><td>40.40</td><td>18.10</td><td>28.40</td><td>19.20</td><td>34.20</td><td>18.70</td></tr><tr><td><span class=\"flag\" style=\"background-image:url('gfx/flags-iso/DM.svg');\"></span>Dominica</td><td>Upper-middle income</td><td>2007-2008</td><td>National</td><td class=\"agebox\">15-64</td><td>20.90</td><td>8.60</td><td>29.20</td><td>32.70</td><td>24.90</td><td>20.20</td></tr><tr><td><span class=\"flag\" style=\"background-image:url('gfx/flags-iso/DO.svg');\"></span>Dominican Republic</td><td>Upper-middle income</td><td>2013</td><td>National</td><td class=\"agebox\">15-49</td><td>27.80</td><td>13.00</td><td>29.70</td><td>20.80</td><td>28.10</td><td>16.60</td></tr><tr><td><span class=\"flag\" style=\"background-image:url('gfx/flags-iso/EC.svg');\"></span>Ecuador</td><td>Upper-middle income</td><td>2018</td><td>National</td><td class=\"agebox\">18-69</td><td>39.40</td><td>20.30</td><td>36.50</td><td>30.90</td><td>37.90</td><td>25.70</td></tr><tr><td><span class=\"flag\" style=\"background-image:url('gfx/flags-iso/EG.svg');\"></span>Egypt</td><td>Lower-middle income</td><td>2021-2022</td><td>National</td><td class=\"agebox\">15-49</td><td>-</td><td>-</td><td>30.10</td><td>55.80</td><td>-</td><td>-</td></tr><tr><td><span class=\"flag\" style=\"background-image:url('gfx/flags-iso/EG.svg');\"></span>Egypt</td><td>Lower-middle income</td><td>2016-2017</td><td>National</td><td class=\"agebox\">15-69</td><td>29.00</td><td>24.80</td><td>25.30</td><td>48.80</td><td>27.30</td><td>35.70</td></tr><tr><td><span class=\"flag\" style=\"background-image:url('gfx/flags-iso/SV.svg');\"></span>El Salvador</td><td>Upper-middle income</td><td>2014-2015</td><td>National</td><td class=\"agebox\">20+</td><td>39.50</td><td>19.50</td><td>36.60</td><td>33.20</td><td>37.90</td><td>27.30</td></tr><tr><td><span class=\"flag\" style=\"background-image:url('gfx/flags-iso/GB-ENG.svg');\"></span>England</td><td></td><td>2022</td><td>National</td><td class=\"agebox\">16+</td><td>39.00</td><td>28.00</td><td>31.00</td><td>30.00</td><td>35.00</td><td>29.00</td></tr><tr><td><span class=\"flag\" style=\"background-image:url('gfx/flags-iso/GQ.svg');\"></span>Equatorial Guinea</td><td>Upper-middle income</td><td>2011</td><td>National</td><td class=\"agebox\">M: 15-59; F: 15-49</td><td>18.70</td><td>4.50</td><td>25.00</td><td>12.70</td><td>21.40</td><td>8.30</td></tr><tr><td><span class=\"flag\" style=\"background-image:url('gfx/flags-iso/ER.svg');\"></span>Eritrea</td><td>Low income</td><td>2004</td><td>National</td><td class=\"agebox\">15-64</td><td>9.20</td><td>2.00</td><td>13.60</td><td>4.90</td><td>11.10</td><td>3.40</td></tr><tr class=\"selfreport\"><td><span class=\"flag\" style=\"background-image:url('gfx/flags-iso/EE.svg');\"></span>Estonia</td><td>High income</td><td>2022</td><td>National</td><td class=\"agebox\">16+</td><td>40.70</td><td>20.30</td><td>29.60</td><td>22.90</td><td>34.70</td><td>21.70</td></tr><tr><td><span class=\"flag\" style=\"background-image:url('gfx/flags-iso/SZ.svg');\"></span>Eswatini</td><td>Lower-middle income</td><td>2014</td><td>National</td><td class=\"agebox\">15-69</td><td>17.20</td><td>8.80</td><td>28.90</td><td>30.90</td><td>23.40</td><td>20.50</td></tr><tr><td><span class=\"flag\" style=\"background-image:url('gfx/flags-iso/ET.svg');\"></span>Ethiopia</td><td>Low income</td><td>2016</td><td>National</td><td class=\"agebox\">M: 15-59; F: 15-49</td><td>3.10</td><td>0.40</td><td>6.00</td><td>1.50</td><td>4.40</td><td>1.00</td></tr><tr><td><span class=\"flag\" style=\"background-image:url('gfx/flags-iso/FM.svg');\"></span>Federated States of Micronesia</td><td>Lower-middle income</td><td>2014</td><td>Regional</td><td class=\"agebox\">18-69</td><td>26.60</td><td>27.50</td><td>25.10</td><td>49.60</td><td>26.00</td><td>37.10</td></tr><tr><td><span class=\"flag\" style=\"background-image:url('gfx/flags-iso/FJ.svg');\"></span>Fiji</td><td>Upper-middle income</td><td>2021</td><td>National</td><td class=\"agebox\">15-49</td><td>-</td><td>-</td><td>25.20</td><td>44.70</td><td>-</td><td>-</td></tr><tr><td><span class=\"flag\" style=\"background-image:url('gfx/flags-iso/FJ.svg');\"></span>Fiji</td><td>Upper-middle income</td><td>2015</td><td>National</td><td class=\"agebox\">18+</td><td>33.50</td><td>21.50</td><td>29.20</td><td>42.00</td><td>31.40</td><td>31.70</td></tr><tr><td><span class=\"flag\" style=\"background-image:url('gfx/flags-iso/FI.svg');\"></span>Finland</td><td>High income</td><td>2023</td><td>National</td><td class=\"agebox\">20+</td><td>44.10</td><td>26.90</td><td>34.20</td><td>29.60</td><td>-</td><td>-</td></tr><tr class=\"selfreport\"><td><span class=\"flag\" style=\"background-image:url('gfx/flags-iso/FR.svg');\"></span>France</td><td>High income</td><td>2022</td><td>National</td><td class=\"agebox\">18+</td><td>37.70</td><td>15.10</td><td>25.30</td><td>15.30</td><td>31.20</td><td>15.20</td></tr><tr class=\"selfreport\"><td><span class=\"flag\" style=\"background-image:url('gfx/flags-iso/GF.svg');\"></span>French Guiana</td><td></td><td>2019</td><td>National</td><td class=\"agebox\">15+</td><td>34.00</td><td>15.00</td><td>28.00</td><td>23.00</td><td>30.00</td><td>19.00</td></tr><tr><td><span class=\"flag\" style=\"background-image:url('gfx/flags-iso/PF.svg');\"></span>French Polynesia</td><td>High income</td><td>2010</td><td>National</td><td class=\"agebox\">18-64</td><td>32.20</td><td>38.90</td><td>26.80</td><td>41.90</td><td>29.60</td><td>40.40</td></tr><tr><td><span class=\"flag\" style=\"background-image:url('gfx/flags-iso/GA.svg');\"></span>Gabon</td><td>Upper-middle income</td><td>2019-2021</td><td>National</td><td class=\"agebox\">15-49</td><td>20.90</td><td>8.00</td><td>23.30</td><td>24.70</td><td>22.10</td><td>16.20</td></tr><tr><td><span class=\"flag\" style=\"background-image:url('gfx/flags-iso/GM.svg');\"></span>Gambia</td><td>Low income</td><td>2019</td><td>National</td><td class=\"agebox\">35+</td><td>21.30</td><td>3.90</td><td>27.90</td><td>20.20</td><td>24.60</td><td>12.00</td></tr><tr><td><span class=\"flag\" style=\"background-image:url('gfx/flags-iso/GE.svg');\"></span>Georgia</td><td>Upper-middle income</td><td>2016</td><td>National</td><td class=\"agebox\">18-69</td><td>35.30</td><td>30.20</td><td>27.90</td><td>36.00</td><td>31.40</td><td>33.20</td></tr><tr class=\"selfreport\"><td><span class=\"flag\" style=\"background-image:url('gfx/flags-iso/DE.svg');\"></span>Germany</td><td>High income</td><td>2019</td><td>National</td><td class=\"agebox\">18+</td><td>41.60</td><td>19.10</td><td>27.50</td><td>19.00</td><td>34.50</td><td>19.00</td></tr><tr><td><span class=\"flag\" style=\"background-image:url('gfx/flags-iso/GH.svg');\"></span>Ghana</td><td>Lower-middle income</td><td>2022</td><td>National</td><td class=\"agebox\">20-49</td><td>16.80</td><td>3.90</td><td>28.20</td><td>22.00</td><td>-</td><td>-</td></tr><tr class=\"selfreport\"><td><span class=\"flag\" style=\"background-image:url('gfx/flags-iso/GI.svg');\"></span>Gibraltar (UK)</td><td>High income</td><td>2021</td><td>National</td><td class=\"agebox\">16+</td><td>44.10</td><td>28.90</td><td>30.70</td><td>28.80</td><td>36.80</td><td>28.90</td></tr><tr class=\"selfreport\"><td><span class=\"flag\" style=\"background-image:url('gfx/flags-iso/GR.svg');\"></span>Greece</td><td>High income</td><td>2022</td><td>National</td><td class=\"agebox\">16+</td><td>50.40</td><td>12.10</td><td>35.30</td><td>11.50</td><td>42.60</td><td>11.80</td></tr><tr><td><span class=\"flag\" style=\"background-image:url('gfx/flags-iso/GL.svg');\"></span>Greenland</td><td>High income</td><td>2018</td><td>National</td><td class=\"agebox\">15-94</td><td>-</td><td>24.00</td><td>-</td><td>32.00</td><td>-</td><td>28.00</td></tr><tr><td><span class=\"flag\" style=\"background-image:url('gfx/flags-iso/GD.svg');\"></span>Grenada</td><td>Upper-middle income</td><td>2010-2011</td><td>National</td><td class=\"agebox\">25-64</td><td>34.40</td><td>13.90</td><td>32.60</td><td>36.60</td><td>33.50</td><td>25.20</td></tr><tr class=\"selfreport\"><td><span class=\"flag\" style=\"background-image:url('gfx/flags-iso/GP.svg');\"></span>Guadeloupe</td><td></td><td>2019</td><td>National</td><td class=\"agebox\">15+</td><td>36.00</td><td>14.00</td><td>30.00</td><td>23.00</td><td>33.00</td><td>19.00</td></tr><tr><td><span class=\"flag\" style=\"background-image:url('gfx/flags-iso/GT.svg');\"></span>Guatemala</td><td>Upper-middle income</td><td>2017</td><td>National</td><td class=\"agebox\">15-49</td><td>-</td><td>-</td><td>40.00</td><td>26.10</td><td>-</td><td>-</td></tr><tr><td><span class=\"flag\" style=\"background-image:url('gfx/flags-iso/GN.svg');\"></span>Guinea</td><td>Lower-middle income</td><td>2018</td><td>National</td><td class=\"agebox\">15-49</td><td>-</td><td>-</td><td>18.20</td><td>8.40</td><td>-</td><td>-</td></tr><tr><td><span class=\"flag\" style=\"background-image:url('gfx/flags-iso/GY.svg');\"></span>Guyana</td><td>High income</td><td>2016</td><td>National</td><td class=\"agebox\">18-69</td><td>25.80</td><td>14.00</td><td>27.80</td><td>34.00</td><td>26.70</td><td>23.60</td></tr><tr><td><span class=\"flag\" style=\"background-image:url('gfx/flags-iso/HT.svg');\"></span>Haiti</td><td>Lower-middle income</td><td>2016-2017</td><td>National</td><td class=\"agebox\">15-49</td><td>-</td><td>-</td><td>20.50</td><td>11.20</td><td>-</td><td>-</td></tr><tr><td><span class=\"flag\" style=\"background-image:url('gfx/flags-iso/HN.svg');\"></span>Honduras</td><td>Lower-middle income</td><td>2011-2012</td><td>National</td><td class=\"agebox\">15-49</td><td>-</td><td>-</td><td>29.20</td><td>22.10</td><td>-</td><td>-</td></tr><tr><td><span class=\"flag\" style=\"background-image:url('gfx/flags-iso/HK.svg');\"></span>Hong Kong</td><td>High income</td><td>2020-2022</td><td>National</td><td class=\"agebox\">15-84</td><td>30.70</td><td>8.70</td><td>21.20</td><td>5.20</td><td>25.70</td><td>6.90</td></tr><tr class=\"selfreport\"><td><span class=\"flag\" style=\"background-image:url('gfx/flags-iso/HU.svg');\"></span>Hungary</td><td>High income</td><td>2022</td><td>National</td><td class=\"agebox\">16+</td><td>40.10</td><td>24.20</td><td>31.70</td><td>19.60</td><td>35.70</td><td>21.80</td></tr><tr class=\"selfreport\"><td><span class=\"flag\" style=\"background-image:url('gfx/flags-iso/IS.svg');\"></span>Iceland</td><td>High income</td><td>2019</td><td>National</td><td class=\"agebox\">18+</td><td>47.10</td><td>24.30</td><td>33.10</td><td>20.50</td><td>39.70</td><td>22.30</td></tr><tr><td><span class=\"flag\" style=\"background-image:url('gfx/flags-iso/IN.svg');\"></span>India</td><td>Lower-middle income</td><td>2019-2021</td><td>National</td><td class=\"agebox\">15-49</td><td>18.90</td><td>4.00</td><td>17.60</td><td>6.40</td><td>18.30</td><td>5.20</td></tr><tr><td><span class=\"flag\" style=\"background-image:url('gfx/flags-iso/ID.svg');\"></span>Indonesia</td><td>Upper-middle income</td><td>2013</td><td>National</td><td class=\"agebox\">19+</td><td>16.30</td><td>3.00</td><td>24.20</td><td>8.20</td><td>20.20</td><td>5.60</td></tr><tr><td><span class=\"flag\" style=\"background-image:url('gfx/flags-iso/IR.svg');\"></span>Iran</td><td>Upper-middle income</td><td>2021</td><td>National</td><td class=\"agebox\">18+</td><td>39.60</td><td>17.20</td><td>36.80</td><td>31.20</td><td>38.10</td><td>25.00</td></tr><tr><td><span class=\"flag\" style=\"background-image:url('gfx/flags-iso/IQ.svg');\"></span>Iraq</td><td>Upper-middle income</td><td>2015</td><td>National</td><td class=\"agebox\">18+</td><td>33.10</td><td>25.60</td><td>30.60</td><td>42.60</td><td>31.90</td><td>33.50</td></tr><tr class=\"selfreport\"><td><span class=\"flag\" style=\"background-image:url('gfx/flags-iso/IE.svg');\"></span>Ireland</td><td>High income</td><td>2023-2024</td><td>National</td><td class=\"agebox\">15+</td><td>41.00</td><td>22.00</td><td>30.00</td><td>20.00</td><td>35.00</td><td>21.00</td></tr><tr class=\"selfreport\"><td><span class=\"flag\" style=\"background-image:url('gfx/flags-iso/IM.svg');\"></span>Isle of Man</td><td>High income</td><td>2019</td><td>National</td><td class=\"agebox\">18+</td><td>40.60</td><td>31.40</td><td>34.30</td><td>27.70</td><td>36.40</td><td>29.00</td></tr><tr class=\"selfreport\"><td><span class=\"flag\" style=\"background-image:url('gfx/flags-iso/IL.svg');\"></span>Israel</td><td>High income</td><td>2018-2020</td><td>National</td><td class=\"agebox\">21+</td><td>43.00</td><td>18.90</td><td>33.70</td><td>16.60</td><td>38.30</td><td>17.70</td></tr><tr class=\"selfreport\"><td><span class=\"flag\" style=\"background-image:url('gfx/flags-iso/IT.svg');\"></span>Italy</td><td>High income</td><td>2023-2024</td><td>National</td><td class=\"agebox\">18-69</td><td>40.70</td><td>11.20</td><td>24.60</td><td>9.60</td><td>32.60</td><td>10.40</td></tr><tr><td><span class=\"flag\" style=\"background-image:url('gfx/flags-iso/JM.svg');\"></span>Jamaica</td><td>Upper-middle income</td><td>2016-2017</td><td>National</td><td class=\"agebox\">15-75</td><td>24.00</td><td>14.90</td><td>26.40</td><td>41.20</td><td>25.20</td><td>28.60</td></tr><tr><td><span class=\"flag\" style=\"background-image:url('gfx/flags-iso/JP.svg');\"></span>Japan</td><td>High income</td><td>2023</td><td>National</td><td class=\"agebox\">20+</td><td>26.80</td><td>4.70</td><td>16.70</td><td>4.40</td><td>21.40</td><td>4.60</td></tr><tr class=\"selfreport\"><td><span class=\"flag\" style=\"background-image:url('gfx/flags-iso/JE.svg');\"></span>Jersey</td><td></td><td>2021</td><td>National</td><td class=\"agebox\">16+</td><td>40.00</td><td>17.00</td><td>24.00</td><td>19.00</td><td>32.00</td><td>18.00</td></tr><tr><td><span class=\"flag\" style=\"background-image:url('gfx/flags-iso/JO.svg');\"></span>Jordan</td><td>Lower-middle income</td><td>2023</td><td>National</td><td class=\"agebox\">20-49</td><td>-</td><td>-</td><td>32.20</td><td>31.90</td><td>-</td><td>-</td></tr><tr><td><span class=\"flag\" style=\"background-image:url('gfx/flags-iso/JO.svg');\"></span>Jordan</td><td>Lower-middle income</td><td>2017</td><td>National</td><td class=\"agebox\">18-90</td><td>41.20</td><td>36.10</td><td>29.10</td><td>48.20</td><td>44.70</td><td>32.70</td></tr><tr><td><span class=\"flag\" style=\"background-image:url('gfx/flags-iso/KZ.svg');\"></span>Kazakhstan</td><td>Upper-middle income</td><td>2012</td><td>National</td><td class=\"agebox\">15+</td><td>36.80</td><td>15.90</td><td>32.70</td><td>30.60</td><td>34.70</td><td>23.50</td></tr><tr><td><span class=\"flag\" style=\"background-image:url('gfx/flags-iso/KE.svg');\"></span>Kenya</td><td>Lower-middle income</td><td>2022</td><td>National</td><td class=\"agebox\">20-49</td><td>14.60</td><td>4.20</td><td>27.50</td><td>17.30</td><td>21.10</td><td>10.80</td></tr><tr><td><span class=\"flag\" style=\"background-image:url('gfx/flags-iso/KI.svg');\"></span>Kiribati</td><td>Lower-middle income</td><td>2018</td><td>South Tarawa and Butaritari</td><td class=\"agebox\"></td><td>-</td><td>-</td><td>-</td><td>-</td><td>28.60</td><td>56.70</td></tr><tr><td><span class=\"flag\" style=\"background-image:url('gfx/flags-iso/KI.svg');\"></span>Kiribati</td><td>Lower-middle income</td><td>2015-2016</td><td>National</td><td class=\"agebox\">18-69</td><td>44.60</td><td>32.10</td><td>28.70</td><td>55.60</td><td>35.50</td><td>45.60</td></tr><tr><td><span class=\"flag\" style=\"background-image:url('gfx/flags-iso/KW.svg');\"></span>Kuwait</td><td>High income</td><td>2024</td><td>National</td><td class=\"agebox\">19+</td><td>-</td><td>30.25</td><td>-</td><td>35.48</td><td>41.35</td><td>33.80</td></tr><tr><td><span class=\"flag\" style=\"background-image:url('gfx/flags-iso/KG.svg');\"></span>Kyrgyzstan</td><td>Lower-middle income</td><td>2021</td><td>National</td><td class=\"agebox\">15-49</td><td>-</td><td>-</td><td>27.20</td><td>17.00</td><td>-</td><td>-</td></tr><tr><td><span class=\"flag\" style=\"background-image:url('gfx/flags-iso/KG.svg');\"></span>Kyrgyzstan</td><td>Lower-middle income</td><td>2013</td><td>National</td><td class=\"agebox\">25-64</td><td>31.80</td><td>17.60</td><td>34.50</td><td>29.00</td><td>33.10</td><td>23.10</td></tr><tr><td><span class=\"flag\" style=\"background-image:url('gfx/flags-iso/LA.svg');\"></span>Laos</td><td>Lower-middle income</td><td>2013</td><td>National</td><td class=\"agebox\">18-64</td><td>17.90</td><td>3.50</td><td>20.90</td><td>7.10</td><td>19.70</td><td>5.60</td></tr><tr class=\"selfreport\"><td><span class=\"flag\" style=\"background-image:url('gfx/flags-iso/LV.svg');\"></span>Latvia</td><td>High income</td><td>2022</td><td>National</td><td class=\"agebox\">16+</td><td>41.20</td><td>21.30</td><td>32.70</td><td>23.90</td><td>36.40</td><td>22.80</td></tr><tr><td><span class=\"flag\" style=\"background-image:url('gfx/flags-iso/LB.svg');\"></span>Lebanon</td><td>Lower-middle income</td><td>2023</td><td>National</td><td class=\"agebox\">15-49</td><td>-</td><td>-</td><td>28.60</td><td>25.00</td><td>-</td><td>-</td></tr><tr><td><span class=\"flag\" style=\"background-image:url('gfx/flags-iso/LB.svg');\"></span>Lebanon</td><td>Lower-middle income</td><td>2016-2017</td><td>National</td><td class=\"agebox\">18-69</td><td>44.70</td><td>26.60</td><td>31.40</td><td>27.50</td><td>37.90</td><td>27.00</td></tr><tr><td><span class=\"flag\" style=\"background-image:url('gfx/flags-iso/LS.svg');\"></span>Lesotho</td><td>Lower-middle income</td><td>2023-2024</td><td>National</td><td class=\"agebox\">20-49</td><td>15.30</td><td>4.60</td><td>26.50</td><td>35.40</td><td>-</td><td>-</td></tr><tr><td><span class=\"flag\" style=\"background-image:url('gfx/flags-iso/LR.svg');\"></span>Liberia</td><td>Low income</td><td>2022</td><td>National</td><td class=\"agebox\">18-69</td><td>15.80</td><td>17.70</td><td>23.30</td><td>22.20</td><td>19.40</td><td>19.90</td></tr><tr><td><span class=\"flag\" style=\"background-image:url('gfx/flags-iso/LY.svg');\"></span>Libya</td><td>Upper-middle income</td><td>2015</td><td>Benghazi</td><td class=\"agebox\">20-65</td><td>32.40</td><td>33.80</td><td>33.20</td><td>47.40</td><td>32.90</td><td>42.40</td></tr><tr class=\"selfreport\"><td><span class=\"flag\" style=\"background-image:url('gfx/flags-iso/LT.svg');\"></span>Lithuania</td><td>High income</td><td>2022</td><td>National</td><td class=\"agebox\">16+</td><td>43.10</td><td>19.80</td><td>34.20</td><td>20.70</td><td>38.20</td><td>20.30</td></tr><tr class=\"selfreport\"><td><span class=\"flag\" style=\"background-image:url('gfx/flags-iso/LU.svg');\"></span>Luxembourg</td><td>High income</td><td>2022</td><td>National</td><td class=\"agebox\">16+</td><td>40.70</td><td>18.70</td><td>23.50</td><td>14.80</td><td>32.50</td><td>16.90</td></tr><tr><td><span class=\"flag\" style=\"background-image:url('gfx/flags-iso/MG.svg');\"></span>Madagascar</td><td>Low income</td><td>2021</td><td>National</td><td class=\"agebox\">15-49</td><td>-</td><td>-</td><td>11.20</td><td>2.70</td><td>-</td><td>-</td></tr><tr><td><span class=\"flag\" style=\"background-image:url('gfx/flags-iso/MW.svg');\"></span>Malawi</td><td>Low income</td><td>2016</td><td>Regional</td><td class=\"agebox\">18+</td><td>11.00</td><td>2.00</td><td>22.00</td><td>13.00</td><td>16.60</td><td>7.60</td></tr><tr><td><span class=\"flag\" style=\"background-image:url('gfx/flags-iso/MY.svg');\"></span>Malaysia</td><td>Upper-middle income</td><td>2023</td><td>National</td><td class=\"agebox\">18+</td><td>34.50</td><td>17.90</td><td>30.70</td><td>26.00</td><td>32.60</td><td>21.80</td></tr><tr><td><span class=\"flag\" style=\"background-image:url('gfx/flags-iso/MV.svg');\"></span>Maldives</td><td>Upper-middle income</td><td>2020-2021</td><td>National</td><td class=\"agebox\">15-69</td><td>32.40</td><td>14.10</td><td>36.50</td><td>22.80</td><td>34.30</td><td>18.10</td></tr><tr><td><span class=\"flag\" style=\"background-image:url('gfx/flags-iso/ML.svg');\"></span>Mali</td><td>Low income</td><td>2018</td><td>National</td><td class=\"agebox\">15-49</td><td>-</td><td>-</td><td>19.00</td><td>8.70</td><td>-</td><td>-</td></tr><tr class=\"selfreport\"><td><span class=\"flag\" style=\"background-image:url('gfx/flags-iso/MT.svg');\"></span>Malta</td><td>High income</td><td>2022</td><td>National</td><td class=\"agebox\">16+</td><td>40.70</td><td>28.70</td><td>31.20</td><td>22.70</td><td>36.10</td><td>25.80</td></tr><tr><td><span class=\"flag\" style=\"background-image:url('gfx/flags-iso/MH.svg');\"></span>Marshall Islands</td><td>Upper-middle income</td><td>2023</td><td>National</td><td class=\"agebox\"></td><td>-</td><td>-</td><td>-</td><td>-</td><td>29.50</td><td>43.40</td></tr><tr><td><span class=\"flag\" style=\"background-image:url('gfx/flags-iso/MH.svg');\"></span>Marshall Islands</td><td>Upper-middle income</td><td>2016-2017</td><td>National</td><td class=\"agebox\">15-49</td><td>-</td><td>-</td><td>27.60</td><td>45.10</td><td>-</td><td>-</td></tr><tr><td><span class=\"flag\" style=\"background-image:url('gfx/flags-iso/MH.svg');\"></span>Marshall Islands</td><td>Upper-middle income</td><td>2002</td><td>National</td><td class=\"agebox\">15-64</td><td>33.20</td><td>26.60</td><td>28.30</td><td>37.10</td><td>30.90</td><td>31.60</td></tr><tr class=\"selfreport\"><td><span class=\"flag\" style=\"background-image:url('gfx/flags-iso/MQ.svg');\"></span>Martinique</td><td></td><td>2019</td><td>National</td><td class=\"agebox\">15+</td><td>36.00</td><td>13.00</td><td>32.00</td><td>25.00</td><td>34.00</td><td>20.00</td></tr><tr><td><span class=\"flag\" style=\"background-image:url('gfx/flags-iso/MR.svg');\"></span>Mauritania</td><td>Lower-middle income</td><td>2019-2021</td><td>National</td><td class=\"agebox\">15-49</td><td>-</td><td>-</td><td>26.90</td><td>26.90</td><td>-</td><td>-</td></tr><tr><td><span class=\"flag\" style=\"background-image:url('gfx/flags-iso/MR.svg');\"></span>Mauritania</td><td>Lower-middle income</td><td>2006</td><td>Regional</td><td class=\"agebox\">15-64</td><td>23.20</td><td>8.60</td><td>27.90</td><td>31.50</td><td>25.70</td><td>20.90</td></tr><tr><td><span class=\"flag\" style=\"background-image:url('gfx/flags-iso/MU.svg');\"></span>Mauritius</td><td>Upper-middle income</td><td>2015</td><td>National</td><td class=\"agebox\">18+</td><td>38.30</td><td>11.10</td><td>32.60</td><td>25.80</td><td>35.20</td><td>19.10</td></tr><tr><td><span class=\"flag\" style=\"background-image:url('gfx/flags-iso/YT.svg');\"></span>Mayotte</td><td></td><td>2019</td><td>National</td><td class=\"agebox\">15+</td><td>30.00</td><td>16.00</td><td>26.00</td><td>34.00</td><td>28.00</td><td>26.00</td></tr><tr><td><span class=\"flag\" style=\"background-image:url('gfx/flags-iso/MX.svg');\"></span>Mexico</td><td>Upper-middle income</td><td>2023</td><td>National</td><td class=\"agebox\">20+</td><td>40.10</td><td>36.10</td><td>34.60</td><td>41.60</td><td>37.30</td><td>38.90</td></tr><tr><td><span class=\"flag\" style=\"background-image:url('gfx/flags-iso/MD.svg');\"></span>Moldova</td><td>Upper-middle income</td><td>2021</td><td>National</td><td class=\"agebox\">18-69</td><td>49.40</td><td>21.40</td><td>33.00</td><td>24.00</td><td>41.20</td><td>22.70</td></tr><tr><td><span class=\"flag\" style=\"background-image:url('gfx/flags-iso/MN.svg');\"></span>Mongolia</td><td>Upper-middle income</td><td>2019</td><td>National</td><td class=\"agebox\">15-69</td><td>31.40</td><td>16.60</td><td>30.50</td><td>20.40</td><td>30.90</td><td>18.50</td></tr><tr class=\"selfreport\"><td><span class=\"flag\" style=\"background-image:url('gfx/flags-iso/ME.svg');\"></span>Montenegro</td><td>Upper-middle income</td><td>2022</td><td>National</td><td class=\"agebox\">16+</td><td>50.70</td><td>9.30</td><td>28.60</td><td>6.00</td><td>39.40</td><td>7.60</td></tr><tr><td><span class=\"flag\" style=\"background-image:url('gfx/flags-iso/MA.svg');\"></span>Morocco</td><td>Lower-middle income</td><td>2017-2018</td><td>National</td><td class=\"agebox\">18+</td><td>31.60</td><td>11.00</td><td>34.40</td><td>29.00</td><td>33.00</td><td>20.00</td></tr><tr><td><span class=\"flag\" style=\"background-image:url('gfx/flags-iso/MZ.svg');\"></span>Mozambique</td><td>Low income</td><td>2022-2023</td><td>National</td><td class=\"agebox\">20-49</td><td>-</td><td>-</td><td>17.80</td><td>9.90</td><td>-</td><td>-</td></tr><tr><td><span class=\"flag\" style=\"background-image:url('gfx/flags-iso/MZ.svg');\"></span>Mozambique</td><td>Low income</td><td>2014</td><td></td><td class=\"agebox\">25-64</td><td>13.20</td><td>5.00</td><td>17.50</td><td>13.00</td><td>15.40</td><td>9.10</td></tr><tr><td><span class=\"flag\" style=\"background-image:url('gfx/flags-iso/MM.svg');\"></span>Myanmar</td><td>Lower-middle income</td><td>2017-2018</td><td>National</td><td class=\"agebox\">15-49</td><td>11.40</td><td>2.00</td><td>22.90</td><td>7.30</td><td>-</td><td>-</td></tr><tr><td><span class=\"flag\" style=\"background-image:url('gfx/flags-iso/NA.svg');\"></span>Namibia</td><td>Lower-middle income</td><td>2013</td><td>National</td><td class=\"agebox\">15-49</td><td>8.10</td><td>3.40</td><td>18.30</td><td>13.20</td><td>13.30</td><td>8.40</td></tr><tr><td><span class=\"flag\" style=\"background-image:url('gfx/flags-iso/NR.svg');\"></span>Nauru</td><td>High income</td><td>2023</td><td>National</td><td class=\"agebox\">15-49</td><td>-</td><td>-</td><td>16.10</td><td>60.60</td><td>-</td><td>-</td></tr><tr><td><span class=\"flag\" style=\"background-image:url('gfx/flags-iso/NR.svg');\"></span>Nauru</td><td>High income</td><td>2004</td><td>National</td><td class=\"agebox\">15-64</td><td>26.50</td><td>55.70</td><td>21.80</td><td>60.50</td><td>24.10</td><td>58.10</td></tr><tr><td><span class=\"flag\" style=\"background-image:url('gfx/flags-iso/NP.svg');\"></span>Nepal</td><td>Lower-middle income</td><td>2022</td><td>National</td><td class=\"agebox\">20-49</td><td>26.20</td><td>5.90</td><td>26.00</td><td>8.40</td><td>26.10</td><td>7.20</td></tr><tr class=\"selfreport\"><td><span class=\"flag\" style=\"background-image:url('gfx/flags-iso/NL.svg');\"></span>Netherlands</td><td>High income</td><td>2024</td><td>National</td><td class=\"agebox\">20+</td><td>39.70</td><td>14.90</td><td>30.70</td><td>17.10</td><td>35.10</td><td>16.00</td></tr><tr><td><span class=\"flag\" style=\"background-image:url('gfx/flags-iso/NC.svg');\"></span>New Caledonia</td><td>High income</td><td>2021</td><td>National</td><td class=\"agebox\">18-64</td><td>33.00</td><td>34.00</td><td>23.00</td><td>42.00</td><td>28.10</td><td>38.40</td></tr><tr><td><span class=\"flag\" style=\"background-image:url('gfx/flags-iso/NZ.svg');\"></span>New Zealand</td><td>High income</td><td>2023-2024</td><td>National</td><td class=\"agebox\">15+</td><td>38.20</td><td>32.70</td><td>28.10</td><td>34.90</td><td>33.10</td><td>33.80</td></tr><tr><td><span class=\"flag\" style=\"background-image:url('gfx/flags-iso/NI.svg');\"></span>Nicaragua</td><td>Lower-middle income</td><td>2007-2009</td><td>Regional</td><td class=\"agebox\">20-60</td><td>30.90</td><td>11.90</td><td>34.70</td><td>29.80</td><td>33.10</td><td>22.00</td></tr><tr><td><span class=\"flag\" style=\"background-image:url('gfx/flags-iso/NE.svg');\"></span>Niger</td><td>Low income</td><td>2021</td><td>National</td><td class=\"agebox\">18-69</td><td>7.70</td><td>3.90</td><td>12.50</td><td>6.30</td><td>9.80</td><td>4.90</td></tr><tr><td><span class=\"flag\" style=\"background-image:url('gfx/flags-iso/NG.svg');\"></span>Nigeria</td><td>Lower-middle income</td><td>2018</td><td>National</td><td class=\"agebox\">15-49</td><td>-</td><td>-</td><td>18.20</td><td>9.90</td><td>-</td><td>-</td></tr><tr><td><span class=\"flag\" style=\"background-image:url('gfx/flags-iso/NG.svg');\"></span>Nigeria</td><td>Lower-middle income</td><td>1991-1994</td><td></td><td class=\"agebox\">20+</td><td>-</td><td>6.50</td><td>-</td><td>9.10</td><td>-</td><td>7.80</td></tr><tr><td><span class=\"flag\" style=\"background-image:url('gfx/flags-iso/NU.svg');\"></span>Niue</td><td></td><td>2011-2012</td><td>National</td><td class=\"agebox\">15+</td><td>25.80</td><td>59.20</td><td>24.10</td><td>62.70</td><td>24.90</td><td>61.00</td></tr><tr class=\"selfreport\"><td><span class=\"flag\" style=\"background-image:url('gfx/flags-iso/MK.svg');\"></span>North Macedonia</td><td>Upper-middle income</td><td>2017</td><td>National</td><td class=\"agebox\">18+</td><td>53.30</td><td>11.10</td><td>37.20</td><td>9.90</td><td>45.20</td><td>10.50</td></tr><tr><td><span class=\"flag\" style=\"background-image:url('gfx/flags-iso/GB-NIR.svg');\"></span>Northern Ireland</td><td></td><td>2019-2020</td><td>National</td><td class=\"agebox\">16+</td><td>43.30</td><td>27.80</td><td>32.60</td><td>27.10</td><td>38.00</td><td>27.30</td></tr><tr><td><span class=\"flag\" style=\"background-image:url('gfx/flags-iso/MP.svg');\"></span>Northern Mariana Islands</td><td>High income</td><td>2023</td><td>National</td><td class=\"agebox\"></td><td>-</td><td>-</td><td>-</td><td>-</td><td>31.00</td><td>41.00</td></tr><tr class=\"selfreport\"><td><span class=\"flag\" style=\"background-image:url('gfx/flags-iso/NO.svg');\"></span>Norway</td><td>High income</td><td>2022</td><td>National</td><td class=\"agebox\">16+</td><td>41.40</td><td>18.10</td><td>30.60</td><td>14.90</td><td>36.30</td><td>16.60</td></tr><tr><td><span class=\"flag\" style=\"background-image:url('gfx/flags-iso/OM.svg');\"></span>Oman</td><td>High income</td><td>2017</td><td>National</td><td class=\"agebox\">18+</td><td>40.10</td><td>23.20</td><td>30.00</td><td>39.30</td><td>35.50</td><td>30.70</td></tr><tr><td><span class=\"flag\" style=\"background-image:url('gfx/flags-iso/PK.svg');\"></span>Pakistan</td><td>Lower-middle income</td><td>2018</td><td>National</td><td class=\"agebox\">15-49</td><td>-</td><td>-</td><td>24.20</td><td>13.90</td><td>-</td><td>-</td></tr><tr><td><span class=\"flag\" style=\"background-image:url('gfx/flags-iso/PK.svg');\"></span>Pakistan</td><td>Lower-middle income</td><td>2013-2014</td><td>Regional</td><td class=\"agebox\">18-69</td><td>26.50</td><td>12.10</td><td>26.10</td><td>17.10</td><td>26.40</td><td>14.90</td></tr><tr><td><span class=\"flag\" style=\"background-image:url('gfx/flags-iso/PW.svg');\"></span>Palau</td><td>High income</td><td>2023</td><td>National</td><td class=\"agebox\"></td><td>-</td><td>-</td><td>-</td><td>-</td><td>33.20</td><td>42.40</td></tr><tr><td><span class=\"flag\" style=\"background-image:url('gfx/flags-iso/PW.svg');\"></span>Palau</td><td>High income</td><td>2011-2013</td><td>National</td><td class=\"agebox\">25-64</td><td>35.10</td><td>40.30</td><td>30.60</td><td>45.40</td><td>32.90</td><td>42.90</td></tr><tr><td><span class=\"flag\" style=\"background-image:url('gfx/flags-iso/PS.svg');\"></span>Palestine</td><td>Lower-middle income</td><td>2022</td><td>National</td><td class=\"agebox\">18-69</td><td>31.40</td><td>24.70</td><td>28.10</td><td>38.80</td><td>29.80</td><td>31.60</td></tr><tr><td><span class=\"flag\" style=\"background-image:url('gfx/flags-iso/PA.svg');\"></span>Panama</td><td>High income</td><td>2019</td><td>National</td><td class=\"agebox\">18+</td><td>39.60</td><td>27.70</td><td>33.30</td><td>42.30</td><td>36.40</td><td>36.30</td></tr><tr><td><span class=\"flag\" style=\"background-image:url('gfx/flags-iso/PG.svg');\"></span>Papua New Guinea</td><td>Lower-middle income</td><td>2007-2008</td><td>National</td><td class=\"agebox\">15-64</td><td>25.20</td><td>5.10</td><td>25.20</td><td>8.70</td><td>25.30</td><td>6.80</td></tr><tr><td><span class=\"flag\" style=\"background-image:url('gfx/flags-iso/PY.svg');\"></span>Paraguay</td><td>Upper-middle income</td><td>2011</td><td>National</td><td class=\"agebox\">15-74</td><td>35.30</td><td>19.90</td><td>34.40</td><td>26.60</td><td>34.80</td><td>23.20</td></tr><tr><td><span class=\"flag\" style=\"background-image:url('gfx/flags-iso/PE.svg');\"></span>Peru</td><td>Upper-middle income</td><td>2022</td><td>National</td><td class=\"agebox\">15-49</td><td>-</td><td>-</td><td>36.80</td><td>28.20</td><td>-</td><td>-</td></tr><tr><td><span class=\"flag\" style=\"background-image:url('gfx/flags-iso/PE.svg');\"></span>Peru</td><td>Upper-middle income</td><td>2017-2018</td><td>National</td><td class=\"agebox\">18-59</td><td>39.10</td><td>21.30</td><td>38.30</td><td>29.40</td><td>38.70</td><td>26.00</td></tr><tr><td><span class=\"flag\" style=\"background-image:url('gfx/flags-iso/PH.svg');\"></span>Philippines</td><td>Lower-middle income</td><td>2021-2022</td><td>National</td><td class=\"agebox\">20-59</td><td>28.30</td><td>7.30</td><td>31.70</td><td>12.20</td><td>30.20</td><td>10.00</td></tr><tr class=\"selfreport\"><td><span class=\"flag\" style=\"background-image:url('gfx/flags-iso/PL.svg');\"></span>Poland</td><td>High income</td><td>2025</td><td>National</td><td class=\"agebox\">20+</td><td>48.80</td><td>15.30</td><td>35.70</td><td>12.60</td><td>41.90</td><td>13.90</td></tr><tr class=\"selfreport\"><td><span class=\"flag\" style=\"background-image:url('gfx/flags-iso/PT.svg');\"></span>Portugal</td><td>High income</td><td>2022</td><td>National</td><td class=\"agebox\">16+</td><td>42.20</td><td>15.70</td><td>31.80</td><td>15.40</td><td>36.70</td><td>15.60</td></tr><tr class=\"selfreport\"><td><span class=\"flag\" style=\"background-image:url('gfx/flags-iso/PR.svg');\"></span>Puerto Rico</td><td>High income</td><td>2023</td><td>National</td><td class=\"agebox\"></td><td>-</td><td>-</td><td>-</td><td>-</td><td>-</td><td>36.60</td></tr><tr><td><span class=\"flag\" style=\"background-image:url('gfx/flags-iso/QA.svg');\"></span>Qatar</td><td>High income</td><td>2023</td><td>National</td><td class=\"agebox\">18-69</td><td>41.90</td><td>30.40</td><td>32.30</td><td>36.70</td><td>37.30</td><td>33.40</td></tr><tr class=\"selfreport\"><td><span class=\"flag\" style=\"background-image:url('gfx/flags-iso/RE.svg');\"></span>Reunion</td><td></td><td>2019</td><td>National</td><td class=\"agebox\">15+</td><td>30.00</td><td>12.00</td><td>27.00</td><td>20.00</td><td>28.00</td><td>16.00</td></tr><tr class=\"selfreport\"><td><span class=\"flag\" style=\"background-image:url('gfx/flags-iso/RO.svg');\"></span>Romania</td><td>High income</td><td>2022</td><td>National</td><td class=\"agebox\">16+</td><td>57.10</td><td>10.20</td><td>41.00</td><td>10.10</td><td>48.80</td><td>10.10</td></tr><tr><td><span class=\"flag\" style=\"background-image:url('gfx/flags-iso/RU.svg');\"></span>Russian Federation</td><td>High income</td><td>2020-2022</td><td>National (15 regions)</td><td class=\"agebox\">35-74</td><td>44.00</td><td>30.00</td><td>33.70</td><td>39.50</td><td>38.40</td><td>35.20</td></tr><tr><td><span class=\"flag\" style=\"background-image:url('gfx/flags-iso/RW.svg');\"></span>Rwanda</td><td>Low income</td><td>2021-2022</td><td>National</td><td class=\"agebox\">18-69</td><td>10.20</td><td>1.30</td><td>18.60</td><td>7.40</td><td>14.30</td><td>4.30</td></tr><tr><td><span class=\"flag\" style=\"background-image:url('gfx/flags-iso/KN.svg');\"></span>Saint Kitts and Nevis</td><td>High income</td><td>2007-2008</td><td>National</td><td class=\"agebox\">25-64</td><td>36.20</td><td>37.90</td><td>30.50</td><td>52.50</td><td>33.50</td><td>45.00</td></tr><tr><td><span class=\"flag\" style=\"background-image:url('gfx/flags-iso/LC.svg');\"></span>Saint Lucia</td><td>Upper-middle income</td><td>2019-2020</td><td>National</td><td class=\"agebox\">18-69</td><td>29.40</td><td>20.60</td><td>30.70</td><td>46.10</td><td>30.10</td><td>34.90</td></tr><tr><td><span class=\"flag\" style=\"background-image:url('gfx/flags-iso/VC.svg');\"></span>Saint Vincent and the Grenadines</td><td>Upper-middle income</td><td>2013-2014</td><td>National</td><td class=\"agebox\">18-69</td><td>41.30</td><td>13.20</td><td>67.20</td><td>40.80</td><td>54.20</td><td>26.90</td></tr><tr><td><span class=\"flag\" style=\"background-image:url('gfx/flags-iso/WS.svg');\"></span>Samoa</td><td>Upper-middle income</td><td>2019-2020</td><td>National</td><td class=\"agebox\">15-49</td><td>-</td><td>-</td><td>18.50</td><td>66.90</td><td>-</td><td>-</td></tr><tr><td><span class=\"flag\" style=\"background-image:url('gfx/flags-iso/WS.svg');\"></span>Samoa</td><td>Upper-middle income</td><td>2013</td><td>National</td><td class=\"agebox\">18-64</td><td>35.00</td><td>44.80</td><td>21.80</td><td>68.60</td><td>28.90</td><td>55.80</td></tr><tr><td><span class=\"flag\" style=\"background-image:url('gfx/flags-iso/ST.svg');\"></span>Sao Tome and Principe</td><td>Lower-middle income</td><td>2008</td><td>National</td><td class=\"agebox\">25-64</td><td>21.40</td><td>6.60</td><td>25.10</td><td>16.50</td><td>23.30</td><td>11.70</td></tr><tr class=\"selfreport\"><td><span class=\"flag\" style=\"background-image:url('gfx/flags-iso/SA.svg');\"></span>Saudi Arabia</td><td>High income</td><td>2024</td><td>National</td><td class=\"agebox\">15+</td><td>46.30</td><td>22.80</td><td>42.60</td><td>23.50</td><td>45.10</td><td>23.10</td></tr><tr class=\"selfreport\"><td><span class=\"flag\" style=\"background-image:url('gfx/flags-iso/GB-SCT.svg');\"></span>Scotland</td><td></td><td>2023</td><td>National</td><td class=\"agebox\">16+</td><td>37.00</td><td>30.00</td><td>31.00</td><td>34.00</td><td>34.00</td><td>32.00</td></tr><tr><td><span class=\"flag\" style=\"background-image:url('gfx/flags-iso/SN.svg');\"></span>Senegal</td><td>Lower-middle income</td><td>2015</td><td>National</td><td class=\"agebox\"></td><td>-</td><td>-</td><td>-</td><td>-</td><td>15.80</td><td>6.40</td></tr><tr><td><span class=\"flag\" style=\"background-image:url('gfx/flags-iso/SN.svg');\"></span>Senegal</td><td>Lower-middle income</td><td>2010-2011</td><td>National</td><td class=\"agebox\">15-49</td><td>6.10</td><td>1.00</td><td>15.50</td><td>5.80</td><td>10.90</td><td>3.50</td></tr><tr class=\"selfreport\"><td><span class=\"flag\" style=\"background-image:url('gfx/flags-iso/RS.svg');\"></span>Serbia</td><td>Upper-middle income</td><td>2022</td><td>National</td><td class=\"agebox\">16+</td><td>50.00</td><td>13.70</td><td>31.10</td><td>9.30</td><td>40.30</td><td>11.50</td></tr><tr><td><span class=\"flag\" style=\"background-image:url('gfx/flags-iso/SC.svg');\"></span>Seychelles</td><td>High income</td><td>2023</td><td>National</td><td class=\"agebox\">18-74</td><td>32.60</td><td>27.20</td><td>28.90</td><td>48.60</td><td>31.00</td><td>38.00</td></tr><tr><td><span class=\"flag\" style=\"background-image:url('gfx/flags-iso/SL.svg');\"></span>Sierra Leone</td><td>Low income</td><td>2021</td><td>National</td><td class=\"agebox\">15-49</td><td>-</td><td>-</td><td>27.80</td><td>13.10</td><td>-</td><td>-</td></tr><tr><td><span class=\"flag\" style=\"background-image:url('gfx/flags-iso/SL.svg');\"></span>Sierra Leone</td><td>Low income</td><td>2013</td><td>National</td><td class=\"agebox\">15-49</td><td>6.70</td><td>1.50</td><td>13.40</td><td>5.00</td><td>10.10</td><td>3.30</td></tr><tr><td><span class=\"flag\" style=\"background-image:url('gfx/flags-iso/SG.svg');\"></span>Singapore</td><td>High income</td><td>2021-2022</td><td>National</td><td class=\"agebox\">18-74</td><td>33.40</td><td>13.10</td><td>23.90</td><td>10.20</td><td>28.60</td><td>11.60</td></tr><tr class=\"selfreport\"><td><span class=\"flag\" style=\"background-image:url('gfx/flags-iso/SK.svg');\"></span>Slovakia</td><td>High income</td><td>2022</td><td>National</td><td class=\"agebox\">16+</td><td>50.40</td><td>19.00</td><td>31.60</td><td>14.70</td><td>40.70</td><td>16.80</td></tr><tr class=\"selfreport\"><td><span class=\"flag\" style=\"background-image:url('gfx/flags-iso/SI.svg');\"></span>Slovenia</td><td>High income</td><td>2022</td><td>National</td><td class=\"agebox\">16+</td><td>43.60</td><td>21.80</td><td>32.30</td><td>14.20</td><td>37.70</td><td>17.80</td></tr><tr><td><span class=\"flag\" style=\"background-image:url('gfx/flags-iso/SB.svg');\"></span>Solomon Islands</td><td>Lower-middle income</td><td>2015</td><td>National</td><td class=\"agebox\">15-49</td><td>25.50</td><td>8.80</td><td>29.50</td><td>17.90</td><td>27.50</td><td>13.10</td></tr><tr><td><span class=\"flag\" style=\"background-image:url('gfx/flags-iso/SO.svg');\"></span>Somalia</td><td>Low income</td><td>2019</td><td>National</td><td class=\"agebox\">15-49</td><td>-</td><td>-</td><td>24.40</td><td>15.10</td><td>-</td><td>-</td></tr><tr><td><span class=\"flag\" style=\"background-image:url('gfx/flags-iso/ZA.svg');\"></span>South Africa</td><td>Upper-middle income</td><td>2021-2022</td><td>National</td><td class=\"agebox\">18+</td><td>22.90</td><td>15.30</td><td>26.60</td><td>41.30</td><td>25.30</td><td>32.10</td></tr><tr><td><span class=\"flag\" style=\"background-image:url('gfx/flags-iso/KR.svg');\"></span>South Korea</td><td>High income</td><td>2022</td><td>National</td><td class=\"agebox\">20+</td><td>40.50</td><td>8.63</td><td>23.50</td><td>5.71</td><td>32.30</td><td>7.28</td></tr><tr class=\"selfreport\"><td><span class=\"flag\" style=\"background-image:url('gfx/flags-iso/ES.svg');\"></span>Spain</td><td>High income</td><td>2023-2024</td><td>National</td><td class=\"agebox\">18+</td><td>47.00</td><td>15.20</td><td>32.90</td><td>15.10</td><td>39.80</td><td>15.20</td></tr><tr><td><span class=\"flag\" style=\"background-image:url('gfx/flags-iso/LK.svg');\"></span>Sri Lanka</td><td>Lower-middle income</td><td>2022</td><td>National</td><td class=\"agebox\">18-60</td><td>25.60</td><td>6.40</td><td>29.60</td><td>12.60</td><td>27.70</td><td>9.60</td></tr><tr><td><span class=\"flag\" style=\"background-image:url('gfx/flags-iso/SD.svg');\"></span>Sudan</td><td>Low income</td><td>2016</td><td>National</td><td class=\"agebox\">18-69</td><td>15.90</td><td>6.70</td><td>20.70</td><td>14.90</td><td>17.90</td><td>10.30</td></tr><tr class=\"selfreport\"><td><span class=\"flag\" style=\"background-image:url('gfx/flags-iso/SR.svg');\"></span>Suriname</td><td>Upper-middle income</td><td>2016-2017</td><td>National</td><td class=\"agebox\">20+</td><td>38.50</td><td>17.00</td><td>33.30</td><td>27.00</td><td>-</td><td>-</td></tr><tr class=\"selfreport\"><td><span class=\"flag\" style=\"background-image:url('gfx/flags-iso/SE.svg');\"></span>Sweden</td><td>High income</td><td>2024</td><td>National</td><td class=\"agebox\">16-84</td><td>40.60</td><td>18.00</td><td>29.90</td><td>18.40</td><td>35.30</td><td>18.20</td></tr><tr class=\"selfreport\"><td><span class=\"flag\" style=\"background-image:url('gfx/flags-iso/CH.svg');\"></span>Switzerland</td><td>High income</td><td>2022</td><td>National</td><td class=\"agebox\">16+</td><td>39.80</td><td>14.70</td><td>24.00</td><td>12.10</td><td>31.80</td><td>13.40</td></tr><tr><td><span class=\"flag\" style=\"background-image:url('gfx/flags-iso/SY.svg');\"></span>Syrian Arab Republic</td><td>Low income</td><td>2003</td><td>National</td><td class=\"agebox\">20-65</td><td>37.30</td><td>15.50</td><td>31.10</td><td>22.50</td><td>34.20</td><td>18.90</td></tr><tr><td><span class=\"flag\" style=\"background-image:url('gfx/flags-iso/TW.svg');\"></span>Taiwan</td><td>High income</td><td>2013-2014</td><td>National</td><td class=\"agebox\"></td><td>-</td><td>-</td><td>-</td><td>-</td><td>-</td><td>8.20</td></tr><tr><td><span class=\"flag\" style=\"background-image:url('gfx/flags-iso/TW.svg');\"></span>Taiwan</td><td>High income</td><td>2003-2006</td><td>National</td><td class=\"agebox\">19+</td><td>-</td><td>6.10</td><td>-</td><td>6.40</td><td>-</td><td>6.20</td></tr><tr><td><span class=\"flag\" style=\"background-image:url('gfx/flags-iso/TJ.svg');\"></span>Tajikistan</td><td>Lower-middle income</td><td>2023</td><td>National</td><td class=\"agebox\">20-49</td><td>-</td><td>-</td><td>30.70</td><td>18.70</td><td>-</td><td>-</td></tr><tr><td><span class=\"flag\" style=\"background-image:url('gfx/flags-iso/TJ.svg');\"></span>Tajikistan</td><td>Lower-middle income</td><td>2016-2017</td><td>National</td><td class=\"agebox\">18-69</td><td>37.80</td><td>11.90</td><td>27.80</td><td>15.40</td><td>33.20</td><td>13.50</td></tr><tr><td><span class=\"flag\" style=\"background-image:url('gfx/flags-iso/TZ.svg');\"></span>Tanzania</td><td>Lower-middle income</td><td>2022</td><td>National</td><td class=\"agebox\">20-49</td><td>13.30</td><td>3.40</td><td>21.80</td><td>14.00</td><td>-</td><td>-</td></tr><tr><td><span class=\"flag\" style=\"background-image:url('gfx/flags-iso/TH.svg');\"></span>Thailand</td><td>Upper-middle income</td><td>2019-2020</td><td>National</td><td class=\"agebox\">15+</td><td>27.80</td><td>10.00</td><td>30.00</td><td>16.40</td><td>28.90</td><td>13.30</td></tr><tr><td><span class=\"flag\" style=\"background-image:url('gfx/flags-iso/TL.svg');\"></span>Timor-Leste</td><td>Lower-middle income</td><td>2016</td><td>National</td><td class=\"agebox\">15-49</td><td>8.30</td><td>1.50</td><td>5.30</td><td>0.70</td><td>6.80</td><td>1.10</td></tr><tr><td><span class=\"flag\" style=\"background-image:url('gfx/flags-iso/TG.svg');\"></span>Togo</td><td>Low income</td><td>2013-2014</td><td>National</td><td class=\"agebox\">15-49</td><td>-</td><td>-</td><td>19.40</td><td>11.10</td><td>-</td><td>-</td></tr><tr><td><span class=\"flag\" style=\"background-image:url('gfx/flags-iso/TG.svg');\"></span>Togo</td><td>Low income</td><td>2010</td><td>National</td><td class=\"agebox\">15-64</td><td>12.00</td><td>2.30</td><td>18.60</td><td>9.60</td><td>15.30</td><td>6.20</td></tr><tr><td><span class=\"flag\" style=\"background-image:url('gfx/flags-iso/TK.svg');\"></span>Tokelau</td><td></td><td>2005</td><td>National</td><td class=\"agebox\">15-64</td><td>24.30</td><td>58.60</td><td>21.50</td><td>67.80</td><td>22.80</td><td>63.40</td></tr><tr><td><span class=\"flag\" style=\"background-image:url('gfx/flags-iso/TO.svg');\"></span>Tonga</td><td>Upper-middle income</td><td>2017</td><td>National</td><td class=\"agebox\">18-69</td><td>22.80</td><td>66.80</td><td>12.30</td><td>82.80</td><td>16.10</td><td>77.10</td></tr><tr><td><span class=\"flag\" style=\"background-image:url('gfx/flags-iso/TT.svg');\"></span>Trinidad and Tobago</td><td>High income</td><td>2024</td><td>National</td><td class=\"agebox\">18-69</td><td>29.30</td><td>24.90</td><td>28.40</td><td>39.30</td><td>28.90</td><td>31.60</td></tr><tr><td><span class=\"flag\" style=\"background-image:url('gfx/flags-iso/TN.svg');\"></span>Tunisia</td><td>Lower-middle income</td><td>1997</td><td>National</td><td class=\"agebox\">20-60</td><td>23.30</td><td>6.70</td><td>28.20</td><td>22.70</td><td>-</td><td>-</td></tr><tr><td><span class=\"flag\" style=\"background-image:url('gfx/flags-iso/TR.svg');\"></span>Turkey</td><td>Upper-middle income</td><td>2023</td><td>National</td><td class=\"agebox\">15+</td><td>41.30</td><td>20.00</td><td>29.70</td><td>30.80</td><td>35.50</td><td>25.40</td></tr><tr><td><span class=\"flag\" style=\"background-image:url('gfx/flags-iso/TM.svg');\"></span>Turkmenistan</td><td>Upper-middle income</td><td>2018</td><td>National</td><td class=\"agebox\">18-69</td><td>38.40</td><td>12.70</td><td>27.90</td><td>17.50</td><td>33.40</td><td>15.00</td></tr><tr><td><span class=\"flag\" style=\"background-image:url('gfx/flags-iso/TV.svg');\"></span>Tuvalu</td><td>Upper-middle income</td><td>2015</td><td>National</td><td class=\"agebox\">18-69</td><td>27.00</td><td>70.70</td><td>18.50</td><td>55.20</td><td>23.20</td><td>62.20</td></tr><tr><td><span class=\"flag\" style=\"background-image:url('gfx/flags-iso/UG.svg');\"></span>Uganda</td><td>Low income</td><td>2023</td><td>National</td><td class=\"agebox\">18-69</td><td>10.70</td><td>6.20</td><td>18.40</td><td>12.30</td><td>14.60</td><td>9.30</td></tr><tr><td><span class=\"flag\" style=\"background-image:url('gfx/flags-iso/UA.svg');\"></span>Ukraine</td><td>Upper-middle income</td><td>2019</td><td>National</td><td class=\"agebox\">18-69</td><td>37.80</td><td>20.10</td><td>30.40</td><td>29.80</td><td>34.30</td><td>24.80</td></tr><tr><td><span class=\"flag\" style=\"background-image:url('gfx/flags-iso/AE.svg');\"></span>United Arab Emirates</td><td>High income</td><td>2017-2018</td><td>National</td><td class=\"agebox\">18-69</td><td>45.70</td><td>25.10</td><td>34.30</td><td>30.60</td><td>40.10</td><td>27.80</td></tr><tr class=\"selfreport\"><td><span class=\"flag\" style=\"background-image:url('gfx/flags-iso/GB.svg');\"></span>United Kingdom</td><td>High income</td><td>2014</td><td>National</td><td class=\"agebox\">18+</td><td>40.50</td><td>19.80</td><td>31.40</td><td>20.40</td><td>35.60</td><td>20.10</td></tr><tr><td><span class=\"flag\" style=\"background-image:url('gfx/flags-iso/US.svg');\"></span>United States</td><td>High income</td><td>2021-2023</td><td>National</td><td class=\"agebox\">20+</td><td>36.20</td><td>38.40</td><td>28.60</td><td>41.30</td><td>32.10</td><td>40.30</td></tr><tr><td><span class=\"flag\" style=\"background-image:url('gfx/flags-iso/UY.svg');\"></span>Uruguay</td><td>High income</td><td>2013-2014</td><td>National</td><td class=\"agebox\">15-64</td><td>38.60</td><td>22.10</td><td>31.30</td><td>25.10</td><td>34.80</td><td>23.70</td></tr><tr><td><span class=\"flag\" style=\"background-image:url('gfx/flags-iso/UZ.svg');\"></span>Uzbekistan</td><td>Lower-middle income</td><td>2017</td><td>National</td><td class=\"agebox\">15-49</td><td>-</td><td>-</td><td>25.20</td><td>15.50</td><td>-</td><td>-</td></tr><tr><td><span class=\"flag\" style=\"background-image:url('gfx/flags-iso/UZ.svg');\"></span>Uzbekistan</td><td>Lower-middle income</td><td>2014</td><td>National</td><td class=\"agebox\">18-64</td><td>32.00</td><td>15.70</td><td>27.30</td><td>25.40</td><td>29.90</td><td>20.20</td></tr><tr><td><span class=\"flag\" style=\"background-image:url('gfx/flags-iso/VU.svg');\"></span>Vanuatu</td><td>Lower-middle income</td><td>2023</td><td>National</td><td class=\"agebox\">15-49</td><td>-</td><td>-</td><td>30.60</td><td>23.50</td><td>-</td><td>-</td></tr><tr><td><span class=\"flag\" style=\"background-image:url('gfx/flags-iso/VU.svg');\"></span>Vanuatu</td><td>Lower-middle income</td><td>2013</td><td>National</td><td class=\"agebox\">15-49</td><td>24.80</td><td>11.10</td><td>30.80</td><td>18.80</td><td>27.80</td><td>14.90</td></tr><tr><td><span class=\"flag\" style=\"background-image:url('gfx/flags-iso/VE.svg');\"></span>Venezuela</td><td></td><td>2014-2017</td><td>National</td><td class=\"agebox\">20+</td><td>38.20</td><td>22.20</td><td>31.20</td><td>26.70</td><td>34.50</td><td>24.60</td></tr><tr><td><span class=\"flag\" style=\"background-image:url('gfx/flags-iso/VN.svg');\"></span>Vietnam</td><td>Lower-middle income</td><td>2021</td><td>National</td><td class=\"agebox\">18-69</td><td>17.20</td><td>2.10</td><td>17.50</td><td>2.20</td><td>17.40</td><td>2.10</td></tr><tr class=\"selfreport\"><td><span class=\"flag\" style=\"background-image:url('gfx/flags-iso/GB-WLS.svg');\"></span>Wales</td><td></td><td>2022-2023</td><td>National</td><td class=\"agebox\">16+</td><td>40.20</td><td>25.00</td><td>30.10</td><td>27.20</td><td>35.20</td><td>26.00</td></tr><tr><td><span class=\"flag\" style=\"background-image:url('gfx/flags-iso/WF.svg');\"></span>Wallis and Futuna</td><td></td><td>2019</td><td>National</td><td class=\"agebox\">18-69</td><td>23.80</td><td>66.70</td><td>16.60</td><td>73.70</td><td>20.00</td><td>70.40</td></tr><tr><td><span class=\"flag\" style=\"background-image:url('gfx/flags-iso/YE.svg');\"></span>Yemen</td><td>Low income</td><td>2013</td><td>National</td><td class=\"agebox\">15-49</td><td>-</td><td>-</td><td>15.70</td><td>8.00</td><td>-</td><td>-</td></tr><tr><td><span class=\"flag\" style=\"background-image:url('gfx/flags-iso/ZM.svg');\"></span>Zambia</td><td>Lower-middle income</td><td>2017</td><td>National</td><td class=\"agebox\">18-69</td><td>13.20</td><td>3.00</td><td>20.20</td><td>12.30</td><td>16.70</td><td>7.50</td></tr><tr><td><span class=\"flag\" style=\"background-image:url('gfx/flags-iso/ZW.svg');\"></span>Zimbabwe</td><td>Lower-middle income</td><td>2015</td><td>National</td><td class=\"agebox\">15-49</td><td>9.70</td><td>2.30</td><td>22.30</td><td>12.60</td><td>16.30</td><td>7.70</td></tr></tbody></table>"
      ]
     },
     "execution_count": 60,
     "metadata": {},
     "output_type": "execute_result"
    }
   ],
   "source": [
    "# Buscar la que tiene los datos\n",
    "tables[0]"
   ]
  },
  {
   "cell_type": "code",
   "execution_count": 61,
   "id": "7558a634",
   "metadata": {},
   "outputs": [],
   "source": [
    "# Convertir a una DataFrame\n",
    "df = pd.DataFrame(columns = [\n",
    "        'Country',\n",
    "        'Income grouop',\n",
    "        'Year',\n",
    "        'Area',\n",
    "        'Age',\n",
    "        'Males_Overweight',\n",
    "        'Males_Obesity',\n",
    "        'Females_Overweight',\n",
    "        'Females_Obesity',\n",
    "        'All_adults_Overweight',\n",
    "        'All_adults_Obesity'\n",
    "    ])\n",
    "\n",
    "for row in tables[0].find_all('tr')[1::]:\n",
    "    cols = row.find_all(\"td\")\n",
    "    cols = [col.text.strip() for col in cols]\n",
    "    new_row = pd.DataFrame(\n",
    "        {\n",
    "            'Country': cols[0],\n",
    "            'Income grouop': cols[1],\n",
    "            'Year': cols[2],\n",
    "            'Area': cols[3],\n",
    "            'Age': cols[4],\n",
    "            'Males_Overweight': cols[5],\n",
    "            'Males_Obesity': cols[6],\n",
    "            'Females_Overweight': cols[7],\n",
    "            'Females_Obesity': cols[8],\n",
    "            'All_adults_Overweight': cols[9],\n",
    "            'All_adults_Obesity': cols[10]\n",
    "        },\n",
    "        index=['country']\n",
    "    )\n",
    "    df = pd.concat([df, new_row], ignore_index=True)"
   ]
  },
  {
   "cell_type": "code",
   "execution_count": 62,
   "id": "3ad140f5",
   "metadata": {},
   "outputs": [
    {
     "data": {
      "application/vnd.microsoft.datawrangler.viewer.v0+json": {
       "columns": [
        {
         "name": "index",
         "rawType": "int64",
         "type": "integer"
        },
        {
         "name": "Country",
         "rawType": "object",
         "type": "string"
        },
        {
         "name": "Income grouop",
         "rawType": "object",
         "type": "unknown"
        },
        {
         "name": "Year",
         "rawType": "object",
         "type": "string"
        },
        {
         "name": "Area",
         "rawType": "object",
         "type": "unknown"
        },
        {
         "name": "Age",
         "rawType": "object",
         "type": "string"
        },
        {
         "name": "Males_Overweight",
         "rawType": "float64",
         "type": "float"
        },
        {
         "name": "Males_Obesity",
         "rawType": "float64",
         "type": "float"
        },
        {
         "name": "Females_Overweight",
         "rawType": "float64",
         "type": "float"
        },
        {
         "name": "Females_Obesity",
         "rawType": "float64",
         "type": "float"
        },
        {
         "name": "All_adults_Overweight",
         "rawType": "float64",
         "type": "float"
        },
        {
         "name": "All_adults_Obesity",
         "rawType": "float64",
         "type": "float"
        },
        {
         "name": "iso_alpha",
         "rawType": "object",
         "type": "unknown"
        }
       ],
       "ref": "aab04d54-5a81-4a81-b9d8-522cf6c52925",
       "rows": [
        [
         "0",
         "Afghanistan",
         "Low income",
         "2018",
         "National",
         "18-69",
         "25.9",
         "11.9",
         "25.6",
         "23.5",
         "25.8",
         "17.0",
         "AFG"
        ],
        [
         "1",
         "Albania",
         "Upper-middle income",
         "2022",
         "National",
         "16+",
         "51.0",
         "11.3",
         "37.5",
         "13.4",
         "44.2",
         "12.4",
         "ALB"
        ],
        [
         "2",
         "Algeria",
         "Upper-middle income",
         "2016-2017",
         "National",
         "18-69",
         "34.2",
         "14.1",
         "33.2",
         "30.1",
         "33.8",
         "21.8",
         "DZA"
        ],
        [
         "3",
         "American Samoa",
         "High income",
         "2017-2018",
         "National",
         "18+",
         null,
         "77.1",
         null,
         "82.7",
         null,
         "80.2",
         "ASM"
        ],
        [
         "4",
         "Andorra",
         "High income",
         "2017-2018",
         "National",
         "18-75",
         "42.5",
         "13.0",
         "27.0",
         "14.4",
         "35.2",
         "13.6",
         "AND"
        ],
        [
         "5",
         "Angola",
         "Lower-middle income",
         "2013-2014",
         "Regional",
         "15-64",
         "10.7",
         "2.8",
         "20.5",
         "10.6",
         "15.8",
         "6.8",
         "AGO"
        ],
        [
         "6",
         "Anguilla",
         null,
         "2016",
         "National",
         "18-69",
         "36.0",
         "30.4",
         "27.4",
         "46.5",
         "31.7",
         "38.5",
         "AIA"
        ],
        [
         "7",
         "Antigua and Barbuda",
         "High income",
         "1993",
         null,
         "40+",
         null,
         "25.0",
         null,
         "60.0",
         null,
         "43.1",
         "ATG"
        ],
        [
         "8",
         "Argentina",
         "Upper-middle income",
         "2018",
         "National",
         "18+",
         "38.7",
         "31.4",
         "29.1",
         "33.4",
         "33.7",
         "32.4",
         "ARG"
        ],
        [
         "9",
         "Armenia",
         "Upper-middle income",
         "2016",
         "National",
         "18-69",
         "31.4",
         "14.0",
         "25.1",
         "25.0",
         "28.2",
         "19.5",
         "ARM"
        ],
        [
         "10",
         "Aruba",
         "High income",
         "2023",
         "National",
         "18-69",
         "35.8",
         "42.8",
         "30.9",
         "48.0",
         "32.9",
         "45.8",
         "ABW"
        ],
        [
         "11",
         "Australia",
         "High income",
         "2022-2023",
         "National",
         "18+",
         "38.6",
         "32.5",
         "29.6",
         "30.9",
         "34.0",
         "31.7",
         "AUS"
        ],
        [
         "12",
         "Austria",
         "High income",
         "2022",
         "National",
         "16+",
         "42.0",
         "18.5",
         "27.2",
         "16.3",
         "34.4",
         "17.4",
         "AUT"
        ],
        [
         "13",
         "Azerbaijan",
         "Upper-middle income",
         "2017-2018",
         "National",
         "18-69",
         "38.8",
         "14.7",
         "30.9",
         "26.5",
         "34.8",
         "20.6",
         "AZE"
        ],
        [
         "14",
         "Bahamas",
         "High income",
         "2019",
         "National",
         "18-69",
         "35.2",
         "31.8",
         "25.8",
         "54.8",
         "28.0",
         "43.6",
         "BHS"
        ],
        [
         "15",
         "Bahrain",
         "High income",
         "2018",
         "National",
         "18+",
         "38.7",
         "33.0",
         "30.9",
         "42.5",
         "35.5",
         "36.9",
         "BHR"
        ],
        [
         "16",
         "Bangladesh",
         "Lower-middle income",
         "2022",
         "National",
         "M: 20+; F: 20-49",
         "18.1",
         "1.9",
         "30.0",
         "8.4",
         null,
         null,
         "BGD"
        ],
        [
         "17",
         "Barbados",
         "High income",
         "2011",
         "National",
         "25+",
         "34.2",
         "23.4",
         "30.8",
         "43.4",
         "32.4",
         "33.8",
         "BRB"
        ],
        [
         "18",
         "Belarus",
         "Upper-middle income",
         "2020",
         "National",
         "18-69",
         "39.4",
         "16.6",
         "28.7",
         "21.2",
         "34.1",
         "18.9",
         "BLR"
        ],
        [
         "19",
         "Belgium",
         "High income",
         "2022",
         "National",
         "16+",
         "37.5",
         "16.6",
         "28.1",
         "14.5",
         "32.7",
         "15.5",
         "BEL"
        ],
        [
         "20",
         "Belize",
         "Upper-middle income",
         "2017",
         "National",
         "20-55",
         null,
         "31.2",
         null,
         "49.4",
         null,
         "40.9",
         "BLZ"
        ],
        [
         "21",
         "Benin",
         "Lower-middle income",
         "2017-2018",
         "National",
         "15-49",
         null,
         null,
         "16.4",
         "9.4",
         null,
         null,
         "BEN"
        ],
        [
         "22",
         "Benin",
         "Lower-middle income",
         "2015",
         "National",
         "18-69",
         "14.4",
         "4.7",
         "17.0",
         "10.1",
         "15.7",
         "7.4",
         "BEN"
        ],
        [
         "23",
         "Bermuda",
         "High income",
         "2013-2014",
         "National",
         "18+",
         "49.6",
         "29.4",
         "29.6",
         "40.0",
         "40.2",
         "34.4",
         "BMU"
        ],
        [
         "24",
         "Bhutan",
         "Lower-middle income",
         "2023",
         "National",
         "15-69",
         "33.6",
         "8.6",
         "33.1",
         "16.9",
         "33.3",
         "12.5",
         "BTN"
        ],
        [
         "25",
         "Bolivia",
         "Lower-middle income",
         "2019",
         "National",
         "18-69",
         "39.1",
         "20.8",
         "35.1",
         "31.8",
         "37.1",
         "26.2",
         "BOL"
        ],
        [
         "26",
         "Bosnia and Herzegovina",
         "Upper-middle income",
         "2012",
         "National",
         "25-64",
         "49.9",
         "20.3",
         "31.9",
         "24.1",
         "40.4",
         "22.3",
         "BIH"
        ],
        [
         "27",
         "Botswana",
         "Upper-middle income",
         "2014",
         "National",
         "15-69",
         "14.7",
         "5.1",
         "23.2",
         "19.1",
         "18.8",
         "11.8",
         "BWA"
        ],
        [
         "28",
         "Brazil",
         "Upper-middle income",
         "2023",
         "National",
         "18+",
         "39.6",
         "23.8",
         "34.8",
         "24.8",
         "37.1",
         "24.3",
         "BRA"
        ],
        [
         "29",
         "British Virgin Islands",
         null,
         "2009",
         "National",
         "25-64",
         "45.0",
         "28.4",
         "32.2",
         "43.9",
         "39.2",
         "35.5",
         "VGB"
        ],
        [
         "30",
         "Brunei Darussalam",
         "High income",
         "2015-2016",
         "National",
         "18-69",
         "36.3",
         "26.9",
         "33.0",
         "29.5",
         "34.6",
         "28.2",
         "BRN"
        ],
        [
         "31",
         "Bulgaria",
         "High income",
         "2022",
         "National",
         "16+",
         "49.0",
         "13.4",
         "34.4",
         "9.8",
         "41.4",
         "11.5",
         "BGR"
        ],
        [
         "32",
         "Burkina Faso",
         "Low income",
         "2021",
         "National",
         "20-49",
         null,
         null,
         "18.1",
         "7.3",
         null,
         null,
         "BFA"
        ],
        [
         "33",
         "Burkina Faso",
         "Low income",
         "2013",
         "National",
         "25-64",
         "10.8",
         "2.9",
         "7.2",
         "6.0",
         "8.9",
         "4.5",
         "BFA"
        ],
        [
         "34",
         "Burundi",
         "Low income",
         "2016-2017",
         "National",
         "15-49",
         null,
         null,
         "6.1",
         "1.7",
         null,
         null,
         "BDI"
        ],
        [
         "35",
         "Cabo Verde",
         "Upper-middle income",
         "2020",
         "National",
         "18-69",
         "27.5",
         "6.7",
         "32.4",
         "22.5",
         "29.9",
         "14.3",
         "CPV"
        ],
        [
         "36",
         "Cambodia",
         "Lower-middle income",
         "2021-2022",
         "National",
         "20-49",
         null,
         null,
         "26.3",
         "6.3",
         null,
         null,
         "KHM"
        ],
        [
         "37",
         "Cambodia",
         "Lower-middle income",
         "2010",
         "National",
         "25-64",
         "10.5",
         "1.1",
         "16.3",
         "2.7",
         "13.5",
         "1.9",
         "KHM"
        ],
        [
         "38",
         "Cameroon",
         "Lower-middle income",
         "2018",
         "National",
         "15-49",
         null,
         null,
         "23.5",
         "13.6",
         null,
         null,
         "CMR"
        ],
        [
         "39",
         "Cameroon",
         "Lower-middle income",
         "2003",
         "Regional",
         "15+",
         "21.6",
         "6.5",
         "28.6",
         "19.5",
         "25.1",
         "13.0",
         "CMR"
        ],
        [
         "40",
         "Canada",
         "High income",
         "2019",
         "National",
         "18-79",
         "39.6",
         "26.7",
         "31.4",
         "22.0",
         "35.5",
         "24.3",
         "CAN"
        ],
        [
         "41",
         "Canary Islands (Sp.)",
         null,
         "2021",
         "National",
         "18+",
         "37.93",
         "18.14",
         "33.02",
         "18.05",
         "35.44",
         "18.1",
         null
        ],
        [
         "42",
         "Cayman Islands",
         "High income",
         "2023",
         "National",
         "18-69",
         "41.0",
         "24.6",
         "32.7",
         "41.1",
         "37.0",
         "32.7",
         "CYM"
        ],
        [
         "43",
         "Central African Republic",
         "Low income",
         "2017",
         "Regional",
         "25-64",
         "12.8",
         "6.9",
         "19.3",
         "12.7",
         "16.0",
         "9.7",
         "CAF"
        ],
        [
         "44",
         "Chad",
         "Low income",
         "2014-2015",
         "National",
         "15-49",
         null,
         null,
         "9.0",
         "2.5",
         null,
         null,
         "TCD"
        ],
        [
         "45",
         "Chad",
         "Low income",
         "2007",
         "Regional",
         "25-64",
         "21.5",
         "8.4",
         "23.8",
         "19.9",
         "22.9",
         "13.7",
         "TCD"
        ],
        [
         "46",
         "Chile",
         "High income",
         "2016-2017",
         "National",
         "15+",
         "43.3",
         "30.3",
         "36.4",
         "38.4",
         "39.8",
         "34.4",
         "CHL"
        ],
        [
         "47",
         "China",
         "Upper-middle income",
         "2015",
         "National",
         "18-59",
         "36.36",
         "6.3",
         "28.87",
         "6.79",
         "33.07",
         "6.51",
         "CHN"
        ],
        [
         "48",
         "Colombia",
         "Upper-middle income",
         "2015-2016",
         "National",
         "18-64",
         "38.4",
         "14.4",
         "37.2",
         "22.4",
         "37.8",
         "18.7",
         "COL"
        ],
        [
         "49",
         "Comoros",
         "Lower-middle income",
         "2012",
         "National",
         "15-49",
         null,
         null,
         "24.6",
         "11.8",
         null,
         null,
         "COM"
        ]
       ],
       "shape": {
        "columns": 12,
        "rows": 248
       }
      },
      "text/html": [
       "<div>\n",
       "<style scoped>\n",
       "    .dataframe tbody tr th:only-of-type {\n",
       "        vertical-align: middle;\n",
       "    }\n",
       "\n",
       "    .dataframe tbody tr th {\n",
       "        vertical-align: top;\n",
       "    }\n",
       "\n",
       "    .dataframe thead th {\n",
       "        text-align: right;\n",
       "    }\n",
       "</style>\n",
       "<table border=\"1\" class=\"dataframe\">\n",
       "  <thead>\n",
       "    <tr style=\"text-align: right;\">\n",
       "      <th></th>\n",
       "      <th>Country</th>\n",
       "      <th>Income grouop</th>\n",
       "      <th>Year</th>\n",
       "      <th>Area</th>\n",
       "      <th>Age</th>\n",
       "      <th>Males_Overweight</th>\n",
       "      <th>Males_Obesity</th>\n",
       "      <th>Females_Overweight</th>\n",
       "      <th>Females_Obesity</th>\n",
       "      <th>All_adults_Overweight</th>\n",
       "      <th>All_adults_Obesity</th>\n",
       "      <th>iso_alpha</th>\n",
       "    </tr>\n",
       "  </thead>\n",
       "  <tbody>\n",
       "    <tr>\n",
       "      <th>0</th>\n",
       "      <td>Afghanistan</td>\n",
       "      <td>Low income</td>\n",
       "      <td>2018</td>\n",
       "      <td>National</td>\n",
       "      <td>18-69</td>\n",
       "      <td>25.9</td>\n",
       "      <td>11.9</td>\n",
       "      <td>25.6</td>\n",
       "      <td>23.5</td>\n",
       "      <td>25.8</td>\n",
       "      <td>17.0</td>\n",
       "      <td>AFG</td>\n",
       "    </tr>\n",
       "    <tr>\n",
       "      <th>1</th>\n",
       "      <td>Albania</td>\n",
       "      <td>Upper-middle income</td>\n",
       "      <td>2022</td>\n",
       "      <td>National</td>\n",
       "      <td>16+</td>\n",
       "      <td>51.0</td>\n",
       "      <td>11.3</td>\n",
       "      <td>37.5</td>\n",
       "      <td>13.4</td>\n",
       "      <td>44.2</td>\n",
       "      <td>12.4</td>\n",
       "      <td>ALB</td>\n",
       "    </tr>\n",
       "    <tr>\n",
       "      <th>2</th>\n",
       "      <td>Algeria</td>\n",
       "      <td>Upper-middle income</td>\n",
       "      <td>2016-2017</td>\n",
       "      <td>National</td>\n",
       "      <td>18-69</td>\n",
       "      <td>34.2</td>\n",
       "      <td>14.1</td>\n",
       "      <td>33.2</td>\n",
       "      <td>30.1</td>\n",
       "      <td>33.8</td>\n",
       "      <td>21.8</td>\n",
       "      <td>DZA</td>\n",
       "    </tr>\n",
       "    <tr>\n",
       "      <th>3</th>\n",
       "      <td>American Samoa</td>\n",
       "      <td>High income</td>\n",
       "      <td>2017-2018</td>\n",
       "      <td>National</td>\n",
       "      <td>18+</td>\n",
       "      <td>NaN</td>\n",
       "      <td>77.1</td>\n",
       "      <td>NaN</td>\n",
       "      <td>82.7</td>\n",
       "      <td>NaN</td>\n",
       "      <td>80.2</td>\n",
       "      <td>ASM</td>\n",
       "    </tr>\n",
       "    <tr>\n",
       "      <th>4</th>\n",
       "      <td>Andorra</td>\n",
       "      <td>High income</td>\n",
       "      <td>2017-2018</td>\n",
       "      <td>National</td>\n",
       "      <td>18-75</td>\n",
       "      <td>42.5</td>\n",
       "      <td>13.0</td>\n",
       "      <td>27.0</td>\n",
       "      <td>14.4</td>\n",
       "      <td>35.2</td>\n",
       "      <td>13.6</td>\n",
       "      <td>AND</td>\n",
       "    </tr>\n",
       "    <tr>\n",
       "      <th>...</th>\n",
       "      <td>...</td>\n",
       "      <td>...</td>\n",
       "      <td>...</td>\n",
       "      <td>...</td>\n",
       "      <td>...</td>\n",
       "      <td>...</td>\n",
       "      <td>...</td>\n",
       "      <td>...</td>\n",
       "      <td>...</td>\n",
       "      <td>...</td>\n",
       "      <td>...</td>\n",
       "      <td>...</td>\n",
       "    </tr>\n",
       "    <tr>\n",
       "      <th>243</th>\n",
       "      <td>Wales</td>\n",
       "      <td>NaN</td>\n",
       "      <td>2022-2023</td>\n",
       "      <td>National</td>\n",
       "      <td>16+</td>\n",
       "      <td>40.2</td>\n",
       "      <td>25.0</td>\n",
       "      <td>30.1</td>\n",
       "      <td>27.2</td>\n",
       "      <td>35.2</td>\n",
       "      <td>26.0</td>\n",
       "      <td>None</td>\n",
       "    </tr>\n",
       "    <tr>\n",
       "      <th>244</th>\n",
       "      <td>Wallis and Futuna</td>\n",
       "      <td>NaN</td>\n",
       "      <td>2019</td>\n",
       "      <td>National</td>\n",
       "      <td>18-69</td>\n",
       "      <td>23.8</td>\n",
       "      <td>66.7</td>\n",
       "      <td>16.6</td>\n",
       "      <td>73.7</td>\n",
       "      <td>20.0</td>\n",
       "      <td>70.4</td>\n",
       "      <td>WLF</td>\n",
       "    </tr>\n",
       "    <tr>\n",
       "      <th>245</th>\n",
       "      <td>Yemen</td>\n",
       "      <td>Low income</td>\n",
       "      <td>2013</td>\n",
       "      <td>National</td>\n",
       "      <td>15-49</td>\n",
       "      <td>NaN</td>\n",
       "      <td>NaN</td>\n",
       "      <td>15.7</td>\n",
       "      <td>8.0</td>\n",
       "      <td>NaN</td>\n",
       "      <td>NaN</td>\n",
       "      <td>YEM</td>\n",
       "    </tr>\n",
       "    <tr>\n",
       "      <th>246</th>\n",
       "      <td>Zambia</td>\n",
       "      <td>Lower-middle income</td>\n",
       "      <td>2017</td>\n",
       "      <td>National</td>\n",
       "      <td>18-69</td>\n",
       "      <td>13.2</td>\n",
       "      <td>3.0</td>\n",
       "      <td>20.2</td>\n",
       "      <td>12.3</td>\n",
       "      <td>16.7</td>\n",
       "      <td>7.5</td>\n",
       "      <td>ZMB</td>\n",
       "    </tr>\n",
       "    <tr>\n",
       "      <th>247</th>\n",
       "      <td>Zimbabwe</td>\n",
       "      <td>Lower-middle income</td>\n",
       "      <td>2015</td>\n",
       "      <td>National</td>\n",
       "      <td>15-49</td>\n",
       "      <td>9.7</td>\n",
       "      <td>2.3</td>\n",
       "      <td>22.3</td>\n",
       "      <td>12.6</td>\n",
       "      <td>16.3</td>\n",
       "      <td>7.7</td>\n",
       "      <td>ZWE</td>\n",
       "    </tr>\n",
       "  </tbody>\n",
       "</table>\n",
       "<p>248 rows × 12 columns</p>\n",
       "</div>"
      ],
      "text/plain": [
       "               Country        Income grouop       Year      Area    Age  \\\n",
       "0          Afghanistan           Low income       2018  National  18-69   \n",
       "1              Albania  Upper-middle income       2022  National    16+   \n",
       "2              Algeria  Upper-middle income  2016-2017  National  18-69   \n",
       "3       American Samoa          High income  2017-2018  National    18+   \n",
       "4              Andorra          High income  2017-2018  National  18-75   \n",
       "..                 ...                  ...        ...       ...    ...   \n",
       "243              Wales                  NaN  2022-2023  National    16+   \n",
       "244  Wallis and Futuna                  NaN       2019  National  18-69   \n",
       "245              Yemen           Low income       2013  National  15-49   \n",
       "246             Zambia  Lower-middle income       2017  National  18-69   \n",
       "247           Zimbabwe  Lower-middle income       2015  National  15-49   \n",
       "\n",
       "     Males_Overweight  Males_Obesity  Females_Overweight  Females_Obesity  \\\n",
       "0                25.9           11.9                25.6             23.5   \n",
       "1                51.0           11.3                37.5             13.4   \n",
       "2                34.2           14.1                33.2             30.1   \n",
       "3                 NaN           77.1                 NaN             82.7   \n",
       "4                42.5           13.0                27.0             14.4   \n",
       "..                ...            ...                 ...              ...   \n",
       "243              40.2           25.0                30.1             27.2   \n",
       "244              23.8           66.7                16.6             73.7   \n",
       "245               NaN            NaN                15.7              8.0   \n",
       "246              13.2            3.0                20.2             12.3   \n",
       "247               9.7            2.3                22.3             12.6   \n",
       "\n",
       "     All_adults_Overweight  All_adults_Obesity iso_alpha  \n",
       "0                     25.8                17.0       AFG  \n",
       "1                     44.2                12.4       ALB  \n",
       "2                     33.8                21.8       DZA  \n",
       "3                      NaN                80.2       ASM  \n",
       "4                     35.2                13.6       AND  \n",
       "..                     ...                 ...       ...  \n",
       "243                   35.2                26.0      None  \n",
       "244                   20.0                70.4       WLF  \n",
       "245                    NaN                 NaN       YEM  \n",
       "246                   16.7                 7.5       ZMB  \n",
       "247                   16.3                 7.7       ZWE  \n",
       "\n",
       "[248 rows x 12 columns]"
      ]
     },
     "execution_count": 62,
     "metadata": {},
     "output_type": "execute_result"
    }
   ],
   "source": [
    "# Códigos estándar de países y manejo de nulls\n",
    "\n",
    "df.iloc[:, :4] = df.iloc[:, :4].replace('', np.nan)\n",
    "df.iloc[:, 5:] = df.iloc[:, 5:].replace('-', np.nan)\n",
    "\n",
    "cols = [\n",
    "    'Males_Overweight',\n",
    "    'Males_Obesity',\n",
    "    'Females_Overweight',\n",
    "    'Females_Obesity',\n",
    "    'All_adults_Overweight',\n",
    "    'All_adults_Obesity'\n",
    "]\n",
    "for col in cols:\n",
    "    df[col] = df[col].astype(float)\n",
    "\n",
    "def country_to_iso3(name):\n",
    "    try:\n",
    "        return pycountry.countries.lookup(name).alpha_3\n",
    "    except:\n",
    "        return None\n",
    "    \n",
    "df[\"iso_alpha\"] = df[\"Country\"].apply(country_to_iso3)\n",
    "\n",
    "df"
   ]
  },
  {
   "cell_type": "code",
   "execution_count": 63,
   "id": "3dfd0aee",
   "metadata": {},
   "outputs": [],
   "source": [
    "# Guardar en un CSV\n",
    "df.to_csv(\"datos.csv\", index=False)\n",
    "\n",
    "# Guardar en Json\n",
    "df.to_json(\"datos.json\", orient=\"records\", force_ascii=False, indent=2)"
   ]
  },
  {
   "cell_type": "code",
   "execution_count": 64,
   "id": "fa7b46a0",
   "metadata": {},
   "outputs": [
    {
     "data": {
      "application/vnd.plotly.v1+json": {
       "config": {
        "plotlyServerURL": "https://plot.ly"
       },
       "data": [
        {
         "coloraxis": "coloraxis",
         "geo": "geo",
         "hovertemplate": "iso_alpha=%{location}<br>All_adults_Obesity=%{z}<extra></extra>",
         "locationmode": "ISO-3",
         "locations": [
          "AFG",
          "ALB",
          "DZA",
          "ASM",
          "AND",
          "AGO",
          "AIA",
          "ATG",
          "ARG",
          "ARM",
          "ABW",
          "AUS",
          "AUT",
          "AZE",
          "BHS",
          "BHR",
          "BGD",
          "BRB",
          "BLR",
          "BEL",
          "BLZ",
          "BEN",
          "BEN",
          "BMU",
          "BTN",
          "BOL",
          "BIH",
          "BWA",
          "BRA",
          "VGB",
          "BRN",
          "BGR",
          "BFA",
          "BFA",
          "BDI",
          "CPV",
          "KHM",
          "KHM",
          "CMR",
          "CMR",
          "CAN",
          null,
          "CYM",
          "CAF",
          "TCD",
          "TCD",
          "CHL",
          "CHN",
          "COL",
          "COM",
          "COM",
          "COG",
          "COG",
          "COK",
          "CRI",
          null,
          null,
          "HRV",
          "CUB",
          "CYP",
          "CZE",
          null,
          "DNK",
          "DMA",
          "DOM",
          "ECU",
          "EGY",
          "EGY",
          "SLV",
          null,
          "GNQ",
          "ERI",
          "EST",
          "SWZ",
          "ETH",
          "FSM",
          "FJI",
          "FJI",
          "FIN",
          "FRA",
          "GUF",
          "PYF",
          "GAB",
          "GMB",
          "GEO",
          "DEU",
          "GHA",
          null,
          "GRC",
          "GRL",
          "GRD",
          "GLP",
          "GTM",
          "GIN",
          "GUY",
          "HTI",
          "HND",
          "HKG",
          "HUN",
          "ISL",
          "IND",
          "IDN",
          "IRN",
          "IRQ",
          "IRL",
          "IMN",
          "ISR",
          "ITA",
          "JAM",
          "JPN",
          "JEY",
          "JOR",
          "JOR",
          "KAZ",
          "KEN",
          "KIR",
          "KIR",
          "KWT",
          "KGZ",
          "KGZ",
          "LAO",
          "LVA",
          "LBN",
          "LBN",
          "LSO",
          "LBR",
          "LBY",
          "LTU",
          "LUX",
          "MDG",
          "MWI",
          "MYS",
          "MDV",
          "MLI",
          "MLT",
          "MHL",
          "MHL",
          "MHL",
          "MTQ",
          "MRT",
          "MRT",
          "MUS",
          "MYT",
          "MEX",
          "MDA",
          "MNG",
          "MNE",
          "MAR",
          "MOZ",
          "MOZ",
          "MMR",
          "NAM",
          "NRU",
          "NRU",
          "NPL",
          "NLD",
          "NCL",
          "NZL",
          "NIC",
          "NER",
          "NGA",
          "NGA",
          "NIU",
          "MKD",
          null,
          "MNP",
          "NOR",
          "OMN",
          "PAK",
          "PAK",
          "PLW",
          "PLW",
          null,
          "PAN",
          "PNG",
          "PRY",
          "PER",
          "PER",
          "PHL",
          "POL",
          "PRT",
          "PRI",
          "QAT",
          null,
          "ROU",
          "RUS",
          "RWA",
          "KNA",
          "LCA",
          "VCT",
          "WSM",
          "WSM",
          "STP",
          "SAU",
          null,
          "SEN",
          "SEN",
          "SRB",
          "SYC",
          "SLE",
          "SLE",
          "SGP",
          "SVK",
          "SVN",
          "SLB",
          "SOM",
          "ZAF",
          "KOR",
          "ESP",
          "LKA",
          "SDN",
          "SUR",
          "SWE",
          "CHE",
          "SYR",
          "TWN",
          "TWN",
          "TJK",
          "TJK",
          "TZA",
          "THA",
          "TLS",
          "TGO",
          "TGO",
          "TKL",
          "TON",
          "TTO",
          "TUN",
          null,
          "TKM",
          "TUV",
          "UGA",
          "UKR",
          "ARE",
          "GBR",
          "USA",
          "URY",
          "UZB",
          "UZB",
          "VUT",
          "VUT",
          "VEN",
          "VNM",
          null,
          "WLF",
          "YEM",
          "ZMB",
          "ZWE"
         ],
         "name": "",
         "type": "choropleth",
         "z": {
          "bdata": "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",
          "dtype": "f8"
         }
        }
       ],
       "layout": {
        "coloraxis": {
         "colorbar": {
          "title": {
           "text": "All_adults_Obesity"
          }
         },
         "colorscale": [
          [
           0,
           "rgb(247,251,255)"
          ],
          [
           0.125,
           "rgb(222,235,247)"
          ],
          [
           0.25,
           "rgb(198,219,239)"
          ],
          [
           0.375,
           "rgb(158,202,225)"
          ],
          [
           0.5,
           "rgb(107,174,214)"
          ],
          [
           0.625,
           "rgb(66,146,198)"
          ],
          [
           0.75,
           "rgb(33,113,181)"
          ],
          [
           0.875,
           "rgb(8,81,156)"
          ],
          [
           1,
           "rgb(8,48,107)"
          ]
         ]
        },
        "geo": {
         "center": {},
         "domain": {
          "x": [
           0,
           1
          ],
          "y": [
           0,
           1
          ]
         }
        },
        "legend": {
         "tracegroupgap": 0
        },
        "template": {
         "data": {
          "bar": [
           {
            "error_x": {
             "color": "#2a3f5f"
            },
            "error_y": {
             "color": "#2a3f5f"
            },
            "marker": {
             "line": {
              "color": "#E5ECF6",
              "width": 0.5
             },
             "pattern": {
              "fillmode": "overlay",
              "size": 10,
              "solidity": 0.2
             }
            },
            "type": "bar"
           }
          ],
          "barpolar": [
           {
            "marker": {
             "line": {
              "color": "#E5ECF6",
              "width": 0.5
             },
             "pattern": {
              "fillmode": "overlay",
              "size": 10,
              "solidity": 0.2
             }
            },
            "type": "barpolar"
           }
          ],
          "carpet": [
           {
            "aaxis": {
             "endlinecolor": "#2a3f5f",
             "gridcolor": "white",
             "linecolor": "white",
             "minorgridcolor": "white",
             "startlinecolor": "#2a3f5f"
            },
            "baxis": {
             "endlinecolor": "#2a3f5f",
             "gridcolor": "white",
             "linecolor": "white",
             "minorgridcolor": "white",
             "startlinecolor": "#2a3f5f"
            },
            "type": "carpet"
           }
          ],
          "choropleth": [
           {
            "colorbar": {
             "outlinewidth": 0,
             "ticks": ""
            },
            "type": "choropleth"
           }
          ],
          "contour": [
           {
            "colorbar": {
             "outlinewidth": 0,
             "ticks": ""
            },
            "colorscale": [
             [
              0,
              "#0d0887"
             ],
             [
              0.1111111111111111,
              "#46039f"
             ],
             [
              0.2222222222222222,
              "#7201a8"
             ],
             [
              0.3333333333333333,
              "#9c179e"
             ],
             [
              0.4444444444444444,
              "#bd3786"
             ],
             [
              0.5555555555555556,
              "#d8576b"
             ],
             [
              0.6666666666666666,
              "#ed7953"
             ],
             [
              0.7777777777777778,
              "#fb9f3a"
             ],
             [
              0.8888888888888888,
              "#fdca26"
             ],
             [
              1,
              "#f0f921"
             ]
            ],
            "type": "contour"
           }
          ],
          "contourcarpet": [
           {
            "colorbar": {
             "outlinewidth": 0,
             "ticks": ""
            },
            "type": "contourcarpet"
           }
          ],
          "heatmap": [
           {
            "colorbar": {
             "outlinewidth": 0,
             "ticks": ""
            },
            "colorscale": [
             [
              0,
              "#0d0887"
             ],
             [
              0.1111111111111111,
              "#46039f"
             ],
             [
              0.2222222222222222,
              "#7201a8"
             ],
             [
              0.3333333333333333,
              "#9c179e"
             ],
             [
              0.4444444444444444,
              "#bd3786"
             ],
             [
              0.5555555555555556,
              "#d8576b"
             ],
             [
              0.6666666666666666,
              "#ed7953"
             ],
             [
              0.7777777777777778,
              "#fb9f3a"
             ],
             [
              0.8888888888888888,
              "#fdca26"
             ],
             [
              1,
              "#f0f921"
             ]
            ],
            "type": "heatmap"
           }
          ],
          "histogram": [
           {
            "marker": {
             "pattern": {
              "fillmode": "overlay",
              "size": 10,
              "solidity": 0.2
             }
            },
            "type": "histogram"
           }
          ],
          "histogram2d": [
           {
            "colorbar": {
             "outlinewidth": 0,
             "ticks": ""
            },
            "colorscale": [
             [
              0,
              "#0d0887"
             ],
             [
              0.1111111111111111,
              "#46039f"
             ],
             [
              0.2222222222222222,
              "#7201a8"
             ],
             [
              0.3333333333333333,
              "#9c179e"
             ],
             [
              0.4444444444444444,
              "#bd3786"
             ],
             [
              0.5555555555555556,
              "#d8576b"
             ],
             [
              0.6666666666666666,
              "#ed7953"
             ],
             [
              0.7777777777777778,
              "#fb9f3a"
             ],
             [
              0.8888888888888888,
              "#fdca26"
             ],
             [
              1,
              "#f0f921"
             ]
            ],
            "type": "histogram2d"
           }
          ],
          "histogram2dcontour": [
           {
            "colorbar": {
             "outlinewidth": 0,
             "ticks": ""
            },
            "colorscale": [
             [
              0,
              "#0d0887"
             ],
             [
              0.1111111111111111,
              "#46039f"
             ],
             [
              0.2222222222222222,
              "#7201a8"
             ],
             [
              0.3333333333333333,
              "#9c179e"
             ],
             [
              0.4444444444444444,
              "#bd3786"
             ],
             [
              0.5555555555555556,
              "#d8576b"
             ],
             [
              0.6666666666666666,
              "#ed7953"
             ],
             [
              0.7777777777777778,
              "#fb9f3a"
             ],
             [
              0.8888888888888888,
              "#fdca26"
             ],
             [
              1,
              "#f0f921"
             ]
            ],
            "type": "histogram2dcontour"
           }
          ],
          "mesh3d": [
           {
            "colorbar": {
             "outlinewidth": 0,
             "ticks": ""
            },
            "type": "mesh3d"
           }
          ],
          "parcoords": [
           {
            "line": {
             "colorbar": {
              "outlinewidth": 0,
              "ticks": ""
             }
            },
            "type": "parcoords"
           }
          ],
          "pie": [
           {
            "automargin": true,
            "type": "pie"
           }
          ],
          "scatter": [
           {
            "fillpattern": {
             "fillmode": "overlay",
             "size": 10,
             "solidity": 0.2
            },
            "type": "scatter"
           }
          ],
          "scatter3d": [
           {
            "line": {
             "colorbar": {
              "outlinewidth": 0,
              "ticks": ""
             }
            },
            "marker": {
             "colorbar": {
              "outlinewidth": 0,
              "ticks": ""
             }
            },
            "type": "scatter3d"
           }
          ],
          "scattercarpet": [
           {
            "marker": {
             "colorbar": {
              "outlinewidth": 0,
              "ticks": ""
             }
            },
            "type": "scattercarpet"
           }
          ],
          "scattergeo": [
           {
            "marker": {
             "colorbar": {
              "outlinewidth": 0,
              "ticks": ""
             }
            },
            "type": "scattergeo"
           }
          ],
          "scattergl": [
           {
            "marker": {
             "colorbar": {
              "outlinewidth": 0,
              "ticks": ""
             }
            },
            "type": "scattergl"
           }
          ],
          "scattermap": [
           {
            "marker": {
             "colorbar": {
              "outlinewidth": 0,
              "ticks": ""
             }
            },
            "type": "scattermap"
           }
          ],
          "scattermapbox": [
           {
            "marker": {
             "colorbar": {
              "outlinewidth": 0,
              "ticks": ""
             }
            },
            "type": "scattermapbox"
           }
          ],
          "scatterpolar": [
           {
            "marker": {
             "colorbar": {
              "outlinewidth": 0,
              "ticks": ""
             }
            },
            "type": "scatterpolar"
           }
          ],
          "scatterpolargl": [
           {
            "marker": {
             "colorbar": {
              "outlinewidth": 0,
              "ticks": ""
             }
            },
            "type": "scatterpolargl"
           }
          ],
          "scatterternary": [
           {
            "marker": {
             "colorbar": {
              "outlinewidth": 0,
              "ticks": ""
             }
            },
            "type": "scatterternary"
           }
          ],
          "surface": [
           {
            "colorbar": {
             "outlinewidth": 0,
             "ticks": ""
            },
            "colorscale": [
             [
              0,
              "#0d0887"
             ],
             [
              0.1111111111111111,
              "#46039f"
             ],
             [
              0.2222222222222222,
              "#7201a8"
             ],
             [
              0.3333333333333333,
              "#9c179e"
             ],
             [
              0.4444444444444444,
              "#bd3786"
             ],
             [
              0.5555555555555556,
              "#d8576b"
             ],
             [
              0.6666666666666666,
              "#ed7953"
             ],
             [
              0.7777777777777778,
              "#fb9f3a"
             ],
             [
              0.8888888888888888,
              "#fdca26"
             ],
             [
              1,
              "#f0f921"
             ]
            ],
            "type": "surface"
           }
          ],
          "table": [
           {
            "cells": {
             "fill": {
              "color": "#EBF0F8"
             },
             "line": {
              "color": "white"
             }
            },
            "header": {
             "fill": {
              "color": "#C8D4E3"
             },
             "line": {
              "color": "white"
             }
            },
            "type": "table"
           }
          ]
         },
         "layout": {
          "annotationdefaults": {
           "arrowcolor": "#2a3f5f",
           "arrowhead": 0,
           "arrowwidth": 1
          },
          "autotypenumbers": "strict",
          "coloraxis": {
           "colorbar": {
            "outlinewidth": 0,
            "ticks": ""
           }
          },
          "colorscale": {
           "diverging": [
            [
             0,
             "#8e0152"
            ],
            [
             0.1,
             "#c51b7d"
            ],
            [
             0.2,
             "#de77ae"
            ],
            [
             0.3,
             "#f1b6da"
            ],
            [
             0.4,
             "#fde0ef"
            ],
            [
             0.5,
             "#f7f7f7"
            ],
            [
             0.6,
             "#e6f5d0"
            ],
            [
             0.7,
             "#b8e186"
            ],
            [
             0.8,
             "#7fbc41"
            ],
            [
             0.9,
             "#4d9221"
            ],
            [
             1,
             "#276419"
            ]
           ],
           "sequential": [
            [
             0,
             "#0d0887"
            ],
            [
             0.1111111111111111,
             "#46039f"
            ],
            [
             0.2222222222222222,
             "#7201a8"
            ],
            [
             0.3333333333333333,
             "#9c179e"
            ],
            [
             0.4444444444444444,
             "#bd3786"
            ],
            [
             0.5555555555555556,
             "#d8576b"
            ],
            [
             0.6666666666666666,
             "#ed7953"
            ],
            [
             0.7777777777777778,
             "#fb9f3a"
            ],
            [
             0.8888888888888888,
             "#fdca26"
            ],
            [
             1,
             "#f0f921"
            ]
           ],
           "sequentialminus": [
            [
             0,
             "#0d0887"
            ],
            [
             0.1111111111111111,
             "#46039f"
            ],
            [
             0.2222222222222222,
             "#7201a8"
            ],
            [
             0.3333333333333333,
             "#9c179e"
            ],
            [
             0.4444444444444444,
             "#bd3786"
            ],
            [
             0.5555555555555556,
             "#d8576b"
            ],
            [
             0.6666666666666666,
             "#ed7953"
            ],
            [
             0.7777777777777778,
             "#fb9f3a"
            ],
            [
             0.8888888888888888,
             "#fdca26"
            ],
            [
             1,
             "#f0f921"
            ]
           ]
          },
          "colorway": [
           "#636efa",
           "#EF553B",
           "#00cc96",
           "#ab63fa",
           "#FFA15A",
           "#19d3f3",
           "#FF6692",
           "#B6E880",
           "#FF97FF",
           "#FECB52"
          ],
          "font": {
           "color": "#2a3f5f"
          },
          "geo": {
           "bgcolor": "white",
           "lakecolor": "white",
           "landcolor": "#E5ECF6",
           "showlakes": true,
           "showland": true,
           "subunitcolor": "white"
          },
          "hoverlabel": {
           "align": "left"
          },
          "hovermode": "closest",
          "mapbox": {
           "style": "light"
          },
          "paper_bgcolor": "white",
          "plot_bgcolor": "#E5ECF6",
          "polar": {
           "angularaxis": {
            "gridcolor": "white",
            "linecolor": "white",
            "ticks": ""
           },
           "bgcolor": "#E5ECF6",
           "radialaxis": {
            "gridcolor": "white",
            "linecolor": "white",
            "ticks": ""
           }
          },
          "scene": {
           "xaxis": {
            "backgroundcolor": "#E5ECF6",
            "gridcolor": "white",
            "gridwidth": 2,
            "linecolor": "white",
            "showbackground": true,
            "ticks": "",
            "zerolinecolor": "white"
           },
           "yaxis": {
            "backgroundcolor": "#E5ECF6",
            "gridcolor": "white",
            "gridwidth": 2,
            "linecolor": "white",
            "showbackground": true,
            "ticks": "",
            "zerolinecolor": "white"
           },
           "zaxis": {
            "backgroundcolor": "#E5ECF6",
            "gridcolor": "white",
            "gridwidth": 2,
            "linecolor": "white",
            "showbackground": true,
            "ticks": "",
            "zerolinecolor": "white"
           }
          },
          "shapedefaults": {
           "line": {
            "color": "#2a3f5f"
           }
          },
          "ternary": {
           "aaxis": {
            "gridcolor": "white",
            "linecolor": "white",
            "ticks": ""
           },
           "baxis": {
            "gridcolor": "white",
            "linecolor": "white",
            "ticks": ""
           },
           "bgcolor": "#E5ECF6",
           "caxis": {
            "gridcolor": "white",
            "linecolor": "white",
            "ticks": ""
           }
          },
          "title": {
           "x": 0.05
          },
          "xaxis": {
           "automargin": true,
           "gridcolor": "white",
           "linecolor": "white",
           "ticks": "",
           "title": {
            "standoff": 15
           },
           "zerolinecolor": "white",
           "zerolinewidth": 2
          },
          "yaxis": {
           "automargin": true,
           "gridcolor": "white",
           "linecolor": "white",
           "ticks": "",
           "title": {
            "standoff": 15
           },
           "zerolinecolor": "white",
           "zerolinewidth": 2
          }
         }
        },
        "title": {
         "text": "Mapa de calor mundial"
        }
       }
      }
     },
     "metadata": {},
     "output_type": "display_data"
    }
   ],
   "source": [
    "# Ejmplo usando plotly\n",
    "\n",
    "fig = px.choropleth(\n",
    "    df,\n",
    "    locations=\"iso_alpha\",\n",
    "    locationmode=\"ISO-3\",\n",
    "    color=\"All_adults_Obesity\",\n",
    "    color_continuous_scale=\"blues\",\n",
    "    title=\"Mapa de calor mundial\"\n",
    ")\n",
    "fig.show()"
   ]
  }
 ],
 "metadata": {
  "kernelspec": {
   "display_name": ".venv (3.12.6)",
   "language": "python",
   "name": "python3"
  },
  "language_info": {
   "codemirror_mode": {
    "name": "ipython",
    "version": 3
   },
   "file_extension": ".py",
   "mimetype": "text/x-python",
   "name": "python",
   "nbconvert_exporter": "python",
   "pygments_lexer": "ipython3",
   "version": "3.12.6"
  }
 },
 "nbformat": 4,
 "nbformat_minor": 5
}
